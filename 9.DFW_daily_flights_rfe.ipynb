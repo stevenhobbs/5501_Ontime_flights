{
 "cells": [
  {
   "cell_type": "code",
   "execution_count": 6,
   "metadata": {},
   "outputs": [],
   "source": [
    "# INTRODUCTION\n"
   ]
  },
  {
   "cell_type": "markdown",
   "metadata": {},
   "source": [
    "## Libraries"
   ]
  },
  {
   "cell_type": "code",
   "execution_count": 15,
   "metadata": {},
   "outputs": [],
   "source": [
    "import os\n",
    "import pandas as pd\n",
    "import numpy as np\n",
    "\n",
    "from sklearn.model_selection import train_test_split\n",
    "from sklearn.ensemble import RandomForestRegressor\n",
    "from sklearn.linear_model import Lasso, Ridge\n",
    "from sklearn.metrics import r2_score\n",
    "from sklearn.pipeline import make_pipeline\n",
    "from sklearn.preprocessing import StandardScaler\n",
    "from sklearn.model_selection import GridSearchCV\n",
    "from sklearn.compose import ColumnTransformer\n",
    "from sklearn.preprocessing import OneHotEncoder\n",
    "\n",
    "DAILY_DATA_PATH = \"data.v3/daily\" "
   ]
  },
  {
   "cell_type": "markdown",
   "metadata": {},
   "source": [
    "## Import data & column groups"
   ]
  },
  {
   "cell_type": "code",
   "execution_count": 8,
   "metadata": {},
   "outputs": [],
   "source": [
    "df = pd.read_parquet(os.path.join(DAILY_DATA_PATH, \"daily_flights_and_weather_merged.parquet\"))\n",
    "\n",
    "# Flights column groups\n",
    "flights_terminal_cols = ['flights_arr_A', 'flights_arr_B', 'flights_arr_C', 'flights_arr_D', 'flights_arr_E',\n",
    "                         'flights_dep_A', 'flights_dep_B', 'flights_dep_C', 'flights_dep_D', 'flights_dep_E']\n",
    "\n",
    "flights_non_terminal_cols = ['flights_total', 'flights_cancel', 'flights_delay', 'flights_ontime',\n",
    "                             'flights_arr_ontime', 'flights_arr_delay', 'flights_arr_cancel',\n",
    "                             'flights_dep_ontime', 'flights_dep_delay', 'flights_dep_cancel']\n",
    "\n",
    "flights_percentage_cols = ['flights_cancel_pct', 'flights_delay_pct', 'flights_ontime_pct',\n",
    "                            'flights_arr_delay_pct', 'flights_arr_ontime_pct', 'flights_arr_cancel_pct',\n",
    "                            'flights_dep_delay_pct', 'flights_dep_ontime_pct', 'flights_dep_cancel_pct']\n",
    "\n",
    "# Date column groups\n",
    "date_cols = ['date', 'covid', 'ordinal_date', 'year', 'month', 'day_of_month', 'day_of_week', 'season', 'holiday', 'halloween', 'xmas_eve', 'new_years_eve', 'jan_2', 'jan_3', 'day_before_easter', 'days_until_xmas', 'days_until_thanksgiving', 'days_until_july_4th', 'days_until_labor_day', 'days_until_memorial_day']\n",
    "\n",
    "# Weather column groups\n",
    "weather_cols = ['wx_temperature_max', 'wx_temperature_min', 'wx_apcp', 'wx_prate', 'wx_asnow', 'wx_frozr', 'wx_vis', 'wx_gust', 'wx_maxref', 'wx_cape', 'wx_lftx', 'wx_wind_speed', 'wx_wind_direction']\n",
    "\n",
    "# Lag column groups\n",
    "lag_cols =  ['flights_total_lag_1', 'flights_total_lag_2', 'flights_total_lag_3', 'flights_total_lag_4', 'flights_total_lag_5', 'flights_total_lag_6', 'flights_total_lag_7', 'flights_cancel_lag_1', 'flights_cancel_lag_2', 'flights_cancel_lag_3', 'flights_cancel_lag_4', 'flights_cancel_lag_5', 'flights_cancel_lag_6', 'flights_cancel_lag_7']"
   ]
  },
  {
   "cell_type": "markdown",
   "metadata": {},
   "source": [
    "# DATA PREPROCESSING"
   ]
  },
  {
   "cell_type": "markdown",
   "metadata": {},
   "source": [
    "## Train Test Split"
   ]
  },
  {
   "cell_type": "code",
   "execution_count": 9,
   "metadata": {},
   "outputs": [
    {
     "name": "stdout",
     "output_type": "stream",
     "text": [
      "['random', 'covid', 'ordinal_date', 'year', 'month', 'day_of_month', 'day_of_week', 'season', 'holiday', 'halloween', 'xmas_eve', 'new_years_eve', 'jan_2', 'jan_3', 'day_before_easter', 'days_until_xmas', 'days_until_thanksgiving', 'days_until_july_4th', 'days_until_labor_day', 'days_until_memorial_day', 'wx_temperature_max', 'wx_temperature_min', 'wx_apcp', 'wx_prate', 'wx_asnow', 'wx_frozr', 'wx_vis', 'wx_gust', 'wx_maxref', 'wx_cape', 'wx_lftx', 'wx_wind_speed', 'wx_wind_direction', 'flights_total_lag_1', 'flights_total_lag_2', 'flights_total_lag_3', 'flights_total_lag_4', 'flights_total_lag_5', 'flights_total_lag_6', 'flights_total_lag_7', 'flights_cancel_lag_1', 'flights_cancel_lag_2', 'flights_cancel_lag_3', 'flights_cancel_lag_4', 'flights_cancel_lag_5', 'flights_cancel_lag_6', 'flights_cancel_lag_7']\n",
      "\n",
      "Target columns\n",
      "             flights_total  flights_cancel  flights_delay  flights_ontime  \\\n",
      "2018-07-20         1898.0            24.0          430.0          1444.0   \n",
      "2018-07-21         1784.0            30.0          364.0          1390.0   \n",
      "2018-07-22         1850.0            18.0          362.0          1470.0   \n",
      "2018-07-23         1893.0            48.0          430.0          1415.0   \n",
      "2018-07-24         1858.0            14.0          416.0          1428.0   \n",
      "\n",
      "            flights_arr_ontime  flights_arr_delay  flights_arr_cancel  \\\n",
      "2018-07-20               754.0              177.0                11.0   \n",
      "2018-07-21               735.0              140.0                15.0   \n",
      "2018-07-22               755.0              150.0                11.0   \n",
      "2018-07-23               727.0              196.0                24.0   \n",
      "2018-07-24               738.0              180.0                 7.0   \n",
      "\n",
      "            flights_dep_ontime  flights_dep_delay  flights_dep_cancel  \\\n",
      "2018-07-20               690.0              253.0                13.0   \n",
      "2018-07-21               655.0              224.0                15.0   \n",
      "2018-07-22               715.0              212.0                 7.0   \n",
      "2018-07-23               688.0              234.0                24.0   \n",
      "2018-07-24               690.0              236.0                 7.0   \n",
      "\n",
      "            flights_cancel_pct  flights_delay_pct  flights_ontime_pct  \\\n",
      "2018-07-20            1.264489          22.655427           76.080084   \n",
      "2018-07-21            1.681614          20.403587           77.914798   \n",
      "2018-07-22            0.972973          19.567568           79.459459   \n",
      "2018-07-23            2.535658          22.715267           74.749076   \n",
      "2018-07-24            0.753498          22.389666           76.856835   \n",
      "\n",
      "            flights_arr_delay_pct  flights_arr_ontime_pct  \\\n",
      "2018-07-20              18.789809               80.042463   \n",
      "2018-07-21              15.730337               82.584270   \n",
      "2018-07-22              16.375546               82.423581   \n",
      "2018-07-23              20.696938               76.768743   \n",
      "2018-07-24              19.459459               79.783784   \n",
      "\n",
      "            flights_arr_cancel_pct  flights_dep_delay_pct  \\\n",
      "2018-07-20                1.167728              26.464435   \n",
      "2018-07-21                1.685393              25.055928   \n",
      "2018-07-22                1.200873              22.698073   \n",
      "2018-07-23                2.534319              24.735729   \n",
      "2018-07-24                0.756757              25.294748   \n",
      "\n",
      "            flights_dep_ontime_pct  flights_dep_cancel_pct  \n",
      "2018-07-20               72.175732                1.359833  \n",
      "2018-07-21               73.266219                1.677852  \n",
      "2018-07-22               76.552463                0.749465  \n",
      "2018-07-23               72.727273                2.536998  \n",
      "2018-07-24               73.954984                0.750268  \n",
      "X_train_full shape: (1516, 47)\n",
      "y_train_full shape: (1516, 19)\n",
      "X_train shape: (1364, 47)\n",
      "y_train shape: (1364, 19)\n",
      "X_Test shape: (169, 47)\n"
     ]
    }
   ],
   "source": [
    "# Select training features\n",
    "train_features = ['random'] + date_cols + weather_cols + lag_cols\n",
    "\n",
    "# Create X and y\n",
    "X = df[train_features].drop('date', axis=1)\n",
    "y = df[flights_non_terminal_cols + flights_percentage_cols]\n",
    "\n",
    "print(X.columns.tolist())\n",
    "print(\"\\nTarget columns\\n\", y.head())\n",
    "\n",
    "# Split data into train and test sets\n",
    "X_train_full, X_test, y_train_full, y_test = train_test_split(X, y, test_size=0.1, random_state=42)\n",
    "\n",
    "# Split data into train and validation sets\n",
    "X_train, X_val, y_train, y_val = train_test_split(X_train_full, y_train_full, test_size=0.1, random_state=42)\n",
    "\n",
    "# Print shapes\n",
    "print(\"X_train_full shape:\", X_train_full.shape)\n",
    "print(\"y_train_full shape:\", y_train_full.shape)\n",
    "print(\"X_train shape:\", X_train.shape)\n",
    "print(\"y_train shape:\", y_train.shape)\n",
    "print(\"X_Test shape:\", X_test.shape)\n"
   ]
  },
  {
   "cell_type": "markdown",
   "metadata": {},
   "source": [
    "## Column transformers"
   ]
  },
  {
   "cell_type": "code",
   "execution_count": 10,
   "metadata": {},
   "outputs": [
    {
     "name": "stdout",
     "output_type": "stream",
     "text": [
      "float64    23\n",
      "object     11\n",
      "int64       7\n",
      "float32     4\n",
      "int32       2\n",
      "Name: count, dtype: int64\n",
      "categorical columns: ['covid', 'month', 'day_of_week', 'season', 'holiday', 'halloween', 'xmas_eve', 'new_years_eve', 'jan_2', 'jan_3', 'day_before_easter']\n",
      "numeric columns: ['random', 'ordinal_date', 'year', 'day_of_month', 'days_until_xmas', 'days_until_thanksgiving', 'days_until_july_4th', 'days_until_labor_day', 'days_until_memorial_day', 'wx_temperature_max', 'wx_temperature_min', 'wx_apcp', 'wx_prate', 'wx_asnow', 'wx_frozr', 'wx_vis', 'wx_gust', 'wx_maxref', 'wx_cape', 'wx_lftx', 'wx_wind_speed', 'wx_wind_direction', 'flights_total_lag_1', 'flights_total_lag_2', 'flights_total_lag_3', 'flights_total_lag_4', 'flights_total_lag_5', 'flights_total_lag_6', 'flights_total_lag_7', 'flights_cancel_lag_1', 'flights_cancel_lag_2', 'flights_cancel_lag_3', 'flights_cancel_lag_4', 'flights_cancel_lag_5', 'flights_cancel_lag_6', 'flights_cancel_lag_7']\n",
      "True\n"
     ]
    }
   ],
   "source": [
    "categorical_tranformer = make_pipeline(OneHotEncoder(handle_unknown='ignore')) # Some observed holidays may not be in the training data\n",
    "numeric_transformer = make_pipeline(StandardScaler())\n",
    "\n",
    "# print value counts of unique data types in X\n",
    "print(X.dtypes.value_counts())\n",
    "\n",
    "# Identify categorical and numeric columns in X_train_full\n",
    "categorical_cols = X.select_dtypes(include=['object', 'category']).columns.tolist()\n",
    "numeric_cols = X.select_dtypes(include = ['float64', 'float32', 'int32', 'int64']).columns.tolist()\n",
    "\n",
    "# Check that all columns are accounted for\n",
    "print(f\"categorical columns: {categorical_cols}\")\n",
    "print(f\"numeric columns: {numeric_cols}\")\n",
    "print(len(categorical_cols) + len(numeric_cols) == X_train_full.shape[1])\n",
    "\n",
    "# Linear regression transformer\n",
    "LR__transformer = ColumnTransformer(\n",
    "    transformers=[\n",
    "        ('cat', categorical_tranformer, categorical_cols),\n",
    "        ('num', numeric_transformer, numeric_cols)\n",
    "    ])"
   ]
  },
  {
   "cell_type": "markdown",
   "metadata": {},
   "source": [
    "## RECURSIVE FEATURE ELIMINATION"
   ]
  },
  {
   "cell_type": "code",
   "execution_count": 13,
   "metadata": {},
   "outputs": [
    {
     "name": "stdout",
     "output_type": "stream",
     "text": [
      "Number of features before transformation: 47\n",
      "Number of features after transformation: 89\n",
      "NaNs in transformed data: 0\n",
      "Infinite values in transformed data: 0\n"
     ]
    }
   ],
   "source": [
    "# Recursive feature elimination with cross-validation\n",
    "from sklearn.feature_selection import RFECV\n",
    "from sklearn.model_selection import StratifiedKFold\n",
    "from sklearn.linear_model import LinearRegression\n",
    "\n",
    "# RFE transformer\n",
    "rfe__transformer = ColumnTransformer(\n",
    "    transformers=[\n",
    "        ('cat', categorical_tranformer, categorical_cols),\n",
    "        ('num', numeric_transformer, numeric_cols)\n",
    "    ])\n",
    "\n",
    "# Transform X_train\n",
    "X_train_transformed = rfe__transformer.fit_transform(X_train)\n",
    "\n",
    "# Number of features before transformation\n",
    "print(f\"Number of features before transformation: {X_train.shape[1]}\")\n",
    "\n",
    "# Number of features after transformation\n",
    "print(f\"Number of features after transformation: {X_train_transformed.shape[1]}\")\n",
    "# print(f\"Number of features after transformation: {RFE_flights_ontime.named_steps['columntransformer'].transform(X_train_full).shape[1]}\")\n",
    "\n",
    "# Check for NaNs and infite values in transformed data\n",
    "print(\"NaNs in transformed data:\", np.isnan(X_train_transformed).sum())\n",
    "print(\"Infinite values in transformed data:\", np.isinf(X_train_transformed).sum())"
   ]
  },
  {
   "cell_type": "markdown",
   "metadata": {},
   "source": [
    "## FIT RFE PIPELINES USING estimator=RandomForestRegressor WITH GRID SEARCH CV"
   ]
  },
  {
   "cell_type": "markdown",
   "metadata": {},
   "source": [
    "*I eventually abandoned the effort to reduce features for linear regression and decision trees using RFE. Using estimator=RandomForestRegressor with RFE is too slow to tune and unnecessary for Random Forest regression, which is already robust to irrelevant features. Using estimator=LinearRegression is fast but produces an initial flat, near zero cross validation error for about 20 features, then becomes divergent for about 20 features, and then returns to flat. The flat initial performance suggests that the initial set of features provides limited predictive power in linear regression. This may be due to weak correlations with the target variable and limited ability of linear regression to model the data. On the other hand, lasso regression produces decent r squared values and a sensible collection of retained features. Possibly, the RFE implmentation is not optimal.*"
   ]
  },
  {
   "cell_type": "code",
   "execution_count": 16,
   "metadata": {},
   "outputs": [
    {
     "name": "stdout",
     "output_type": "stream",
     "text": [
      "RFE_flights_total created\n",
      "RFE_flights_cancel created\n",
      "RFE_flights_delay created\n",
      "RFE_flights_ontime created\n",
      "RFE_flights_arr_ontime created\n",
      "RFE_flights_arr_delay created\n",
      "RFE_flights_arr_cancel created\n",
      "RFE_flights_dep_ontime created\n",
      "RFE_flights_dep_delay created\n",
      "RFE_flights_dep_cancel created\n",
      "RFE_flights_cancel_pct created\n",
      "RFE_flights_delay_pct created\n",
      "RFE_flights_ontime_pct created\n",
      "RFE_flights_arr_delay_pct created\n",
      "RFE_flights_arr_ontime_pct created\n",
      "RFE_flights_arr_cancel_pct created\n",
      "RFE_flights_dep_delay_pct created\n",
      "RFE_flights_dep_ontime_pct created\n",
      "RFE_flights_dep_cancel_pct created\n",
      "Fitting 5 folds for each of 9 candidates, totalling 45 fits\n"
     ]
    },
    {
     "name": "stderr",
     "output_type": "stream",
     "text": [
      "/Users/shobbs/.local/share/virtualenvs/prediction-rTmYhf-l/lib/python3.11/site-packages/sklearn/ensemble/_forest.py:1002: RuntimeWarning: invalid value encountered in divide\n",
      "  y_hat /= len(self.estimators_)\n",
      "/Users/shobbs/.local/share/virtualenvs/prediction-rTmYhf-l/lib/python3.11/site-packages/sklearn/ensemble/_forest.py:1002: RuntimeWarning: invalid value encountered in divide\n",
      "  y_hat /= len(self.estimators_)\n",
      "/Users/shobbs/.local/share/virtualenvs/prediction-rTmYhf-l/lib/python3.11/site-packages/sklearn/ensemble/_forest.py:1002: RuntimeWarning: invalid value encountered in divide\n",
      "  y_hat /= len(self.estimators_)\n",
      "/Users/shobbs/.local/share/virtualenvs/prediction-rTmYhf-l/lib/python3.11/site-packages/sklearn/ensemble/_forest.py:1002: RuntimeWarning: invalid value encountered in divide\n",
      "  y_hat /= len(self.estimators_)\n",
      "/Users/shobbs/.local/share/virtualenvs/prediction-rTmYhf-l/lib/python3.11/site-packages/sklearn/ensemble/_forest.py:1002: RuntimeWarning: invalid value encountered in divide\n",
      "  y_hat /= len(self.estimators_)\n",
      "/Users/shobbs/.local/share/virtualenvs/prediction-rTmYhf-l/lib/python3.11/site-packages/sklearn/ensemble/_forest.py:1002: RuntimeWarning: invalid value encountered in divide\n",
      "  y_hat /= len(self.estimators_)\n",
      "/Users/shobbs/.local/share/virtualenvs/prediction-rTmYhf-l/lib/python3.11/site-packages/sklearn/ensemble/_forest.py:1002: RuntimeWarning: invalid value encountered in divide\n",
      "  y_hat /= len(self.estimators_)\n",
      "/Users/shobbs/.local/share/virtualenvs/prediction-rTmYhf-l/lib/python3.11/site-packages/sklearn/ensemble/_forest.py:1002: RuntimeWarning: invalid value encountered in divide\n",
      "  y_hat /= len(self.estimators_)\n",
      "/Users/shobbs/.local/share/virtualenvs/prediction-rTmYhf-l/lib/python3.11/site-packages/sklearn/ensemble/_forest.py:1002: RuntimeWarning: invalid value encountered in divide\n",
      "  y_hat /= len(self.estimators_)\n",
      "/Users/shobbs/.local/share/virtualenvs/prediction-rTmYhf-l/lib/python3.11/site-packages/sklearn/ensemble/_forest.py:1002: RuntimeWarning: invalid value encountered in divide\n",
      "  y_hat /= len(self.estimators_)\n",
      "/Users/shobbs/.local/share/virtualenvs/prediction-rTmYhf-l/lib/python3.11/site-packages/sklearn/ensemble/_forest.py:1002: RuntimeWarning: invalid value encountered in divide\n",
      "  y_hat /= len(self.estimators_)\n",
      "/Users/shobbs/.local/share/virtualenvs/prediction-rTmYhf-l/lib/python3.11/site-packages/sklearn/ensemble/_forest.py:1002: RuntimeWarning: invalid value encountered in divide\n",
      "  y_hat /= len(self.estimators_)\n",
      "/Users/shobbs/.local/share/virtualenvs/prediction-rTmYhf-l/lib/python3.11/site-packages/sklearn/ensemble/_forest.py:1002: RuntimeWarning: invalid value encountered in divide\n",
      "  y_hat /= len(self.estimators_)\n",
      "/Users/shobbs/.local/share/virtualenvs/prediction-rTmYhf-l/lib/python3.11/site-packages/sklearn/ensemble/_forest.py:1002: RuntimeWarning: invalid value encountered in divide\n",
      "  y_hat /= len(self.estimators_)\n",
      "/Users/shobbs/.local/share/virtualenvs/prediction-rTmYhf-l/lib/python3.11/site-packages/sklearn/ensemble/_forest.py:1002: RuntimeWarning: invalid value encountered in divide\n",
      "  y_hat /= len(self.estimators_)\n",
      "/Users/shobbs/.local/share/virtualenvs/prediction-rTmYhf-l/lib/python3.11/site-packages/sklearn/ensemble/_forest.py:1002: RuntimeWarning: invalid value encountered in divide\n",
      "  y_hat /= len(self.estimators_)\n",
      "/Users/shobbs/.local/share/virtualenvs/prediction-rTmYhf-l/lib/python3.11/site-packages/sklearn/ensemble/_forest.py:1002: RuntimeWarning: invalid value encountered in divide\n",
      "  y_hat /= len(self.estimators_)\n",
      "/Users/shobbs/.local/share/virtualenvs/prediction-rTmYhf-l/lib/python3.11/site-packages/sklearn/ensemble/_forest.py:1002: RuntimeWarning: invalid value encountered in divide\n",
      "  y_hat /= len(self.estimators_)\n",
      "/Users/shobbs/.local/share/virtualenvs/prediction-rTmYhf-l/lib/python3.11/site-packages/sklearn/ensemble/_forest.py:1002: RuntimeWarning: invalid value encountered in divide\n",
      "  y_hat /= len(self.estimators_)\n",
      "/Users/shobbs/.local/share/virtualenvs/prediction-rTmYhf-l/lib/python3.11/site-packages/sklearn/ensemble/_forest.py:1002: RuntimeWarning: invalid value encountered in divide\n",
      "  y_hat /= len(self.estimators_)\n",
      "/Users/shobbs/.local/share/virtualenvs/prediction-rTmYhf-l/lib/python3.11/site-packages/sklearn/model_selection/_validation.py:425: FitFailedWarning: \n",
      "15 fits failed out of a total of 45.\n",
      "The score on these train-test partitions for these parameters will be set to nan.\n",
      "If these failures are not expected, you can try to debug them by setting error_score='raise'.\n",
      "\n",
      "Below are more details about the failures:\n",
      "--------------------------------------------------------------------------------\n",
      "15 fits failed with the following error:\n",
      "joblib.externals.loky.process_executor._RemoteTraceback: \n",
      "\"\"\"\n",
      "Traceback (most recent call last):\n",
      "  File \"/Users/shobbs/.local/share/virtualenvs/prediction-rTmYhf-l/lib/python3.11/site-packages/joblib/_parallel_backends.py\", line 273, in _wrap_func_call\n",
      "    return func()\n",
      "           ^^^^^^\n",
      "  File \"/Users/shobbs/.local/share/virtualenvs/prediction-rTmYhf-l/lib/python3.11/site-packages/joblib/parallel.py\", line 589, in __call__\n",
      "    return [func(*args, **kwargs)\n",
      "           ^^^^^^^^^^^^^^^^^^^^^^\n",
      "  File \"/Users/shobbs/.local/share/virtualenvs/prediction-rTmYhf-l/lib/python3.11/site-packages/joblib/parallel.py\", line 589, in <listcomp>\n",
      "    return [func(*args, **kwargs)\n",
      "            ^^^^^^^^^^^^^^^^^^^^^\n",
      "  File \"/Users/shobbs/.local/share/virtualenvs/prediction-rTmYhf-l/lib/python3.11/site-packages/sklearn/utils/parallel.py\", line 127, in __call__\n",
      "    return self.function(*args, **kwargs)\n",
      "           ^^^^^^^^^^^^^^^^^^^^^^^^^^^^^^\n",
      "  File \"/Users/shobbs/.local/share/virtualenvs/prediction-rTmYhf-l/lib/python3.11/site-packages/sklearn/feature_selection/_rfe.py\", line 32, in _rfe_single_fit\n",
      "    return rfe._fit(\n",
      "           ^^^^^^^^^\n",
      "  File \"/Users/shobbs/.local/share/virtualenvs/prediction-rTmYhf-l/lib/python3.11/site-packages/sklearn/feature_selection/_rfe.py\", line 328, in _fit\n",
      "    self.scores_.append(step_score(self.estimator_, features))\n",
      "                        ^^^^^^^^^^^^^^^^^^^^^^^^^^^^^^^^^^^^^\n",
      "  File \"/Users/shobbs/.local/share/virtualenvs/prediction-rTmYhf-l/lib/python3.11/site-packages/sklearn/feature_selection/_rfe.py\", line 35, in <lambda>\n",
      "    lambda estimator, features: _score(\n",
      "                                ^^^^^^^\n",
      "  File \"/Users/shobbs/.local/share/virtualenvs/prediction-rTmYhf-l/lib/python3.11/site-packages/sklearn/model_selection/_validation.py\", line 810, in _score\n",
      "    scores = scorer(estimator, X_test, y_test)\n",
      "             ^^^^^^^^^^^^^^^^^^^^^^^^^^^^^^^^^\n",
      "  File \"/Users/shobbs/.local/share/virtualenvs/prediction-rTmYhf-l/lib/python3.11/site-packages/sklearn/metrics/_scorer.py\", line 266, in __call__\n",
      "    return self._score(partial(_cached_call, None), estimator, X, y_true, **_kwargs)\n",
      "           ^^^^^^^^^^^^^^^^^^^^^^^^^^^^^^^^^^^^^^^^^^^^^^^^^^^^^^^^^^^^^^^^^^^^^^^^^\n",
      "  File \"/Users/shobbs/.local/share/virtualenvs/prediction-rTmYhf-l/lib/python3.11/site-packages/sklearn/metrics/_scorer.py\", line 355, in _score\n",
      "    return self._sign * self._score_func(y_true, y_pred, **scoring_kwargs)\n",
      "                        ^^^^^^^^^^^^^^^^^^^^^^^^^^^^^^^^^^^^^^^^^^^^^^^^^^\n",
      "  File \"/Users/shobbs/.local/share/virtualenvs/prediction-rTmYhf-l/lib/python3.11/site-packages/sklearn/utils/_param_validation.py\", line 214, in wrapper\n",
      "    return func(*args, **kwargs)\n",
      "           ^^^^^^^^^^^^^^^^^^^^^\n",
      "  File \"/Users/shobbs/.local/share/virtualenvs/prediction-rTmYhf-l/lib/python3.11/site-packages/sklearn/metrics/_regression.py\", line 204, in mean_absolute_error\n",
      "    y_type, y_true, y_pred, multioutput = _check_reg_targets(\n",
      "                                          ^^^^^^^^^^^^^^^^^^^\n",
      "  File \"/Users/shobbs/.local/share/virtualenvs/prediction-rTmYhf-l/lib/python3.11/site-packages/sklearn/metrics/_regression.py\", line 101, in _check_reg_targets\n",
      "    y_pred = check_array(y_pred, ensure_2d=False, dtype=dtype)\n",
      "             ^^^^^^^^^^^^^^^^^^^^^^^^^^^^^^^^^^^^^^^^^^^^^^^^^\n",
      "  File \"/Users/shobbs/.local/share/virtualenvs/prediction-rTmYhf-l/lib/python3.11/site-packages/sklearn/utils/validation.py\", line 957, in check_array\n",
      "    _assert_all_finite(\n",
      "  File \"/Users/shobbs/.local/share/virtualenvs/prediction-rTmYhf-l/lib/python3.11/site-packages/sklearn/utils/validation.py\", line 122, in _assert_all_finite\n",
      "    _assert_all_finite_element_wise(\n",
      "  File \"/Users/shobbs/.local/share/virtualenvs/prediction-rTmYhf-l/lib/python3.11/site-packages/sklearn/utils/validation.py\", line 171, in _assert_all_finite_element_wise\n",
      "    raise ValueError(msg_err)\n",
      "ValueError: Input contains NaN.\n",
      "\"\"\"\n",
      "\n",
      "The above exception was the direct cause of the following exception:\n",
      "\n",
      "Traceback (most recent call last):\n",
      "  File \"/Users/shobbs/.local/share/virtualenvs/prediction-rTmYhf-l/lib/python3.11/site-packages/sklearn/model_selection/_validation.py\", line 729, in _fit_and_score\n",
      "    estimator.fit(X_train, y_train, **fit_params)\n",
      "  File \"/Users/shobbs/.local/share/virtualenvs/prediction-rTmYhf-l/lib/python3.11/site-packages/sklearn/base.py\", line 1152, in wrapper\n",
      "    return fit_method(estimator, *args, **kwargs)\n",
      "           ^^^^^^^^^^^^^^^^^^^^^^^^^^^^^^^^^^^^^^\n",
      "  File \"/Users/shobbs/.local/share/virtualenvs/prediction-rTmYhf-l/lib/python3.11/site-packages/sklearn/pipeline.py\", line 427, in fit\n",
      "    self._final_estimator.fit(Xt, y, **fit_params_last_step)\n",
      "  File \"/Users/shobbs/.local/share/virtualenvs/prediction-rTmYhf-l/lib/python3.11/site-packages/sklearn/base.py\", line 1152, in wrapper\n",
      "    return fit_method(estimator, *args, **kwargs)\n",
      "           ^^^^^^^^^^^^^^^^^^^^^^^^^^^^^^^^^^^^^^\n",
      "  File \"/Users/shobbs/.local/share/virtualenvs/prediction-rTmYhf-l/lib/python3.11/site-packages/sklearn/feature_selection/_rfe.py\", line 726, in fit\n",
      "    scores = parallel(\n",
      "             ^^^^^^^^^\n",
      "  File \"/Users/shobbs/.local/share/virtualenvs/prediction-rTmYhf-l/lib/python3.11/site-packages/sklearn/utils/parallel.py\", line 65, in __call__\n",
      "    return super().__call__(iterable_with_config)\n",
      "           ^^^^^^^^^^^^^^^^^^^^^^^^^^^^^^^^^^^^^^\n",
      "  File \"/Users/shobbs/.local/share/virtualenvs/prediction-rTmYhf-l/lib/python3.11/site-packages/joblib/parallel.py\", line 1952, in __call__\n",
      "    return output if self.return_generator else list(output)\n",
      "                                                ^^^^^^^^^^^^\n",
      "  File \"/Users/shobbs/.local/share/virtualenvs/prediction-rTmYhf-l/lib/python3.11/site-packages/joblib/parallel.py\", line 1595, in _get_outputs\n",
      "    yield from self._retrieve()\n",
      "  File \"/Users/shobbs/.local/share/virtualenvs/prediction-rTmYhf-l/lib/python3.11/site-packages/joblib/parallel.py\", line 1699, in _retrieve\n",
      "    self._raise_error_fast()\n",
      "  File \"/Users/shobbs/.local/share/virtualenvs/prediction-rTmYhf-l/lib/python3.11/site-packages/joblib/parallel.py\", line 1734, in _raise_error_fast\n",
      "    error_job.get_result(self.timeout)\n",
      "  File \"/Users/shobbs/.local/share/virtualenvs/prediction-rTmYhf-l/lib/python3.11/site-packages/joblib/parallel.py\", line 736, in get_result\n",
      "    return self._return_or_raise()\n",
      "           ^^^^^^^^^^^^^^^^^^^^^^^\n",
      "  File \"/Users/shobbs/.local/share/virtualenvs/prediction-rTmYhf-l/lib/python3.11/site-packages/joblib/parallel.py\", line 754, in _return_or_raise\n",
      "    raise self._result\n",
      "ValueError: Input contains NaN.\n",
      "\n",
      "  warnings.warn(some_fits_failed_message, FitFailedWarning)\n",
      "/Users/shobbs/.local/share/virtualenvs/prediction-rTmYhf-l/lib/python3.11/site-packages/sklearn/model_selection/_search.py:979: UserWarning: One or more of the test scores are non-finite: [       nan        nan        nan 0.32423248        nan        nan\n",
      " 0.2412455         nan        nan]\n",
      "  warnings.warn(\n"
     ]
    },
    {
     "name": "stdout",
     "output_type": "stream",
     "text": [
      "Best parameters for flights_ontime RFE:\n",
      "{'rfecv__estimator__max_depth': 10, 'rfecv__estimator__n_estimators': 5}\n"
     ]
    }
   ],
   "source": [
    "# RFE estimators (one for each target)\n",
    "for target in y.columns.tolist():\n",
    "    globals()[f\"RFE_{target}\"] = make_pipeline(\n",
    "        rfe__transformer,\n",
    "        RFECV(estimator=RandomForestRegressor(), \n",
    "            step=1, \n",
    "            scoring='neg_mean_absolute_error', \n",
    "            min_features_to_select=1,\n",
    "            n_jobs=-1) # n_jobs=-1 means use all available CPU cores\n",
    "    )\n",
    "    print(f\"RFE_{target} created\")\n",
    "    \n",
    "# Grid Search for best parameters for RFE and estimator = RandomForestRegressor \n",
    "param_grid = {\n",
    "    'rfecv__estimator__n_estimators': [5, 10, 100],\n",
    "    'rfecv__estimator__max_depth': [5, 10, 20]\n",
    "}\n",
    "\n",
    "# Perform grid search for flights ontime\n",
    "ontime_grid_search = GridSearchCV(RFE_flights_ontime, param_grid, cv=5, n_jobs=-1, verbose=1)\n",
    "ontime_grid_search.fit(X_train_full, y_train_full['flights_ontime'])\n",
    "best_ontime_pipeline = ontime_grid_search.best_estimator_\n",
    "print(f\"Best parameters for flights_ontime RFE:\\n{ontime_grid_search.best_params_}\")"
   ]
  },
  {
   "cell_type": "markdown",
   "metadata": {},
   "source": [
    "### ONTIME FLIGHTS"
   ]
  },
  {
   "cell_type": "code",
   "execution_count": 17,
   "metadata": {},
   "outputs": [
    {
     "name": "stdout",
     "output_type": "stream",
     "text": [
      "20 out of 89 features selected for flights_ontime:\n",
      "['num__ordinal_date', 'num__day_of_month', 'num__days_until_thanksgiving', 'num__days_until_july_4th', 'num__wx_temperature_max', 'num__wx_temperature_min', 'num__wx_apcp', 'num__wx_prate', 'num__wx_gust', 'num__wx_maxref', 'num__wx_cape', 'num__wx_lftx', 'num__wx_wind_speed', 'num__flights_total_lag_1', 'num__flights_total_lag_2', 'num__flights_total_lag_3', 'num__flights_total_lag_4', 'num__flights_total_lag_7', 'num__flights_cancel_lag_1', 'num__flights_cancel_lag_2']\n"
     ]
    }
   ],
   "source": [
    "# Get transformed features column names\n",
    "transformed_feature_names = best_ontime_pipeline.named_steps['columntransformer'].get_feature_names_out()\n",
    "n_features = len(transformed_feature_names)\n",
    "\n",
    "# Get features selected by flights_ontime RFE\n",
    "ontime_selected_features = transformed_feature_names[best_ontime_pipeline.named_steps['rfecv'].support_].tolist()\n",
    "n_selected = len(ontime_selected_features)\n",
    "\n",
    "print(f\"{n_selected} out of {n_features} features selected for flights_ontime:\\n{ontime_selected_features}\")\n"
   ]
  },
  {
   "cell_type": "markdown",
   "metadata": {},
   "source": [
    "## FIT RFE PIPELINES USING estimator=RandomForestRegressor"
   ]
  },
  {
   "cell_type": "code",
   "execution_count": 18,
   "metadata": {},
   "outputs": [
    {
     "name": "stdout",
     "output_type": "stream",
     "text": [
      "RFE_flights_total created\n",
      "RFE_flights_total fitted\n",
      "RFE_flights_cancel created\n",
      "RFE_flights_cancel fitted\n",
      "RFE_flights_delay created\n",
      "RFE_flights_delay fitted\n",
      "RFE_flights_ontime created\n",
      "RFE_flights_ontime fitted\n",
      "RFE_flights_arr_ontime created\n",
      "RFE_flights_arr_ontime fitted\n",
      "RFE_flights_arr_delay created\n",
      "RFE_flights_arr_delay fitted\n",
      "RFE_flights_arr_cancel created\n",
      "RFE_flights_arr_cancel fitted\n",
      "RFE_flights_dep_ontime created\n",
      "RFE_flights_dep_ontime fitted\n",
      "RFE_flights_dep_delay created\n"
     ]
    },
    {
     "ename": "KeyboardInterrupt",
     "evalue": "",
     "output_type": "error",
     "traceback": [
      "\u001b[0;31m---------------------------------------------------------------------------\u001b[0m",
      "\u001b[0;31mKeyboardInterrupt\u001b[0m                         Traceback (most recent call last)",
      "Cell \u001b[0;32mIn[18], line 12\u001b[0m\n\u001b[1;32m      3\u001b[0m \u001b[38;5;28mglobals\u001b[39m()[\u001b[38;5;124mf\u001b[39m\u001b[38;5;124m\"\u001b[39m\u001b[38;5;124mRFE_\u001b[39m\u001b[38;5;132;01m{\u001b[39;00mtarget\u001b[38;5;132;01m}\u001b[39;00m\u001b[38;5;124m\"\u001b[39m] \u001b[38;5;241m=\u001b[39m make_pipeline(\n\u001b[1;32m      4\u001b[0m     rfe__transformer,\n\u001b[1;32m      5\u001b[0m     RFECV(estimator\u001b[38;5;241m=\u001b[39mRandomForestRegressor(), \n\u001b[0;32m   (...)\u001b[0m\n\u001b[1;32m      9\u001b[0m         n_jobs\u001b[38;5;241m=\u001b[39m\u001b[38;5;241m-\u001b[39m\u001b[38;5;241m1\u001b[39m) \u001b[38;5;66;03m# n_jobs=-1 means use all available CPU cores\u001b[39;00m\n\u001b[1;32m     10\u001b[0m )\n\u001b[1;32m     11\u001b[0m \u001b[38;5;28mprint\u001b[39m(\u001b[38;5;124mf\u001b[39m\u001b[38;5;124m\"\u001b[39m\u001b[38;5;124mRFE_\u001b[39m\u001b[38;5;132;01m{\u001b[39;00mtarget\u001b[38;5;132;01m}\u001b[39;00m\u001b[38;5;124m created\u001b[39m\u001b[38;5;124m\"\u001b[39m)\n\u001b[0;32m---> 12\u001b[0m \u001b[38;5;28;43mglobals\u001b[39;49m\u001b[43m(\u001b[49m\u001b[43m)\u001b[49m\u001b[43m[\u001b[49m\u001b[38;5;124;43mf\u001b[39;49m\u001b[38;5;124;43m\"\u001b[39;49m\u001b[38;5;124;43mRFE_\u001b[39;49m\u001b[38;5;132;43;01m{\u001b[39;49;00m\u001b[43mtarget\u001b[49m\u001b[38;5;132;43;01m}\u001b[39;49;00m\u001b[38;5;124;43m\"\u001b[39;49m\u001b[43m]\u001b[49m\u001b[38;5;241;43m.\u001b[39;49m\u001b[43mfit\u001b[49m\u001b[43m(\u001b[49m\u001b[43mX_train\u001b[49m\u001b[43m,\u001b[49m\u001b[43m \u001b[49m\u001b[43my_train\u001b[49m\u001b[43m[\u001b[49m\u001b[43mtarget\u001b[49m\u001b[43m]\u001b[49m\u001b[43m)\u001b[49m\n\u001b[1;32m     13\u001b[0m \u001b[38;5;28mprint\u001b[39m(\u001b[38;5;124mf\u001b[39m\u001b[38;5;124m\"\u001b[39m\u001b[38;5;124mRFE_\u001b[39m\u001b[38;5;132;01m{\u001b[39;00mtarget\u001b[38;5;132;01m}\u001b[39;00m\u001b[38;5;124m fitted\u001b[39m\u001b[38;5;124m\"\u001b[39m)\n",
      "File \u001b[0;32m~/.local/share/virtualenvs/prediction-rTmYhf-l/lib/python3.11/site-packages/sklearn/base.py:1152\u001b[0m, in \u001b[0;36m_fit_context.<locals>.decorator.<locals>.wrapper\u001b[0;34m(estimator, *args, **kwargs)\u001b[0m\n\u001b[1;32m   1145\u001b[0m     estimator\u001b[38;5;241m.\u001b[39m_validate_params()\n\u001b[1;32m   1147\u001b[0m \u001b[38;5;28;01mwith\u001b[39;00m config_context(\n\u001b[1;32m   1148\u001b[0m     skip_parameter_validation\u001b[38;5;241m=\u001b[39m(\n\u001b[1;32m   1149\u001b[0m         prefer_skip_nested_validation \u001b[38;5;129;01mor\u001b[39;00m global_skip_validation\n\u001b[1;32m   1150\u001b[0m     )\n\u001b[1;32m   1151\u001b[0m ):\n\u001b[0;32m-> 1152\u001b[0m     \u001b[38;5;28;01mreturn\u001b[39;00m \u001b[43mfit_method\u001b[49m\u001b[43m(\u001b[49m\u001b[43mestimator\u001b[49m\u001b[43m,\u001b[49m\u001b[43m \u001b[49m\u001b[38;5;241;43m*\u001b[39;49m\u001b[43margs\u001b[49m\u001b[43m,\u001b[49m\u001b[43m \u001b[49m\u001b[38;5;241;43m*\u001b[39;49m\u001b[38;5;241;43m*\u001b[39;49m\u001b[43mkwargs\u001b[49m\u001b[43m)\u001b[49m\n",
      "File \u001b[0;32m~/.local/share/virtualenvs/prediction-rTmYhf-l/lib/python3.11/site-packages/sklearn/pipeline.py:427\u001b[0m, in \u001b[0;36mPipeline.fit\u001b[0;34m(self, X, y, **fit_params)\u001b[0m\n\u001b[1;32m    425\u001b[0m     \u001b[38;5;28;01mif\u001b[39;00m \u001b[38;5;28mself\u001b[39m\u001b[38;5;241m.\u001b[39m_final_estimator \u001b[38;5;241m!=\u001b[39m \u001b[38;5;124m\"\u001b[39m\u001b[38;5;124mpassthrough\u001b[39m\u001b[38;5;124m\"\u001b[39m:\n\u001b[1;32m    426\u001b[0m         fit_params_last_step \u001b[38;5;241m=\u001b[39m fit_params_steps[\u001b[38;5;28mself\u001b[39m\u001b[38;5;241m.\u001b[39msteps[\u001b[38;5;241m-\u001b[39m\u001b[38;5;241m1\u001b[39m][\u001b[38;5;241m0\u001b[39m]]\n\u001b[0;32m--> 427\u001b[0m         \u001b[38;5;28;43mself\u001b[39;49m\u001b[38;5;241;43m.\u001b[39;49m\u001b[43m_final_estimator\u001b[49m\u001b[38;5;241;43m.\u001b[39;49m\u001b[43mfit\u001b[49m\u001b[43m(\u001b[49m\u001b[43mXt\u001b[49m\u001b[43m,\u001b[49m\u001b[43m \u001b[49m\u001b[43my\u001b[49m\u001b[43m,\u001b[49m\u001b[43m \u001b[49m\u001b[38;5;241;43m*\u001b[39;49m\u001b[38;5;241;43m*\u001b[39;49m\u001b[43mfit_params_last_step\u001b[49m\u001b[43m)\u001b[49m\n\u001b[1;32m    429\u001b[0m \u001b[38;5;28;01mreturn\u001b[39;00m \u001b[38;5;28mself\u001b[39m\n",
      "File \u001b[0;32m~/.local/share/virtualenvs/prediction-rTmYhf-l/lib/python3.11/site-packages/sklearn/base.py:1152\u001b[0m, in \u001b[0;36m_fit_context.<locals>.decorator.<locals>.wrapper\u001b[0;34m(estimator, *args, **kwargs)\u001b[0m\n\u001b[1;32m   1145\u001b[0m     estimator\u001b[38;5;241m.\u001b[39m_validate_params()\n\u001b[1;32m   1147\u001b[0m \u001b[38;5;28;01mwith\u001b[39;00m config_context(\n\u001b[1;32m   1148\u001b[0m     skip_parameter_validation\u001b[38;5;241m=\u001b[39m(\n\u001b[1;32m   1149\u001b[0m         prefer_skip_nested_validation \u001b[38;5;129;01mor\u001b[39;00m global_skip_validation\n\u001b[1;32m   1150\u001b[0m     )\n\u001b[1;32m   1151\u001b[0m ):\n\u001b[0;32m-> 1152\u001b[0m     \u001b[38;5;28;01mreturn\u001b[39;00m \u001b[43mfit_method\u001b[49m\u001b[43m(\u001b[49m\u001b[43mestimator\u001b[49m\u001b[43m,\u001b[49m\u001b[43m \u001b[49m\u001b[38;5;241;43m*\u001b[39;49m\u001b[43margs\u001b[49m\u001b[43m,\u001b[49m\u001b[43m \u001b[49m\u001b[38;5;241;43m*\u001b[39;49m\u001b[38;5;241;43m*\u001b[39;49m\u001b[43mkwargs\u001b[49m\u001b[43m)\u001b[49m\n",
      "File \u001b[0;32m~/.local/share/virtualenvs/prediction-rTmYhf-l/lib/python3.11/site-packages/sklearn/feature_selection/_rfe.py:726\u001b[0m, in \u001b[0;36mRFECV.fit\u001b[0;34m(self, X, y, groups)\u001b[0m\n\u001b[1;32m    723\u001b[0m     parallel \u001b[38;5;241m=\u001b[39m Parallel(n_jobs\u001b[38;5;241m=\u001b[39m\u001b[38;5;28mself\u001b[39m\u001b[38;5;241m.\u001b[39mn_jobs)\n\u001b[1;32m    724\u001b[0m     func \u001b[38;5;241m=\u001b[39m delayed(_rfe_single_fit)\n\u001b[0;32m--> 726\u001b[0m scores \u001b[38;5;241m=\u001b[39m \u001b[43mparallel\u001b[49m\u001b[43m(\u001b[49m\n\u001b[1;32m    727\u001b[0m \u001b[43m    \u001b[49m\u001b[43mfunc\u001b[49m\u001b[43m(\u001b[49m\u001b[43mrfe\u001b[49m\u001b[43m,\u001b[49m\u001b[43m \u001b[49m\u001b[38;5;28;43mself\u001b[39;49m\u001b[38;5;241;43m.\u001b[39;49m\u001b[43mestimator\u001b[49m\u001b[43m,\u001b[49m\u001b[43m \u001b[49m\u001b[43mX\u001b[49m\u001b[43m,\u001b[49m\u001b[43m \u001b[49m\u001b[43my\u001b[49m\u001b[43m,\u001b[49m\u001b[43m \u001b[49m\u001b[43mtrain\u001b[49m\u001b[43m,\u001b[49m\u001b[43m \u001b[49m\u001b[43mtest\u001b[49m\u001b[43m,\u001b[49m\u001b[43m \u001b[49m\u001b[43mscorer\u001b[49m\u001b[43m)\u001b[49m\n\u001b[1;32m    728\u001b[0m \u001b[43m    \u001b[49m\u001b[38;5;28;43;01mfor\u001b[39;49;00m\u001b[43m \u001b[49m\u001b[43mtrain\u001b[49m\u001b[43m,\u001b[49m\u001b[43m \u001b[49m\u001b[43mtest\u001b[49m\u001b[43m \u001b[49m\u001b[38;5;129;43;01min\u001b[39;49;00m\u001b[43m \u001b[49m\u001b[43mcv\u001b[49m\u001b[38;5;241;43m.\u001b[39;49m\u001b[43msplit\u001b[49m\u001b[43m(\u001b[49m\u001b[43mX\u001b[49m\u001b[43m,\u001b[49m\u001b[43m \u001b[49m\u001b[43my\u001b[49m\u001b[43m,\u001b[49m\u001b[43m \u001b[49m\u001b[43mgroups\u001b[49m\u001b[43m)\u001b[49m\n\u001b[1;32m    729\u001b[0m \u001b[43m\u001b[49m\u001b[43m)\u001b[49m\n\u001b[1;32m    731\u001b[0m scores \u001b[38;5;241m=\u001b[39m np\u001b[38;5;241m.\u001b[39marray(scores)\n\u001b[1;32m    732\u001b[0m scores_sum \u001b[38;5;241m=\u001b[39m np\u001b[38;5;241m.\u001b[39msum(scores, axis\u001b[38;5;241m=\u001b[39m\u001b[38;5;241m0\u001b[39m)\n",
      "File \u001b[0;32m~/.local/share/virtualenvs/prediction-rTmYhf-l/lib/python3.11/site-packages/sklearn/utils/parallel.py:65\u001b[0m, in \u001b[0;36mParallel.__call__\u001b[0;34m(self, iterable)\u001b[0m\n\u001b[1;32m     60\u001b[0m config \u001b[38;5;241m=\u001b[39m get_config()\n\u001b[1;32m     61\u001b[0m iterable_with_config \u001b[38;5;241m=\u001b[39m (\n\u001b[1;32m     62\u001b[0m     (_with_config(delayed_func, config), args, kwargs)\n\u001b[1;32m     63\u001b[0m     \u001b[38;5;28;01mfor\u001b[39;00m delayed_func, args, kwargs \u001b[38;5;129;01min\u001b[39;00m iterable\n\u001b[1;32m     64\u001b[0m )\n\u001b[0;32m---> 65\u001b[0m \u001b[38;5;28;01mreturn\u001b[39;00m \u001b[38;5;28;43msuper\u001b[39;49m\u001b[43m(\u001b[49m\u001b[43m)\u001b[49m\u001b[38;5;241;43m.\u001b[39;49m\u001b[38;5;21;43m__call__\u001b[39;49m\u001b[43m(\u001b[49m\u001b[43miterable_with_config\u001b[49m\u001b[43m)\u001b[49m\n",
      "File \u001b[0;32m~/.local/share/virtualenvs/prediction-rTmYhf-l/lib/python3.11/site-packages/joblib/parallel.py:1952\u001b[0m, in \u001b[0;36mParallel.__call__\u001b[0;34m(self, iterable)\u001b[0m\n\u001b[1;32m   1946\u001b[0m \u001b[38;5;66;03m# The first item from the output is blank, but it makes the interpreter\u001b[39;00m\n\u001b[1;32m   1947\u001b[0m \u001b[38;5;66;03m# progress until it enters the Try/Except block of the generator and\u001b[39;00m\n\u001b[1;32m   1948\u001b[0m \u001b[38;5;66;03m# reach the first `yield` statement. This starts the aynchronous\u001b[39;00m\n\u001b[1;32m   1949\u001b[0m \u001b[38;5;66;03m# dispatch of the tasks to the workers.\u001b[39;00m\n\u001b[1;32m   1950\u001b[0m \u001b[38;5;28mnext\u001b[39m(output)\n\u001b[0;32m-> 1952\u001b[0m \u001b[38;5;28;01mreturn\u001b[39;00m output \u001b[38;5;28;01mif\u001b[39;00m \u001b[38;5;28mself\u001b[39m\u001b[38;5;241m.\u001b[39mreturn_generator \u001b[38;5;28;01melse\u001b[39;00m \u001b[38;5;28mlist\u001b[39m(output)\n",
      "File \u001b[0;32m~/.local/share/virtualenvs/prediction-rTmYhf-l/lib/python3.11/site-packages/joblib/parallel.py:1595\u001b[0m, in \u001b[0;36mParallel._get_outputs\u001b[0;34m(self, iterator, pre_dispatch)\u001b[0m\n\u001b[1;32m   1592\u001b[0m     \u001b[38;5;28;01myield\u001b[39;00m\n\u001b[1;32m   1594\u001b[0m     \u001b[38;5;28;01mwith\u001b[39;00m \u001b[38;5;28mself\u001b[39m\u001b[38;5;241m.\u001b[39m_backend\u001b[38;5;241m.\u001b[39mretrieval_context():\n\u001b[0;32m-> 1595\u001b[0m         \u001b[38;5;28;01myield from\u001b[39;00m \u001b[38;5;28mself\u001b[39m\u001b[38;5;241m.\u001b[39m_retrieve()\n\u001b[1;32m   1597\u001b[0m \u001b[38;5;28;01mexcept\u001b[39;00m \u001b[38;5;167;01mGeneratorExit\u001b[39;00m:\n\u001b[1;32m   1598\u001b[0m     \u001b[38;5;66;03m# The generator has been garbage collected before being fully\u001b[39;00m\n\u001b[1;32m   1599\u001b[0m     \u001b[38;5;66;03m# consumed. This aborts the remaining tasks if possible and warn\u001b[39;00m\n\u001b[1;32m   1600\u001b[0m     \u001b[38;5;66;03m# the user if necessary.\u001b[39;00m\n\u001b[1;32m   1601\u001b[0m     \u001b[38;5;28mself\u001b[39m\u001b[38;5;241m.\u001b[39m_exception \u001b[38;5;241m=\u001b[39m \u001b[38;5;28;01mTrue\u001b[39;00m\n",
      "File \u001b[0;32m~/.local/share/virtualenvs/prediction-rTmYhf-l/lib/python3.11/site-packages/joblib/parallel.py:1707\u001b[0m, in \u001b[0;36mParallel._retrieve\u001b[0;34m(self)\u001b[0m\n\u001b[1;32m   1702\u001b[0m \u001b[38;5;66;03m# If the next job is not ready for retrieval yet, we just wait for\u001b[39;00m\n\u001b[1;32m   1703\u001b[0m \u001b[38;5;66;03m# async callbacks to progress.\u001b[39;00m\n\u001b[1;32m   1704\u001b[0m \u001b[38;5;28;01mif\u001b[39;00m ((\u001b[38;5;28mlen\u001b[39m(\u001b[38;5;28mself\u001b[39m\u001b[38;5;241m.\u001b[39m_jobs) \u001b[38;5;241m==\u001b[39m \u001b[38;5;241m0\u001b[39m) \u001b[38;5;129;01mor\u001b[39;00m\n\u001b[1;32m   1705\u001b[0m     (\u001b[38;5;28mself\u001b[39m\u001b[38;5;241m.\u001b[39m_jobs[\u001b[38;5;241m0\u001b[39m]\u001b[38;5;241m.\u001b[39mget_status(\n\u001b[1;32m   1706\u001b[0m         timeout\u001b[38;5;241m=\u001b[39m\u001b[38;5;28mself\u001b[39m\u001b[38;5;241m.\u001b[39mtimeout) \u001b[38;5;241m==\u001b[39m TASK_PENDING)):\n\u001b[0;32m-> 1707\u001b[0m     time\u001b[38;5;241m.\u001b[39msleep(\u001b[38;5;241m0.01\u001b[39m)\n\u001b[1;32m   1708\u001b[0m     \u001b[38;5;28;01mcontinue\u001b[39;00m\n\u001b[1;32m   1710\u001b[0m \u001b[38;5;66;03m# We need to be careful: the job list can be filling up as\u001b[39;00m\n\u001b[1;32m   1711\u001b[0m \u001b[38;5;66;03m# we empty it and Python list are not thread-safe by\u001b[39;00m\n\u001b[1;32m   1712\u001b[0m \u001b[38;5;66;03m# default hence the use of the lock\u001b[39;00m\n",
      "\u001b[0;31mKeyboardInterrupt\u001b[0m: "
     ]
    }
   ],
   "source": [
    "# fit RFE models without grid search\n",
    "for target in y.columns.tolist():\n",
    "    globals()[f\"RFE_{target}\"] = make_pipeline(\n",
    "        rfe__transformer,\n",
    "        RFECV(estimator=RandomForestRegressor(), \n",
    "            step=1, \n",
    "            scoring='neg_mean_absolute_error', \n",
    "            min_features_to_select=1,\n",
    "            n_jobs=-1) # n_jobs=-1 means use all available CPU cores\n",
    "    )\n",
    "    print(f\"RFE_{target} created\")\n",
    "    globals()[f\"RFE_{target}\"].fit(X_train, y_train[target])\n",
    "    print(f\"RFE_{target} fitted\")"
   ]
  },
  {
   "cell_type": "code",
   "execution_count": null,
   "metadata": {},
   "outputs": [
    {
     "name": "stdout",
     "output_type": "stream",
     "text": [
      "Optimal number of features to predict ontime flights: 32\n",
      "Optimal number of features to predict cancelled flights: 9\n",
      "Optimal number of features to predict delayed flights: 47\n",
      "Optimal number of features to predict total flights: 11\n"
     ]
    }
   ],
   "source": [
    "# Optimal number of features\n",
    "print(f\"Optimal number of features to predict ontime flights: {RFE_flights_ontime.named_steps['rfecv'].n_features_}\")\n",
    "print(f\"Optimal number of features to predict cancelled flights: {RFE_flights_cancel.named_steps['rfecv'].n_features_}\")\n",
    "print(f\"Optimal number of features to predict delayed flights: {RFE_flights_delay.named_steps['rfecv'].n_features_}\")\n",
    "print(f\"Optimal number of features to predict total flights: {RFE_flights_total.named_steps['rfecv'].n_features_}\")"
   ]
  },
  {
   "cell_type": "markdown",
   "metadata": {},
   "source": [
    "### FEATURE RANKING"
   ]
  },
  {
   "cell_type": "markdown",
   "metadata": {},
   "source": [
    "FLIGHTS ONTIME - BEST FEATURES"
   ]
  },
  {
   "cell_type": "code",
   "execution_count": null,
   "metadata": {},
   "outputs": [
    {
     "name": "stdout",
     "output_type": "stream",
     "text": [
      "\n",
      "Best 32 features for flights_ontime: ['num__flights_cancel_lag_3' 'num__days_until_july_4th'\n",
      " 'num__days_until_labor_day' 'num__days_until_memorial_day'\n",
      " 'num__wx_temperature_max' 'num__day_of_month' 'num__wx_temperature_min'\n",
      " 'num__wx_apcp' 'num__year' 'num__wx_prate' 'num__wx_asnow'\n",
      " 'num__ordinal_date' 'num__flights_cancel_lag_2' 'cat__day_of_week_Sunday'\n",
      " 'num__days_until_thanksgiving' 'cat__day_of_week_Saturday'\n",
      " 'cat__holiday_Thanksgiving' 'num__random' 'num__flights_cancel_lag_1'\n",
      " 'num__flights_total_lag_3' 'num__flights_total_lag_2'\n",
      " 'num__flights_total_lag_1' 'num__wx_wind_direction' 'num__wx_wind_speed'\n",
      " 'num__wx_lftx' 'num__wx_cape' 'num__wx_maxref' 'num__wx_gust'\n",
      " 'num__wx_vis' 'num__wx_frozr' 'cat__holiday_Not a Holiday'\n",
      " 'num__days_until_xmas']\n"
     ]
    }
   ],
   "source": [
    "# Get selected features\n",
    "feature_names_in = RFE_flights_ontime.named_steps['columntransformer'].get_feature_names_out()\n",
    "mask = RFE_flights_ontime.named_steps['rfecv'].support_\n",
    "selected_features = feature_names_in[mask]\n",
    "n_features = len(selected_features)\n",
    "\n",
    "# Get feature ranking\n",
    "feature_ranking = RFE_flights_ontime.named_steps['rfecv'].ranking_\n",
    "\n",
    "# Get names of the selected features in order of importance\n",
    "best_features = feature_names_in[np.argsort(feature_ranking)[:n_features]]\n",
    "print(f\"\\nBest {n_features} features for flights_ontime: {best_features}\")"
   ]
  },
  {
   "cell_type": "markdown",
   "metadata": {},
   "source": [
    "FLIGHTS ONTIME - CROSS VALIDATION SCORE VS NUMBER OF FEATURES RETAINED"
   ]
  },
  {
   "cell_type": "code",
   "execution_count": null,
   "metadata": {},
   "outputs": [
    {
     "data": {
      "image/png": "[encoded data removed]",
      "text/plain": [
       "<Figure size 1000x600 with 1 Axes>"
      ]
     },
     "metadata": {},
     "output_type": "display_data"
    }
   ],
   "source": [
    "# plot number of features vs. cross-validation scores\n",
    "mean_test_scores = RFE_flights_ontime.named_steps['rfecv'].cv_results_['mean_test_score']\n",
    "std_test_scores = RFE_flights_ontime.named_steps['rfecv'].cv_results_['std_test_score']\n",
    "n_scores = len(mean_test_scores)\n",
    "\n",
    "plt.figure(figsize=(10,6))\n",
    "plt.xlabel(\"Number of features selected\")\n",
    "plt.ylabel(\"Cross validation score (neg MAE)\")\n",
    "plt.errorbar(\n",
    "    x=range(1, n_scores + 1),\n",
    "    y=mean_test_scores,\n",
    "    yerr=std_test_scores\n",
    ")\n",
    "plt.show()"
   ]
  },
  {
   "cell_type": "markdown",
   "metadata": {},
   "source": [
    "FLIGHTS DELAYED - BEST FEATUREES"
   ]
  },
  {
   "cell_type": "code",
   "execution_count": null,
   "metadata": {},
   "outputs": [
    {
     "name": "stdout",
     "output_type": "stream",
     "text": [
      "\n",
      "Best 28 features for flights_delayed: ['num__flights_cancel_lag_3' 'num__ordinal_date' 'num__day_of_month'\n",
      " 'num__days_until_xmas' 'num__days_until_thanksgiving'\n",
      " 'num__days_until_july_4th' 'num__days_until_labor_day'\n",
      " 'num__days_until_memorial_day' 'num__wx_temperature_max'\n",
      " 'num__wx_temperature_min' 'num__wx_apcp' 'num__wx_prate'\n",
      " 'cat__season_summer' 'num__random' 'num__flights_cancel_lag_2'\n",
      " 'cat__month_October' 'num__wx_lftx' 'num__wx_cape'\n",
      " 'cat__day_of_week_Friday' 'num__wx_maxref' 'num__wx_gust'\n",
      " 'num__flights_total_lag_1' 'num__wx_wind_speed' 'num__wx_wind_direction'\n",
      " 'num__flights_total_lag_2' 'num__flights_total_lag_3' 'num__wx_vis'\n",
      " 'num__flights_cancel_lag_1']\n",
      "\n",
      "Worst 10 features for flights_delayed: ['cat__holiday_Juneteenth National Independence Day'\n",
      " 'cat__day_before_easter_yes' 'cat__holiday_Memorial Day'\n",
      " 'cat__holiday_Juneteenth National Independence Day (Observed)'\n",
      " 'cat__holiday_Labor Day' 'cat__holiday_Veterans Day'\n",
      " 'cat__holiday_Christmas Day' 'cat__holiday_Independence Day (Observed)'\n",
      " \"cat__holiday_New Year's Day (Observed)\"\n",
      " 'cat__holiday_Christmas Day (Observed)']\n"
     ]
    }
   ],
   "source": [
    "# Get selected features\n",
    "feature_names_in = RFE_flights_delay_pct.named_steps['columntransformer'].get_feature_names_out()\n",
    "mask = RFE_flights_delay_pct.named_steps['rfecv'].support_\n",
    "selected_features = feature_names_in[mask]\n",
    "n_features = len(selected_features)\n",
    "\n",
    "feature_ranking = RFE_flights_delay_pct.named_steps['rfecv'].ranking_\n",
    "\n",
    "# Get names of the best features\n",
    "best_features = feature_names_in[np.argsort(feature_ranking)[:n_features]]\n",
    "print(f\"\\nBest {n_features} features for flights_delayed: {best_features}\")\n",
    "\n",
    "\n",
    "# Get names of the worst 10 features\n",
    "worst_features = feature_names_in[np.argsort(feature_ranking)[-10:]]\n",
    "print(f\"\\nWorst 10 features for flights_delayed: {worst_features}\")"
   ]
  },
  {
   "cell_type": "markdown",
   "metadata": {},
   "source": [
    "FLIGHTS DELAYED - CROSS VALIDATION SCORE VS NUMBER OF FEATURES RETAINED"
   ]
  },
  {
   "cell_type": "code",
   "execution_count": null,
   "metadata": {},
   "outputs": [
    {
     "data": {
      "image/png": "[encoded data removed]",
      "text/plain": [
       "<Figure size 1000x600 with 1 Axes>"
      ]
     },
     "metadata": {},
     "output_type": "display_data"
    }
   ],
   "source": [
    "# plot number of features vs. cross-validation scores\n",
    "mean_test_scores = RFE_flights_delay.named_steps['rfecv'].cv_results_['mean_test_score']\n",
    "std_test_scores = RFE_flights_delay.named_steps['rfecv'].cv_results_['std_test_score']\n",
    "n_scores = len(mean_test_scores)\n",
    "\n",
    "plt.figure(figsize=(10,6))\n",
    "plt.xlabel(\"Number of features selected\")\n",
    "plt.ylabel(\"Cross validation score (neg MAE)\")\n",
    "plt.errorbar(\n",
    "    x=range(1, n_scores + 1),\n",
    "    y=mean_test_scores,\n",
    "    yerr=std_test_scores\n",
    ")\n",
    "plt.show()"
   ]
  },
  {
   "cell_type": "markdown",
   "metadata": {},
   "source": [
    "### RFE QUESTIONS\n",
    "1. Why does the random number feature score consistently in the top 10.\n",
    "2. Why are cat_covid_no and cat_covid_yes frequently included in the top 10 features? These are complementary events, meaning no extra information should be obtained from including both compared to one.\n",
    "3. Why are so many features retained (32 - 64), when a clear elbow and plateau consistently exists at around 8 features?\n",
    "4. WHY does RFE using estiamtor=LinearRegression produce such a bizzare cross validation score x num features plot?"
   ]
  }
 ],
 "metadata": {
  "kernelspec": {
   "display_name": "prediction-rTmYhf-l",
   "language": "python",
   "name": "python3"
  },
  "language_info": {
   "codemirror_mode": {
    "name": "ipython",
    "version": 3
   },
   "file_extension": ".py",
   "mimetype": "text/x-python",
   "name": "python",
   "nbconvert_exporter": "python",
   "pygments_lexer": "ipython3",
   "version": "3.11.5"
  }
 },
 "nbformat": 4,
 "nbformat_minor": 2
}
