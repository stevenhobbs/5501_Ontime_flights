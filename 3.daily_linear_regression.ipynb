{
 "cells": [
  {
   "cell_type": "markdown",
   "metadata": {},
   "source": [
    "# INTRODUCTION\n",
    "This notebook performs linear regression on the pre-processed data from \"1. daily_import_merge_engineer.ipynb\""
   ]
  },
  {
   "cell_type": "markdown",
   "metadata": {},
   "source": [
    "## Libraries"
   ]
  },
  {
   "cell_type": "code",
   "execution_count": 14,
   "metadata": {},
   "outputs": [],
   "source": [
    "import os\n",
    "import pandas as pd\n",
    "\n",
    "from sklearn.model_selection import train_test_split\n",
    "from sklearn.linear_model import Lasso, Ridge\n",
    "from sklearn.metrics import r2_score, mean_squared_error, mean_absolute_error, mean_absolute_percentage_error   \n",
    "from sklearn.pipeline import make_pipeline\n",
    "from sklearn.preprocessing import StandardScaler\n",
    "from sklearn.model_selection import GridSearchCV\n",
    "from sklearn.compose import ColumnTransformer\n",
    "from sklearn.preprocessing import OneHotEncoder\n",
    "\n",
    "DAILY_DATA_PATH = \"data.v3/daily\" "
   ]
  },
  {
   "cell_type": "markdown",
   "metadata": {},
   "source": [
    "## Import data & column groups"
   ]
  },
  {
   "cell_type": "code",
   "execution_count": 3,
   "metadata": {},
   "outputs": [],
   "source": [
    "df = pd.read_parquet(os.path.join(DAILY_DATA_PATH, \"daily_flights_and_weather_merged.parquet\"))\n",
    "\n",
    "# Flights column groups\n",
    "flights_terminal_cols = ['flights_arr_A', 'flights_arr_B', 'flights_arr_C', 'flights_arr_D', 'flights_arr_E',\n",
    "                         'flights_dep_A', 'flights_dep_B', 'flights_dep_C', 'flights_dep_D', 'flights_dep_E']\n",
    "\n",
    "flights_non_terminal_cols = ['flights_total', 'flights_cancel', 'flights_delay', 'flights_ontime',\n",
    "                             'flights_arr_ontime', 'flights_arr_delay', 'flights_arr_cancel',\n",
    "                             'flights_dep_ontime', 'flights_dep_delay', 'flights_dep_cancel']\n",
    "\n",
    "flights_percentage_cols = ['flights_cancel_pct', 'flights_delay_pct', 'flights_ontime_pct',\n",
    "                            'flights_arr_delay_pct', 'flights_arr_ontime_pct', 'flights_arr_cancel_pct',\n",
    "                            'flights_dep_delay_pct', 'flights_dep_ontime_pct', 'flights_dep_cancel_pct']\n",
    "\n",
    "# Date column groups\n",
    "date_cols = ['date', 'covid', 'ordinal_date', 'year', 'month', 'day_of_month', 'day_of_week', 'season', 'holiday', 'halloween', 'xmas_eve', 'new_years_eve', 'jan_2', 'jan_3', 'day_before_easter', 'days_until_xmas', 'days_until_thanksgiving', 'days_until_july_4th', 'days_until_labor_day', 'days_until_memorial_day']\n",
    "\n",
    "# Weather column groups\n",
    "weather_cols = ['wx_temperature_max', 'wx_temperature_min', 'wx_apcp', 'wx_prate', 'wx_asnow', 'wx_frozr', 'wx_vis', 'wx_gust', 'wx_maxref', 'wx_cape', 'wx_lftx', 'wx_wind_speed', 'wx_wind_direction']\n",
    "\n",
    "# Lag column groups\n",
    "lag_cols =  ['flights_total_lag_1', 'flights_total_lag_2', 'flights_total_lag_3', 'flights_total_lag_4', 'flights_total_lag_5', 'flights_total_lag_6', 'flights_total_lag_7', 'flights_cancel_lag_1', 'flights_cancel_lag_2', 'flights_cancel_lag_3', 'flights_cancel_lag_4', 'flights_cancel_lag_5', 'flights_cancel_lag_6', 'flights_cancel_lag_7']"
   ]
  },
  {
   "cell_type": "markdown",
   "metadata": {},
   "source": [
    "# DATA PREPROCESSING"
   ]
  },
  {
   "cell_type": "markdown",
   "metadata": {},
   "source": [
    "## Train Test Split"
   ]
  },
  {
   "cell_type": "code",
   "execution_count": 4,
   "metadata": {},
   "outputs": [
    {
     "name": "stdout",
     "output_type": "stream",
     "text": [
      "['random', 'covid', 'ordinal_date', 'year', 'month', 'day_of_month', 'day_of_week', 'season', 'holiday', 'halloween', 'xmas_eve', 'new_years_eve', 'jan_2', 'jan_3', 'day_before_easter', 'days_until_xmas', 'days_until_thanksgiving', 'days_until_july_4th', 'days_until_labor_day', 'days_until_memorial_day', 'wx_temperature_max', 'wx_temperature_min', 'wx_apcp', 'wx_prate', 'wx_asnow', 'wx_frozr', 'wx_vis', 'wx_gust', 'wx_maxref', 'wx_cape', 'wx_lftx', 'wx_wind_speed', 'wx_wind_direction', 'flights_total_lag_1', 'flights_total_lag_2', 'flights_total_lag_3', 'flights_total_lag_4', 'flights_total_lag_5', 'flights_total_lag_6', 'flights_total_lag_7', 'flights_cancel_lag_1', 'flights_cancel_lag_2', 'flights_cancel_lag_3', 'flights_cancel_lag_4', 'flights_cancel_lag_5', 'flights_cancel_lag_6', 'flights_cancel_lag_7']\n",
      "\n",
      "Target columns\n",
      "             flights_total  flights_cancel  flights_delay  flights_ontime  \\\n",
      "2018-07-20         1898.0            24.0          430.0          1444.0   \n",
      "2018-07-21         1784.0            30.0          364.0          1390.0   \n",
      "2018-07-22         1850.0            18.0          362.0          1470.0   \n",
      "2018-07-23         1893.0            48.0          430.0          1415.0   \n",
      "2018-07-24         1858.0            14.0          416.0          1428.0   \n",
      "\n",
      "            flights_arr_ontime  flights_arr_delay  flights_arr_cancel  \\\n",
      "2018-07-20               754.0              177.0                11.0   \n",
      "2018-07-21               735.0              140.0                15.0   \n",
      "2018-07-22               755.0              150.0                11.0   \n",
      "2018-07-23               727.0              196.0                24.0   \n",
      "2018-07-24               738.0              180.0                 7.0   \n",
      "\n",
      "            flights_dep_ontime  flights_dep_delay  flights_dep_cancel  \\\n",
      "2018-07-20               690.0              253.0                13.0   \n",
      "2018-07-21               655.0              224.0                15.0   \n",
      "2018-07-22               715.0              212.0                 7.0   \n",
      "2018-07-23               688.0              234.0                24.0   \n",
      "2018-07-24               690.0              236.0                 7.0   \n",
      "\n",
      "            flights_cancel_pct  flights_delay_pct  flights_ontime_pct  \\\n",
      "2018-07-20            1.264489          22.655427           76.080084   \n",
      "2018-07-21            1.681614          20.403587           77.914798   \n",
      "2018-07-22            0.972973          19.567568           79.459459   \n",
      "2018-07-23            2.535658          22.715267           74.749076   \n",
      "2018-07-24            0.753498          22.389666           76.856835   \n",
      "\n",
      "            flights_arr_delay_pct  flights_arr_ontime_pct  \\\n",
      "2018-07-20              18.789809               80.042463   \n",
      "2018-07-21              15.730337               82.584270   \n",
      "2018-07-22              16.375546               82.423581   \n",
      "2018-07-23              20.696938               76.768743   \n",
      "2018-07-24              19.459459               79.783784   \n",
      "\n",
      "            flights_arr_cancel_pct  flights_dep_delay_pct  \\\n",
      "2018-07-20                1.167728              26.464435   \n",
      "2018-07-21                1.685393              25.055928   \n",
      "2018-07-22                1.200873              22.698073   \n",
      "2018-07-23                2.534319              24.735729   \n",
      "2018-07-24                0.756757              25.294748   \n",
      "\n",
      "            flights_dep_ontime_pct  flights_dep_cancel_pct  \n",
      "2018-07-20               72.175732                1.359833  \n",
      "2018-07-21               73.266219                1.677852  \n",
      "2018-07-22               76.552463                0.749465  \n",
      "2018-07-23               72.727273                2.536998  \n",
      "2018-07-24               73.954984                0.750268  \n",
      "X_train_full shape: (1516, 47)\n",
      "y_train_full shape: (1516, 19)\n",
      "X_train shape: (1364, 47)\n",
      "y_train shape: (1364, 19)\n",
      "X_Test shape: (169, 47)\n"
     ]
    }
   ],
   "source": [
    "# Select training features\n",
    "train_features = ['random'] + date_cols + weather_cols + lag_cols\n",
    "\n",
    "# Create X and y\n",
    "X = df[train_features].drop('date', axis=1)\n",
    "y = df[flights_non_terminal_cols + flights_percentage_cols]\n",
    "\n",
    "print(X.columns.tolist())\n",
    "print(\"\\nTarget columns\\n\", y.head())\n",
    "\n",
    "# Split data into train and test sets\n",
    "X_train_full, X_test, y_train_full, y_test = train_test_split(X, y, test_size=0.1, random_state=42)\n",
    "\n",
    "# Split data into train and validation sets\n",
    "X_train, X_val, y_train, y_val = train_test_split(X_train_full, y_train_full, test_size=0.1, random_state=42)\n",
    "\n",
    "# Print shapes\n",
    "print(\"X_train_full shape:\", X_train_full.shape)\n",
    "print(\"y_train_full shape:\", y_train_full.shape)\n",
    "print(\"X_train shape:\", X_train.shape)\n",
    "print(\"y_train shape:\", y_train.shape)\n",
    "print(\"X_Test shape:\", X_test.shape)\n"
   ]
  },
  {
   "cell_type": "markdown",
   "metadata": {},
   "source": [
    "## Column transformers"
   ]
  },
  {
   "cell_type": "code",
   "execution_count": 5,
   "metadata": {},
   "outputs": [
    {
     "name": "stdout",
     "output_type": "stream",
     "text": [
      "float64    23\n",
      "object     11\n",
      "int64       7\n",
      "float32     4\n",
      "int32       2\n",
      "Name: count, dtype: int64\n",
      "categorical columns: ['covid', 'month', 'day_of_week', 'season', 'holiday', 'halloween', 'xmas_eve', 'new_years_eve', 'jan_2', 'jan_3', 'day_before_easter']\n",
      "numeric columns: ['random', 'ordinal_date', 'year', 'day_of_month', 'days_until_xmas', 'days_until_thanksgiving', 'days_until_july_4th', 'days_until_labor_day', 'days_until_memorial_day', 'wx_temperature_max', 'wx_temperature_min', 'wx_apcp', 'wx_prate', 'wx_asnow', 'wx_frozr', 'wx_vis', 'wx_gust', 'wx_maxref', 'wx_cape', 'wx_lftx', 'wx_wind_speed', 'wx_wind_direction', 'flights_total_lag_1', 'flights_total_lag_2', 'flights_total_lag_3', 'flights_total_lag_4', 'flights_total_lag_5', 'flights_total_lag_6', 'flights_total_lag_7', 'flights_cancel_lag_1', 'flights_cancel_lag_2', 'flights_cancel_lag_3', 'flights_cancel_lag_4', 'flights_cancel_lag_5', 'flights_cancel_lag_6', 'flights_cancel_lag_7']\n",
      "True\n"
     ]
    }
   ],
   "source": [
    "categorical_tranformer = make_pipeline(OneHotEncoder(handle_unknown='ignore')) # Some observed holidays may not be in the training data\n",
    "numeric_transformer = make_pipeline(StandardScaler())\n",
    "\n",
    "# print value counts of unique data types in X\n",
    "print(X.dtypes.value_counts())\n",
    "\n",
    "# Identify categorical and numeric columns in X_train_full\n",
    "categorical_cols = X.select_dtypes(include=['object', 'category']).columns.tolist()\n",
    "numeric_cols = X.select_dtypes(include = ['float64', 'float32', 'int32', 'int64']).columns.tolist()\n",
    "\n",
    "# Check that all columns are accounted for\n",
    "print(f\"categorical columns: {categorical_cols}\")\n",
    "print(f\"numeric columns: {numeric_cols}\")\n",
    "print(len(categorical_cols) + len(numeric_cols) == X_train_full.shape[1])\n",
    "\n",
    "# Linear regression transformer\n",
    "LR__transformer = ColumnTransformer(\n",
    "    transformers=[\n",
    "        ('cat', categorical_tranformer, categorical_cols),\n",
    "        ('num', numeric_transformer, numeric_cols)\n",
    "    ])"
   ]
  },
  {
   "cell_type": "markdown",
   "metadata": {},
   "source": [
    "## Lasso regression"
   ]
  },
  {
   "cell_type": "markdown",
   "metadata": {},
   "source": [
    "We'll start with lasso without cross validation for a single target, flights_ontime. "
   ]
  },
  {
   "cell_type": "code",
   "execution_count": 6,
   "metadata": {},
   "outputs": [
    {
     "name": "stdout",
     "output_type": "stream",
     "text": [
      "R2 score: 0.6236520201173014\n",
      "Lasso coefficients:\n",
      "                      features  coefficients  coefficients_abs\n",
      "70             num__wx_maxref    -85.302991         85.302991\n",
      "81   num__flights_total_lag_7     77.050106         77.050106\n",
      "82  num__flights_cancel_lag_1    -68.795517         68.795517\n",
      "75   num__flights_total_lag_1     33.323642         33.323642\n",
      "77   num__flights_total_lag_3     26.461647         26.461647\n",
      "78   num__flights_total_lag_4     24.954123         24.954123\n",
      "71               num__wx_cape    -14.507070         14.507070\n",
      "69               num__wx_gust    -13.824874         13.824874\n",
      "64               num__wx_apcp    -10.026545         10.026545\n",
      "67              num__wx_frozr     -8.735262          8.735262\n",
      "66              num__wx_asnow     -7.313045          7.313045\n",
      "79   num__flights_total_lag_5      6.592167          6.592167\n",
      "80   num__flights_total_lag_6      4.076124          4.076124\n",
      "88  num__flights_cancel_lag_7     -1.637139          1.637139\n",
      "65              num__wx_prate     -1.316081          1.316081\n",
      "62    num__wx_temperature_max      1.184359          1.184359\n"
     ]
    }
   ],
   "source": [
    "# Lasso pipeline for flights_ontime\n",
    "lasso_ontime = make_pipeline(\n",
    "    LR__transformer,\n",
    "    Lasso(alpha=10)\n",
    ")\n",
    "\n",
    "# Lasso fit\n",
    "lasso_ontime.fit(X_train, y_train['flights_ontime'])\n",
    "\n",
    "# Lasso predictions\n",
    "y_pred_ontime = lasso_ontime.predict(X_val)\n",
    "print(\"R2 score:\", r2_score(y_val['flights_ontime'], y_pred_ontime))\n",
    "\n",
    "# Features and coefficients with non-zero coefficients\n",
    "lasso_ontime_features = lasso_ontime.named_steps['columntransformer'].get_feature_names_out()\n",
    "lasso_ontime_coef = lasso_ontime.named_steps['lasso'].coef_\n",
    "\n",
    "# Create a dataframe of features and coefficients\n",
    "lasso_ontime_df = pd.DataFrame({'features': lasso_ontime_features, 'coefficients': lasso_ontime_coef})\n",
    "\n",
    "# Sort the dataframe by coefficient absolute value, largest to smallest\n",
    "lasso_ontime_df['coefficients_abs'] = lasso_ontime_df['coefficients'].abs()\n",
    "lasso_ontime_df.sort_values(by='coefficients_abs', inplace=True, ascending=False)\n",
    "\n",
    "# Filter the dataframe for coefficients_abs > .1\n",
    "lasso_ontime_df = lasso_ontime_df[lasso_ontime_df['coefficients_abs'] > .1]\n",
    "\n",
    "print(\"Lasso coefficients:\\n\", lasso_ontime_df)"
   ]
  },
  {
   "cell_type": "markdown",
   "metadata": {},
   "source": [
    "Lasso regression on all targets using gridsearchCV to tune alpha"
   ]
  },
  {
   "cell_type": "code",
   "execution_count": 29,
   "metadata": {},
   "outputs": [
    {
     "name": "stderr",
     "output_type": "stream",
     "text": [
      "/Users/shobbs/.local/share/virtualenvs/prediction-rTmYhf-l/lib/python3.11/site-packages/sklearn/linear_model/_coordinate_descent.py:678: ConvergenceWarning: Objective did not converge. You might want to increase the number of iterations, check the scale of the features or consider increasing regularisation. Duality gap: 2.268e+05, tolerance: 4.129e+03\n",
      "  model = cd_fast.enet_coordinate_descent(\n",
      "/Users/shobbs/.local/share/virtualenvs/prediction-rTmYhf-l/lib/python3.11/site-packages/sklearn/linear_model/_coordinate_descent.py:678: ConvergenceWarning: Objective did not converge. You might want to increase the number of iterations, check the scale of the features or consider increasing regularisation. Duality gap: 3.606e+05, tolerance: 4.132e+03\n",
      "  model = cd_fast.enet_coordinate_descent(\n",
      "/Users/shobbs/.local/share/virtualenvs/prediction-rTmYhf-l/lib/python3.11/site-packages/sklearn/linear_model/_coordinate_descent.py:678: ConvergenceWarning: Objective did not converge. You might want to increase the number of iterations, check the scale of the features or consider increasing regularisation. Duality gap: 6.891e+05, tolerance: 4.024e+03\n",
      "  model = cd_fast.enet_coordinate_descent(\n",
      "/Users/shobbs/.local/share/virtualenvs/prediction-rTmYhf-l/lib/python3.11/site-packages/sklearn/linear_model/_coordinate_descent.py:678: ConvergenceWarning: Objective did not converge. You might want to increase the number of iterations, check the scale of the features or consider increasing regularisation. Duality gap: 6.420e+03, tolerance: 3.843e+03\n",
      "  model = cd_fast.enet_coordinate_descent(\n",
      "/Users/shobbs/.local/share/virtualenvs/prediction-rTmYhf-l/lib/python3.11/site-packages/sklearn/linear_model/_coordinate_descent.py:678: ConvergenceWarning: Objective did not converge. You might want to increase the number of iterations, check the scale of the features or consider increasing regularisation. Duality gap: 5.593e+05, tolerance: 5.038e+03\n",
      "  model = cd_fast.enet_coordinate_descent(\n",
      "/Users/shobbs/.local/share/virtualenvs/prediction-rTmYhf-l/lib/python3.11/site-packages/sklearn/linear_model/_coordinate_descent.py:678: ConvergenceWarning: Objective did not converge. You might want to increase the number of iterations, check the scale of the features or consider increasing regularisation. Duality gap: 1.931e+04, tolerance: 8.537e+03\n",
      "  model = cd_fast.enet_coordinate_descent(\n",
      "/Users/shobbs/.local/share/virtualenvs/prediction-rTmYhf-l/lib/python3.11/site-packages/sklearn/linear_model/_coordinate_descent.py:678: ConvergenceWarning: Objective did not converge. You might want to increase the number of iterations, check the scale of the features or consider increasing regularisation. Duality gap: 7.712e+04, tolerance: 9.064e+03\n",
      "  model = cd_fast.enet_coordinate_descent(\n",
      "/Users/shobbs/.local/share/virtualenvs/prediction-rTmYhf-l/lib/python3.11/site-packages/sklearn/linear_model/_coordinate_descent.py:678: ConvergenceWarning: Objective did not converge. You might want to increase the number of iterations, check the scale of the features or consider increasing regularisation. Duality gap: 3.816e+05, tolerance: 9.401e+03\n",
      "  model = cd_fast.enet_coordinate_descent(\n",
      "/Users/shobbs/.local/share/virtualenvs/prediction-rTmYhf-l/lib/python3.11/site-packages/sklearn/linear_model/_coordinate_descent.py:678: ConvergenceWarning: Objective did not converge. You might want to increase the number of iterations, check the scale of the features or consider increasing regularisation. Duality gap: 1.485e+04, tolerance: 1.110e+04\n",
      "  model = cd_fast.enet_coordinate_descent(\n",
      "/Users/shobbs/.local/share/virtualenvs/prediction-rTmYhf-l/lib/python3.11/site-packages/sklearn/linear_model/_coordinate_descent.py:678: ConvergenceWarning: Objective did not converge. You might want to increase the number of iterations, check the scale of the features or consider increasing regularisation. Duality gap: 8.063e+03, tolerance: 3.085e+03\n",
      "  model = cd_fast.enet_coordinate_descent(\n",
      "/Users/shobbs/.local/share/virtualenvs/prediction-rTmYhf-l/lib/python3.11/site-packages/sklearn/linear_model/_coordinate_descent.py:678: ConvergenceWarning: Objective did not converge. You might want to increase the number of iterations, check the scale of the features or consider increasing regularisation. Duality gap: 1.650e+03, tolerance: 1.031e+03\n",
      "  model = cd_fast.enet_coordinate_descent(\n",
      "/Users/shobbs/.local/share/virtualenvs/prediction-rTmYhf-l/lib/python3.11/site-packages/sklearn/linear_model/_coordinate_descent.py:678: ConvergenceWarning: Objective did not converge. You might want to increase the number of iterations, check the scale of the features or consider increasing regularisation. Duality gap: 6.440e+03, tolerance: 2.202e+03\n",
      "  model = cd_fast.enet_coordinate_descent(\n",
      "/Users/shobbs/.local/share/virtualenvs/prediction-rTmYhf-l/lib/python3.11/site-packages/sklearn/linear_model/_coordinate_descent.py:678: ConvergenceWarning: Objective did not converge. You might want to increase the number of iterations, check the scale of the features or consider increasing regularisation. Duality gap: 4.341e+04, tolerance: 2.000e+03\n",
      "  model = cd_fast.enet_coordinate_descent(\n",
      "/Users/shobbs/.local/share/virtualenvs/prediction-rTmYhf-l/lib/python3.11/site-packages/sklearn/linear_model/_coordinate_descent.py:678: ConvergenceWarning: Objective did not converge. You might want to increase the number of iterations, check the scale of the features or consider increasing regularisation. Duality gap: 3.058e+04, tolerance: 2.584e+03\n",
      "  model = cd_fast.enet_coordinate_descent(\n",
      "/Users/shobbs/.local/share/virtualenvs/prediction-rTmYhf-l/lib/python3.11/site-packages/sklearn/linear_model/_coordinate_descent.py:678: ConvergenceWarning: Objective did not converge. You might want to increase the number of iterations, check the scale of the features or consider increasing regularisation. Duality gap: 2.760e+04, tolerance: 1.073e+03\n",
      "  model = cd_fast.enet_coordinate_descent(\n",
      "/Users/shobbs/.local/share/virtualenvs/prediction-rTmYhf-l/lib/python3.11/site-packages/sklearn/linear_model/_coordinate_descent.py:678: ConvergenceWarning: Objective did not converge. You might want to increase the number of iterations, check the scale of the features or consider increasing regularisation. Duality gap: 7.526e+03, tolerance: 1.116e+03\n",
      "  model = cd_fast.enet_coordinate_descent(\n",
      "/Users/shobbs/.local/share/virtualenvs/prediction-rTmYhf-l/lib/python3.11/site-packages/sklearn/linear_model/_coordinate_descent.py:678: ConvergenceWarning: Objective did not converge. You might want to increase the number of iterations, check the scale of the features or consider increasing regularisation. Duality gap: 4.468e+03, tolerance: 1.103e+03\n",
      "  model = cd_fast.enet_coordinate_descent(\n",
      "/Users/shobbs/.local/share/virtualenvs/prediction-rTmYhf-l/lib/python3.11/site-packages/sklearn/linear_model/_coordinate_descent.py:678: ConvergenceWarning: Objective did not converge. You might want to increase the number of iterations, check the scale of the features or consider increasing regularisation. Duality gap: 1.712e+04, tolerance: 1.352e+03\n",
      "  model = cd_fast.enet_coordinate_descent(\n"
     ]
    },
    {
     "name": "stdout",
     "output_type": "stream",
     "text": [
      "lasso_flights_total best parameters: 0.1\n",
      "lasso_flights_cancel best parameters: 1\n",
      "lasso_flights_delay best parameters: 0.1\n",
      "lasso_flights_ontime best parameters: 0.1\n",
      "lasso_flights_arr_ontime best parameters: 0.1\n",
      "lasso_flights_arr_delay best parameters: 0.1\n",
      "lasso_flights_arr_cancel best parameters: 0.1\n",
      "lasso_flights_dep_ontime best parameters: 0.1\n",
      "lasso_flights_dep_delay best parameters: 0.1\n",
      "lasso_flights_dep_cancel best parameters: 0.1\n",
      "lasso_flights_cancel_pct best parameters: 0.1\n",
      "lasso_flights_delay_pct best parameters: 0.1\n",
      "lasso_flights_ontime_pct best parameters: 0.1\n",
      "lasso_flights_arr_delay_pct best parameters: 0.1\n",
      "lasso_flights_arr_ontime_pct best parameters: 0.1\n",
      "lasso_flights_arr_cancel_pct best parameters: 0.1\n",
      "lasso_flights_dep_delay_pct best parameters: 0.1\n",
      "lasso_flights_dep_ontime_pct best parameters: 0.1\n",
      "lasso_flights_dep_cancel_pct best parameters: 0.1\n"
     ]
    }
   ],
   "source": [
    "param_grid = {'lasso__alpha': [.01, .1, 1, 10, 20]}\n",
    "\n",
    "lasso_pipeline = make_pipeline(\n",
    "    LR__transformer,\n",
    "    Lasso()\n",
    ")\n",
    "\n",
    "grid_search = GridSearchCV(\n",
    "    lasso_pipeline,\n",
    "    param_grid,\n",
    "    cv=5,\n",
    "    scoring='neg_mean_squared_error',\n",
    "    n_jobs=-1, # n_jobs=-1 means use all available CPU cores\n",
    "    verbose=0\n",
    "    )\n",
    "\n",
    "lasso_models = {}\n",
    "\n",
    "# Fit lasso models for all targets\n",
    "for target in y.columns.tolist():\n",
    "    grid_search.fit(X_train, y_train[target])\n",
    "    lasso_models[f\"lasso_{target}\"] = grid_search.best_estimator_\n",
    "\n",
    "# Print best parameters for all lasso models\n",
    "for target, model in lasso_models.items():\n",
    "    print(f\"{target} best parameters: {model.named_steps['lasso'].get_params()['alpha']}\")"
   ]
  },
  {
   "cell_type": "markdown",
   "metadata": {},
   "source": [
    "R-squared on validation set for lasso regression models"
   ]
  },
  {
   "cell_type": "code",
   "execution_count": 21,
   "metadata": {},
   "outputs": [
    {
     "name": "stdout",
     "output_type": "stream",
     "text": [
      "R2 score for Lasso_flights_total: 0.9158765478432008\n",
      "R2 score for Lasso_flights_cancel: 0.823228661772087\n",
      "R2 score for Lasso_flights_delay: 0.335181738403064\n",
      "R2 score for Lasso_flights_ontime: 0.656340419596772\n",
      "R2 score for Lasso_flights_arr_ontime: 0.6710188460023864\n",
      "R2 score for Lasso_flights_arr_delay: 0.29620587454594227\n",
      "R2 score for Lasso_flights_arr_cancel: 0.8303846950282266\n",
      "R2 score for Lasso_flights_dep_ontime: 0.6381976521098794\n",
      "R2 score for Lasso_flights_dep_delay: 0.39153803558508626\n",
      "R2 score for Lasso_flights_dep_cancel: 0.7974032012874714\n",
      "R2 score for Lasso_flights_cancel_pct: 0.8045508986693678\n",
      "R2 score for Lasso_flights_delay_pct: 0.2476434187485096\n",
      "R2 score for Lasso_flights_ontime_pct: 0.5763573546788832\n",
      "R2 score for Lasso_flights_arr_delay_pct: 0.22145506523234193\n",
      "R2 score for Lasso_flights_arr_ontime_pct: 0.5447154882678514\n",
      "R2 score for Lasso_flights_arr_cancel_pct: 0.808523550420089\n",
      "R2 score for Lasso_flights_dep_delay_pct: 0.28123190013845245\n",
      "R2 score for Lasso_flights_dep_ontime_pct: 0.5947855065284482\n",
      "R2 score for Lasso_flights_dep_cancel_pct: 0.7873886713695439\n"
     ]
    }
   ],
   "source": [
    "lasso_predictions = {}\n",
    "lasso_r2_scores = {}\n",
    "\n",
    "# Get R2 scores for Lasso regression\n",
    "for target in y.columns.tolist():\n",
    "    lasso_predictions[f'y_pred_{target}'] = lasso_models[f'lasso_{target}'].predict(X_val)\n",
    "    # create a dictionary of R2 scores\n",
    "\n",
    "     \n",
    "    print(f\"R2 score for Lasso_{target}: {r2_score(y_val[target], lasso_predictions[f'y_pred_{target}'])}\")"
   ]
  },
  {
   "cell_type": "markdown",
   "metadata": {},
   "source": [
    "## Ridge regression"
   ]
  },
  {
   "cell_type": "code",
   "execution_count": 9,
   "metadata": {},
   "outputs": [
    {
     "name": "stdout",
     "output_type": "stream",
     "text": [
      "R2 score: 0.6561574193569667\n",
      "Ridge coefficients:\n",
      "                       features  coefficients  coefficients_abs\n",
      "38   cat__holiday_Thanksgiving   -176.156278        176.156278\n",
      "82   num__flights_cancel_lag_1    -85.173769         85.173769\n",
      "70              num__wx_maxref    -82.796434         82.796434\n",
      "16   cat__day_of_week_Saturday    -66.255361         66.255361\n",
      "44           cat__xmas_eve_yes    -64.502099         64.502099\n",
      "..                         ...           ...               ...\n",
      "25  cat__holiday_Christmas Day      1.750882          1.750882\n",
      "74      num__wx_wind_direction      1.731846          1.731846\n",
      "46      cat__new_years_eve_yes      0.767014          0.767014\n",
      "45       cat__new_years_eve_no     -0.767014          0.767014\n",
      "68                 num__wx_vis      0.721992          0.721992\n",
      "\n",
      "[89 rows x 3 columns]\n"
     ]
    }
   ],
   "source": [
    "# Ridge pipeline for flights_ontime\n",
    "ridge_pipeline = make_pipeline(\n",
    "    LR__transformer,\n",
    "    Ridge(alpha=10)\n",
    ")\n",
    "\n",
    "# Ridge fit\n",
    "ridge_pipeline.fit(X_train, y_train['flights_ontime'])\n",
    "\n",
    "# Ridge predictions\n",
    "y_pred_ontime = ridge_pipeline.predict(X_val)\n",
    "print(\"R2 score:\", r2_score(y_val['flights_ontime'], y_pred_ontime))\n",
    "\n",
    "# Features and coefficients with non-zero coefficients\n",
    "ridge_ontime_features = ridge_pipeline.named_steps['columntransformer'].get_feature_names_out()\n",
    "ridge_ontime_coef = ridge_pipeline.named_steps['ridge'].coef_\n",
    "\n",
    "# Create a dataframe of features and coefficients\n",
    "ridge_ontime_df = pd.DataFrame({'features': ridge_ontime_features, 'coefficients': ridge_ontime_coef})\n",
    "\n",
    "# Sort the dataframe by coefficient absolute value, largest to smallest\n",
    "ridge_ontime_df['coefficients_abs'] = ridge_ontime_df['coefficients'].abs()\n",
    "ridge_ontime_df.sort_values(by='coefficients_abs', inplace=True, ascending=False)\n",
    "\n",
    "# Filter the dataframe for coefficients_abs > .1\n",
    "ridge_ontime_df = ridge_ontime_df[ridge_ontime_df['coefficients_abs'] > .1]\n",
    "\n",
    "print(\"Ridge coefficients:\\n\", ridge_ontime_df)"
   ]
  },
  {
   "cell_type": "markdown",
   "metadata": {},
   "source": [
    "## Ridge regression on all targets using grid search CV to tune alpha"
   ]
  },
  {
   "cell_type": "code",
   "execution_count": 10,
   "metadata": {},
   "outputs": [
    {
     "name": "stdout",
     "output_type": "stream",
     "text": [
      "Best parameters for Ridge_flights_total:\n",
      "{'ridge__alpha': 0.1}\n",
      "Best parameters for Ridge_flights_cancel:\n",
      "{'ridge__alpha': 100}\n",
      "Best parameters for Ridge_flights_delay:\n",
      "{'ridge__alpha': 10}\n",
      "Best parameters for Ridge_flights_ontime:\n",
      "{'ridge__alpha': 1}\n",
      "Best parameters for Ridge_flights_arr_ontime:\n",
      "{'ridge__alpha': 1}\n",
      "Best parameters for Ridge_flights_arr_delay:\n",
      "{'ridge__alpha': 10}\n",
      "Best parameters for Ridge_flights_arr_cancel:\n",
      "{'ridge__alpha': 100}\n",
      "Best parameters for Ridge_flights_dep_ontime:\n",
      "{'ridge__alpha': 1}\n",
      "Best parameters for Ridge_flights_dep_delay:\n",
      "{'ridge__alpha': 10}\n",
      "Best parameters for Ridge_flights_dep_cancel:\n",
      "{'ridge__alpha': 100}\n",
      "Best parameters for Ridge_flights_cancel_pct:\n",
      "{'ridge__alpha': 100}\n",
      "Best parameters for Ridge_flights_delay_pct:\n",
      "{'ridge__alpha': 20}\n",
      "Best parameters for Ridge_flights_ontime_pct:\n",
      "{'ridge__alpha': 30}\n",
      "Best parameters for Ridge_flights_arr_delay_pct:\n",
      "{'ridge__alpha': 30}\n",
      "Best parameters for Ridge_flights_arr_ontime_pct:\n",
      "{'ridge__alpha': 30}\n",
      "Best parameters for Ridge_flights_arr_cancel_pct:\n",
      "{'ridge__alpha': 100}\n",
      "Best parameters for Ridge_flights_dep_delay_pct:\n",
      "{'ridge__alpha': 10}\n",
      "Best parameters for Ridge_flights_dep_ontime_pct:\n",
      "{'ridge__alpha': 20}\n",
      "Best parameters for Ridge_flights_dep_cancel_pct:\n",
      "{'ridge__alpha': 100}\n"
     ]
    }
   ],
   "source": [
    "param_grid = {'ridge__alpha': [.01, .1, 1, 10, 20, 30, 40, 50, 60, 70, 80, 90, 100]}\n",
    "\n",
    "grid_search = GridSearchCV(\n",
    "    ridge_pipeline,\n",
    "    param_grid,\n",
    "    cv=5,\n",
    "    scoring='neg_mean_squared_error',\n",
    "    n_jobs=-1, # n_jobs=-1 means use all available CPU cores\n",
    "    verbose=0\n",
    "    )\n",
    "\n",
    "for target in y.columns.tolist():\n",
    "    grid_search.fit(X_train, y_train[target])\n",
    "    globals()[f\"Ridge_{target}\"] = grid_search.best_estimator_\n",
    "    print(f\"Best parameters for Ridge_{target}:\\n{grid_search.best_params_}\")\n"
   ]
  },
  {
   "cell_type": "code",
   "execution_count": 11,
   "metadata": {},
   "outputs": [
    {
     "name": "stdout",
     "output_type": "stream",
     "text": [
      "R2 score for Ridge_flights_total: 0.9151877612263515\n"
     ]
    },
    {
     "name": "stdout",
     "output_type": "stream",
     "text": [
      "R2 score for Ridge_flights_cancel: 0.818514495419842\n",
      "R2 score for Ridge_flights_delay: 0.35007346641511805\n",
      "R2 score for Ridge_flights_ontime: 0.6576534831096172\n",
      "R2 score for Ridge_flights_arr_ontime: 0.6660449773742638\n",
      "R2 score for Ridge_flights_arr_delay: 0.30389208037446114\n",
      "R2 score for Ridge_flights_arr_cancel: 0.8341571188025663\n",
      "R2 score for Ridge_flights_dep_ontime: 0.6392973214567113\n",
      "R2 score for Ridge_flights_dep_delay: 0.3945615774886526\n",
      "R2 score for Ridge_flights_dep_cancel: 0.7895087731546115\n",
      "R2 score for Ridge_flights_cancel_pct: 0.8092271742765116\n",
      "R2 score for Ridge_flights_delay_pct: 0.2581214024444216\n",
      "R2 score for Ridge_flights_ontime_pct: 0.5729818307428827\n",
      "R2 score for Ridge_flights_arr_delay_pct: 0.23283859083345892\n",
      "R2 score for Ridge_flights_arr_ontime_pct: 0.5404683797598525\n",
      "R2 score for Ridge_flights_arr_cancel_pct: 0.8177503796239907\n",
      "R2 score for Ridge_flights_dep_delay_pct: 0.28822744344601947\n",
      "R2 score for Ridge_flights_dep_ontime_pct: 0.5923636010440227\n",
      "R2 score for Ridge_flights_dep_cancel_pct: 0.7880219722232273\n"
     ]
    }
   ],
   "source": [
    "# Get R2 scores for Ridge regression\n",
    "models = {}\n",
    "predictions = {}\n",
    "\n",
    "for target in y.columns.tolist():\n",
    "    models[f\"Ridge_{target}\"] = Ridge().fit(X_train, y_train[target]_)\n",
    "\n",
    "for target in y.columns.tolist():\n",
    "    globals()[f\"y_pred_{target}\"] = globals()[f\"Ridge_{target}\"].predict(X_val)\n",
    "    print(f\"R2 score for Ridge_{target}: {r2_score(y_val[target], globals()[f'y_pred_{target}'])}\")"
   ]
  },
  {
   "cell_type": "code",
   "execution_count": 15,
   "metadata": {},
   "outputs": [
    {
     "name": "stdout",
     "output_type": "stream",
     "text": [
      "MAE score for Ridge_flights_total: 61.29455178164893\n",
      "MAE score for Ridge_flights_cancel: 31.497056062823084\n",
      "MAE score for Ridge_flights_delay: 96.7885015784389\n",
      "MAE score for Ridge_flights_ontime: 125.96024053129943\n",
      "MAE score for Ridge_flights_arr_ontime: 62.57233555122675\n",
      "MAE score for Ridge_flights_arr_delay: 49.9781958626491\n",
      "MAE score for Ridge_flights_arr_cancel: 14.8164764791897\n",
      "MAE score for Ridge_flights_dep_ontime: 64.88053476094524\n",
      "MAE score for Ridge_flights_dep_delay: 49.68656515818731\n",
      "MAE score for Ridge_flights_dep_cancel: 17.056655567857643\n",
      "MAE score for Ridge_flights_cancel_pct: 2.036425957410606\n",
      "MAE score for Ridge_flights_delay_pct: 5.40532495414463\n",
      "MAE score for Ridge_flights_ontime_pct: 6.245727429623\n",
      "MAE score for Ridge_flights_arr_delay_pct: 5.595246585487878\n",
      "MAE score for Ridge_flights_arr_ontime_pct: 6.448872649783835\n",
      "MAE score for Ridge_flights_arr_cancel_pct: 1.931121884292273\n",
      "MAE score for Ridge_flights_dep_delay_pct: 5.576355484978591\n",
      "MAE score for Ridge_flights_dep_ontime_pct: 6.410671135628999\n",
      "MAE score for Ridge_flights_dep_cancel_pct: 2.1865391446509506\n"
     ]
    }
   ],
   "source": [
    "# Get MAE scores for Ridge regression\n",
    "for target in y.columns.tolist():\n",
    "    globals()[f\"y_pred_{target}\"] = globals()[f\"Ridge_{target}\"].predict(X_val)\n",
    "    print(f\"MAE score for Ridge_{target}: {mean_absolute_error(y_val[target], globals()[f'y_pred_{target}'])}\")"
   ]
  },
  {
   "cell_type": "code",
   "execution_count": 26,
   "metadata": {},
   "outputs": [
    {
     "name": "stdout",
     "output_type": "stream",
     "text": [
      "Best parameters for elastic_net_flights_total:\n",
      "{'elasticnet__alpha': 0.01, 'elasticnet__l1_ratio': 0.9}\n"
     ]
    },
    {
     "name": "stderr",
     "output_type": "stream",
     "text": [
      "/Users/shobbs/.local/share/virtualenvs/prediction-rTmYhf-l/lib/python3.11/site-packages/sklearn/linear_model/_coordinate_descent.py:678: ConvergenceWarning: Objective did not converge. You might want to increase the number of iterations, check the scale of the features or consider increasing regularisation. Duality gap: 1.306e+05, tolerance: 1.197e+03\n",
      "  model = cd_fast.enet_coordinate_descent(\n"
     ]
    },
    {
     "name": "stdout",
     "output_type": "stream",
     "text": [
      "Best parameters for elastic_net_flights_cancel:\n",
      "{'elasticnet__alpha': 0.1, 'elasticnet__l1_ratio': 0.1}\n"
     ]
    },
    {
     "name": "stderr",
     "output_type": "stream",
     "text": [
      "/Users/shobbs/.local/share/virtualenvs/prediction-rTmYhf-l/lib/python3.11/site-packages/sklearn/linear_model/_coordinate_descent.py:678: ConvergenceWarning: Objective did not converge. You might want to increase the number of iterations, check the scale of the features or consider increasing regularisation. Duality gap: 1.323e+06, tolerance: 4.132e+03\n",
      "  model = cd_fast.enet_coordinate_descent(\n",
      "/Users/shobbs/.local/share/virtualenvs/prediction-rTmYhf-l/lib/python3.11/site-packages/sklearn/linear_model/_coordinate_descent.py:678: ConvergenceWarning: Objective did not converge. You might want to increase the number of iterations, check the scale of the features or consider increasing regularisation. Duality gap: 1.492e+06, tolerance: 4.129e+03\n",
      "  model = cd_fast.enet_coordinate_descent(\n",
      "/Users/shobbs/.local/share/virtualenvs/prediction-rTmYhf-l/lib/python3.11/site-packages/sklearn/linear_model/_coordinate_descent.py:678: ConvergenceWarning: Objective did not converge. You might want to increase the number of iterations, check the scale of the features or consider increasing regularisation. Duality gap: 1.632e+06, tolerance: 4.024e+03\n",
      "  model = cd_fast.enet_coordinate_descent(\n",
      "/Users/shobbs/.local/share/virtualenvs/prediction-rTmYhf-l/lib/python3.11/site-packages/sklearn/linear_model/_coordinate_descent.py:678: ConvergenceWarning: Objective did not converge. You might want to increase the number of iterations, check the scale of the features or consider increasing regularisation. Duality gap: 4.350e+03, tolerance: 4.024e+03\n",
      "  model = cd_fast.enet_coordinate_descent(\n",
      "/Users/shobbs/.local/share/virtualenvs/prediction-rTmYhf-l/lib/python3.11/site-packages/sklearn/linear_model/_coordinate_descent.py:678: ConvergenceWarning: Objective did not converge. You might want to increase the number of iterations, check the scale of the features or consider increasing regularisation. Duality gap: 1.286e+06, tolerance: 3.843e+03\n",
      "  model = cd_fast.enet_coordinate_descent(\n",
      "/Users/shobbs/.local/share/virtualenvs/prediction-rTmYhf-l/lib/python3.11/site-packages/sklearn/linear_model/_coordinate_descent.py:678: ConvergenceWarning: Objective did not converge. You might want to increase the number of iterations, check the scale of the features or consider increasing regularisation. Duality gap: 6.202e+03, tolerance: 4.129e+03\n",
      "  model = cd_fast.enet_coordinate_descent(\n",
      "/Users/shobbs/.local/share/virtualenvs/prediction-rTmYhf-l/lib/python3.11/site-packages/sklearn/linear_model/_coordinate_descent.py:678: ConvergenceWarning: Objective did not converge. You might want to increase the number of iterations, check the scale of the features or consider increasing regularisation. Duality gap: 1.727e+06, tolerance: 4.024e+03\n",
      "  model = cd_fast.enet_coordinate_descent(\n"
     ]
    },
    {
     "name": "stdout",
     "output_type": "stream",
     "text": [
      "Best parameters for elastic_net_flights_delay:\n",
      "{'elasticnet__alpha': 0.01, 'elasticnet__l1_ratio': 0.3}\n"
     ]
    },
    {
     "name": "stderr",
     "output_type": "stream",
     "text": [
      "/Users/shobbs/.local/share/virtualenvs/prediction-rTmYhf-l/lib/python3.11/site-packages/sklearn/linear_model/_coordinate_descent.py:678: ConvergenceWarning: Objective did not converge. You might want to increase the number of iterations, check the scale of the features or consider increasing regularisation. Duality gap: 1.159e+06, tolerance: 9.401e+03\n",
      "  model = cd_fast.enet_coordinate_descent(\n",
      "/Users/shobbs/.local/share/virtualenvs/prediction-rTmYhf-l/lib/python3.11/site-packages/sklearn/linear_model/_coordinate_descent.py:678: ConvergenceWarning: Objective did not converge. You might want to increase the number of iterations, check the scale of the features or consider increasing regularisation. Duality gap: 1.424e+06, tolerance: 8.610e+03\n",
      "  model = cd_fast.enet_coordinate_descent(\n",
      "/Users/shobbs/.local/share/virtualenvs/prediction-rTmYhf-l/lib/python3.11/site-packages/sklearn/linear_model/_coordinate_descent.py:678: ConvergenceWarning: Objective did not converge. You might want to increase the number of iterations, check the scale of the features or consider increasing regularisation. Duality gap: 6.332e+05, tolerance: 9.064e+03\n",
      "  model = cd_fast.enet_coordinate_descent(\n",
      "/Users/shobbs/.local/share/virtualenvs/prediction-rTmYhf-l/lib/python3.11/site-packages/sklearn/linear_model/_coordinate_descent.py:678: ConvergenceWarning: Objective did not converge. You might want to increase the number of iterations, check the scale of the features or consider increasing regularisation. Duality gap: 1.998e+06, tolerance: 8.782e+03\n",
      "  model = cd_fast.enet_coordinate_descent(\n",
      "/Users/shobbs/.local/share/virtualenvs/prediction-rTmYhf-l/lib/python3.11/site-packages/sklearn/linear_model/_coordinate_descent.py:678: ConvergenceWarning: Objective did not converge. You might want to increase the number of iterations, check the scale of the features or consider increasing regularisation. Duality gap: 3.241e+06, tolerance: 8.537e+03\n",
      "  model = cd_fast.enet_coordinate_descent(\n",
      "/Users/shobbs/.local/share/virtualenvs/prediction-rTmYhf-l/lib/python3.11/site-packages/sklearn/linear_model/_coordinate_descent.py:678: ConvergenceWarning: Objective did not converge. You might want to increase the number of iterations, check the scale of the features or consider increasing regularisation. Duality gap: 2.052e+06, tolerance: 1.110e+04\n",
      "  model = cd_fast.enet_coordinate_descent(\n"
     ]
    },
    {
     "name": "stdout",
     "output_type": "stream",
     "text": [
      "Best parameters for elastic_net_flights_ontime:\n",
      "{'elasticnet__alpha': 0.01, 'elasticnet__l1_ratio': 0.9}\n"
     ]
    },
    {
     "name": "stderr",
     "output_type": "stream",
     "text": [
      "/Users/shobbs/.local/share/virtualenvs/prediction-rTmYhf-l/lib/python3.11/site-packages/sklearn/linear_model/_coordinate_descent.py:678: ConvergenceWarning: Objective did not converge. You might want to increase the number of iterations, check the scale of the features or consider increasing regularisation. Duality gap: 1.039e+05, tolerance: 2.512e+03\n",
      "  model = cd_fast.enet_coordinate_descent(\n",
      "/Users/shobbs/.local/share/virtualenvs/prediction-rTmYhf-l/lib/python3.11/site-packages/sklearn/linear_model/_coordinate_descent.py:678: ConvergenceWarning: Objective did not converge. You might want to increase the number of iterations, check the scale of the features or consider increasing regularisation. Duality gap: 2.885e+05, tolerance: 2.404e+03\n",
      "  model = cd_fast.enet_coordinate_descent(\n",
      "/Users/shobbs/.local/share/virtualenvs/prediction-rTmYhf-l/lib/python3.11/site-packages/sklearn/linear_model/_coordinate_descent.py:678: ConvergenceWarning: Objective did not converge. You might want to increase the number of iterations, check the scale of the features or consider increasing regularisation. Duality gap: 1.500e+04, tolerance: 2.449e+03\n",
      "  model = cd_fast.enet_coordinate_descent(\n",
      "/Users/shobbs/.local/share/virtualenvs/prediction-rTmYhf-l/lib/python3.11/site-packages/sklearn/linear_model/_coordinate_descent.py:678: ConvergenceWarning: Objective did not converge. You might want to increase the number of iterations, check the scale of the features or consider increasing regularisation. Duality gap: 4.355e+05, tolerance: 2.377e+03\n",
      "  model = cd_fast.enet_coordinate_descent(\n",
      "/Users/shobbs/.local/share/virtualenvs/prediction-rTmYhf-l/lib/python3.11/site-packages/sklearn/linear_model/_coordinate_descent.py:678: ConvergenceWarning: Objective did not converge. You might want to increase the number of iterations, check the scale of the features or consider increasing regularisation. Duality gap: 1.399e+05, tolerance: 3.085e+03\n",
      "  model = cd_fast.enet_coordinate_descent(\n"
     ]
    },
    {
     "name": "stdout",
     "output_type": "stream",
     "text": [
      "Best parameters for elastic_net_flights_arr_ontime:\n",
      "{'elasticnet__alpha': 0.01, 'elasticnet__l1_ratio': 0.9}\n"
     ]
    },
    {
     "name": "stderr",
     "output_type": "stream",
     "text": [
      "/Users/shobbs/.local/share/virtualenvs/prediction-rTmYhf-l/lib/python3.11/site-packages/sklearn/linear_model/_coordinate_descent.py:678: ConvergenceWarning: Objective did not converge. You might want to increase the number of iterations, check the scale of the features or consider increasing regularisation. Duality gap: 2.043e+05, tolerance: 1.049e+03\n",
      "  model = cd_fast.enet_coordinate_descent(\n",
      "/Users/shobbs/.local/share/virtualenvs/prediction-rTmYhf-l/lib/python3.11/site-packages/sklearn/linear_model/_coordinate_descent.py:678: ConvergenceWarning: Objective did not converge. You might want to increase the number of iterations, check the scale of the features or consider increasing regularisation. Duality gap: 1.994e+05, tolerance: 1.043e+03\n",
      "  model = cd_fast.enet_coordinate_descent(\n",
      "/Users/shobbs/.local/share/virtualenvs/prediction-rTmYhf-l/lib/python3.11/site-packages/sklearn/linear_model/_coordinate_descent.py:678: ConvergenceWarning: Objective did not converge. You might want to increase the number of iterations, check the scale of the features or consider increasing regularisation. Duality gap: 1.536e+05, tolerance: 1.024e+03\n",
      "  model = cd_fast.enet_coordinate_descent(\n"
     ]
    },
    {
     "name": "stdout",
     "output_type": "stream",
     "text": [
      "Best parameters for elastic_net_flights_arr_delay:\n",
      "{'elasticnet__alpha': 0.01, 'elasticnet__l1_ratio': 0.1}\n",
      "Best parameters for elastic_net_flights_arr_cancel:\n",
      "{'elasticnet__alpha': 0.1, 'elasticnet__l1_ratio': 0.1}\n"
     ]
    },
    {
     "name": "stderr",
     "output_type": "stream",
     "text": [
      "/Users/shobbs/.local/share/virtualenvs/prediction-rTmYhf-l/lib/python3.11/site-packages/sklearn/linear_model/_coordinate_descent.py:678: ConvergenceWarning: Objective did not converge. You might want to increase the number of iterations, check the scale of the features or consider increasing regularisation. Duality gap: 3.836e+04, tolerance: 2.202e+03\n",
      "  model = cd_fast.enet_coordinate_descent(\n",
      "/Users/shobbs/.local/share/virtualenvs/prediction-rTmYhf-l/lib/python3.11/site-packages/sklearn/linear_model/_coordinate_descent.py:678: ConvergenceWarning: Objective did not converge. You might want to increase the number of iterations, check the scale of the features or consider increasing regularisation. Duality gap: 9.651e+04, tolerance: 2.000e+03\n",
      "  model = cd_fast.enet_coordinate_descent(\n",
      "/Users/shobbs/.local/share/virtualenvs/prediction-rTmYhf-l/lib/python3.11/site-packages/sklearn/linear_model/_coordinate_descent.py:678: ConvergenceWarning: Objective did not converge. You might want to increase the number of iterations, check the scale of the features or consider increasing regularisation. Duality gap: 1.543e+04, tolerance: 2.110e+03\n",
      "  model = cd_fast.enet_coordinate_descent(\n",
      "/Users/shobbs/.local/share/virtualenvs/prediction-rTmYhf-l/lib/python3.11/site-packages/sklearn/linear_model/_coordinate_descent.py:678: ConvergenceWarning: Objective did not converge. You might want to increase the number of iterations, check the scale of the features or consider increasing regularisation. Duality gap: 1.353e+05, tolerance: 2.038e+03\n",
      "  model = cd_fast.enet_coordinate_descent(\n",
      "/Users/shobbs/.local/share/virtualenvs/prediction-rTmYhf-l/lib/python3.11/site-packages/sklearn/linear_model/_coordinate_descent.py:678: ConvergenceWarning: Objective did not converge. You might want to increase the number of iterations, check the scale of the features or consider increasing regularisation. Duality gap: 1.160e+05, tolerance: 2.584e+03\n",
      "  model = cd_fast.enet_coordinate_descent(\n"
     ]
    },
    {
     "name": "stdout",
     "output_type": "stream",
     "text": [
      "Best parameters for elastic_net_flights_dep_ontime:\n",
      "{'elasticnet__alpha': 0.01, 'elasticnet__l1_ratio': 0.9}\n"
     ]
    },
    {
     "name": "stderr",
     "output_type": "stream",
     "text": [
      "/Users/shobbs/.local/share/virtualenvs/prediction-rTmYhf-l/lib/python3.11/site-packages/sklearn/linear_model/_coordinate_descent.py:678: ConvergenceWarning: Objective did not converge. You might want to increase the number of iterations, check the scale of the features or consider increasing regularisation. Duality gap: 7.369e+04, tolerance: 1.116e+03\n",
      "  model = cd_fast.enet_coordinate_descent(\n",
      "/Users/shobbs/.local/share/virtualenvs/prediction-rTmYhf-l/lib/python3.11/site-packages/sklearn/linear_model/_coordinate_descent.py:678: ConvergenceWarning: Objective did not converge. You might want to increase the number of iterations, check the scale of the features or consider increasing regularisation. Duality gap: 1.045e+05, tolerance: 1.087e+03\n",
      "  model = cd_fast.enet_coordinate_descent(\n",
      "/Users/shobbs/.local/share/virtualenvs/prediction-rTmYhf-l/lib/python3.11/site-packages/sklearn/linear_model/_coordinate_descent.py:678: ConvergenceWarning: Objective did not converge. You might want to increase the number of iterations, check the scale of the features or consider increasing regularisation. Duality gap: 1.012e+05, tolerance: 1.103e+03\n",
      "  model = cd_fast.enet_coordinate_descent(\n",
      "/Users/shobbs/.local/share/virtualenvs/prediction-rTmYhf-l/lib/python3.11/site-packages/sklearn/linear_model/_coordinate_descent.py:678: ConvergenceWarning: Objective did not converge. You might want to increase the number of iterations, check the scale of the features or consider increasing regularisation. Duality gap: 1.260e+05, tolerance: 1.073e+03\n",
      "  model = cd_fast.enet_coordinate_descent(\n",
      "/Users/shobbs/.local/share/virtualenvs/prediction-rTmYhf-l/lib/python3.11/site-packages/sklearn/linear_model/_coordinate_descent.py:678: ConvergenceWarning: Objective did not converge. You might want to increase the number of iterations, check the scale of the features or consider increasing regularisation. Duality gap: 7.460e+04, tolerance: 1.030e+03\n",
      "  model = cd_fast.enet_coordinate_descent(\n"
     ]
    },
    {
     "name": "stdout",
     "output_type": "stream",
     "text": [
      "Best parameters for elastic_net_flights_dep_delay:\n",
      "{'elasticnet__alpha': 0.01, 'elasticnet__l1_ratio': 0.5}\n"
     ]
    },
    {
     "name": "stderr",
     "output_type": "stream",
     "text": [
      "/Users/shobbs/.local/share/virtualenvs/prediction-rTmYhf-l/lib/python3.11/site-packages/sklearn/linear_model/_coordinate_descent.py:678: ConvergenceWarning: Objective did not converge. You might want to increase the number of iterations, check the scale of the features or consider increasing regularisation. Duality gap: 4.234e+03, tolerance: 3.161e+02\n",
      "  model = cd_fast.enet_coordinate_descent(\n"
     ]
    },
    {
     "name": "stdout",
     "output_type": "stream",
     "text": [
      "Best parameters for elastic_net_flights_dep_cancel:\n",
      "{'elasticnet__alpha': 0.1, 'elasticnet__l1_ratio': 0.1}\n",
      "Best parameters for elastic_net_flights_cancel_pct:\n",
      "{'elasticnet__alpha': 0.1, 'elasticnet__l1_ratio': 0.3}\n"
     ]
    },
    {
     "name": "stderr",
     "output_type": "stream",
     "text": [
      "/Users/shobbs/.local/share/virtualenvs/prediction-rTmYhf-l/lib/python3.11/site-packages/sklearn/linear_model/_coordinate_descent.py:678: ConvergenceWarning: Objective did not converge. You might want to increase the number of iterations, check the scale of the features or consider increasing regularisation. Duality gap: 3.215e+01, tolerance: 1.167e+01\n",
      "  model = cd_fast.enet_coordinate_descent(\n",
      "/Users/shobbs/.local/share/virtualenvs/prediction-rTmYhf-l/lib/python3.11/site-packages/sklearn/linear_model/_coordinate_descent.py:678: ConvergenceWarning: Objective did not converge. You might want to increase the number of iterations, check the scale of the features or consider increasing regularisation. Duality gap: 2.109e+01, tolerance: 1.151e+01\n",
      "  model = cd_fast.enet_coordinate_descent(\n",
      "/Users/shobbs/.local/share/virtualenvs/prediction-rTmYhf-l/lib/python3.11/site-packages/sklearn/linear_model/_coordinate_descent.py:678: ConvergenceWarning: Objective did not converge. You might want to increase the number of iterations, check the scale of the features or consider increasing regularisation. Duality gap: 6.146e+01, tolerance: 1.130e+01\n",
      "  model = cd_fast.enet_coordinate_descent(\n"
     ]
    },
    {
     "name": "stdout",
     "output_type": "stream",
     "text": [
      "Best parameters for elastic_net_flights_delay_pct:\n",
      "{'elasticnet__alpha': 0.01, 'elasticnet__l1_ratio': 0.7}\n"
     ]
    },
    {
     "name": "stderr",
     "output_type": "stream",
     "text": [
      "/Users/shobbs/.local/share/virtualenvs/prediction-rTmYhf-l/lib/python3.11/site-packages/sklearn/linear_model/_coordinate_descent.py:678: ConvergenceWarning: Objective did not converge. You might want to increase the number of iterations, check the scale of the features or consider increasing regularisation. Duality gap: 3.953e+01, tolerance: 1.971e+01\n",
      "  model = cd_fast.enet_coordinate_descent(\n",
      "/Users/shobbs/.local/share/virtualenvs/prediction-rTmYhf-l/lib/python3.11/site-packages/sklearn/linear_model/_coordinate_descent.py:678: ConvergenceWarning: Objective did not converge. You might want to increase the number of iterations, check the scale of the features or consider increasing regularisation. Duality gap: 4.245e+01, tolerance: 2.019e+01\n",
      "  model = cd_fast.enet_coordinate_descent(\n",
      "/Users/shobbs/.local/share/virtualenvs/prediction-rTmYhf-l/lib/python3.11/site-packages/sklearn/linear_model/_coordinate_descent.py:678: ConvergenceWarning: Objective did not converge. You might want to increase the number of iterations, check the scale of the features or consider increasing regularisation. Duality gap: 9.353e+01, tolerance: 1.893e+01\n",
      "  model = cd_fast.enet_coordinate_descent(\n"
     ]
    },
    {
     "name": "stdout",
     "output_type": "stream",
     "text": [
      "Best parameters for elastic_net_flights_ontime_pct:\n",
      "{'elasticnet__alpha': 0.01, 'elasticnet__l1_ratio': 0.1}\n"
     ]
    },
    {
     "name": "stderr",
     "output_type": "stream",
     "text": [
      "/Users/shobbs/.local/share/virtualenvs/prediction-rTmYhf-l/lib/python3.11/site-packages/sklearn/linear_model/_coordinate_descent.py:678: ConvergenceWarning: Objective did not converge. You might want to increase the number of iterations, check the scale of the features or consider increasing regularisation. Duality gap: 5.480e+01, tolerance: 1.224e+01\n",
      "  model = cd_fast.enet_coordinate_descent(\n"
     ]
    },
    {
     "name": "stdout",
     "output_type": "stream",
     "text": [
      "Best parameters for elastic_net_flights_arr_delay_pct:\n",
      "{'elasticnet__alpha': 0.01, 'elasticnet__l1_ratio': 0.3}\n"
     ]
    },
    {
     "name": "stderr",
     "output_type": "stream",
     "text": [
      "/Users/shobbs/.local/share/virtualenvs/prediction-rTmYhf-l/lib/python3.11/site-packages/sklearn/linear_model/_coordinate_descent.py:678: ConvergenceWarning: Objective did not converge. You might want to increase the number of iterations, check the scale of the features or consider increasing regularisation. Duality gap: 7.834e+01, tolerance: 2.097e+01\n",
      "  model = cd_fast.enet_coordinate_descent(\n",
      "/Users/shobbs/.local/share/virtualenvs/prediction-rTmYhf-l/lib/python3.11/site-packages/sklearn/linear_model/_coordinate_descent.py:678: ConvergenceWarning: Objective did not converge. You might want to increase the number of iterations, check the scale of the features or consider increasing regularisation. Duality gap: 7.685e+01, tolerance: 2.055e+01\n",
      "  model = cd_fast.enet_coordinate_descent(\n"
     ]
    },
    {
     "name": "stdout",
     "output_type": "stream",
     "text": [
      "Best parameters for elastic_net_flights_arr_ontime_pct:\n",
      "{'elasticnet__alpha': 0.01, 'elasticnet__l1_ratio': 0.1}\n",
      "Best parameters for elastic_net_flights_arr_cancel_pct:\n",
      "{'elasticnet__alpha': 0.1, 'elasticnet__l1_ratio': 0.3}\n"
     ]
    },
    {
     "name": "stderr",
     "output_type": "stream",
     "text": [
      "/Users/shobbs/.local/share/virtualenvs/prediction-rTmYhf-l/lib/python3.11/site-packages/sklearn/linear_model/_coordinate_descent.py:678: ConvergenceWarning: Objective did not converge. You might want to increase the number of iterations, check the scale of the features or consider increasing regularisation. Duality gap: 1.262e+01, tolerance: 1.160e+01\n",
      "  model = cd_fast.enet_coordinate_descent(\n",
      "/Users/shobbs/.local/share/virtualenvs/prediction-rTmYhf-l/lib/python3.11/site-packages/sklearn/linear_model/_coordinate_descent.py:678: ConvergenceWarning: Objective did not converge. You might want to increase the number of iterations, check the scale of the features or consider increasing regularisation. Duality gap: 2.510e+01, tolerance: 1.170e+01\n",
      "  model = cd_fast.enet_coordinate_descent(\n"
     ]
    },
    {
     "name": "stdout",
     "output_type": "stream",
     "text": [
      "Best parameters for elastic_net_flights_dep_delay_pct:\n",
      "{'elasticnet__alpha': 0.01, 'elasticnet__l1_ratio': 0.7}\n"
     ]
    },
    {
     "name": "stderr",
     "output_type": "stream",
     "text": [
      "/Users/shobbs/.local/share/virtualenvs/prediction-rTmYhf-l/lib/python3.11/site-packages/sklearn/linear_model/_coordinate_descent.py:678: ConvergenceWarning: Objective did not converge. You might want to increase the number of iterations, check the scale of the features or consider increasing regularisation. Duality gap: 3.786e+01, tolerance: 1.893e+01\n",
      "  model = cd_fast.enet_coordinate_descent(\n",
      "/Users/shobbs/.local/share/virtualenvs/prediction-rTmYhf-l/lib/python3.11/site-packages/sklearn/linear_model/_coordinate_descent.py:678: ConvergenceWarning: Objective did not converge. You might want to increase the number of iterations, check the scale of the features or consider increasing regularisation. Duality gap: 4.914e+01, tolerance: 1.923e+01\n",
      "  model = cd_fast.enet_coordinate_descent(\n"
     ]
    },
    {
     "name": "stdout",
     "output_type": "stream",
     "text": [
      "Best parameters for elastic_net_flights_dep_ontime_pct:\n",
      "{'elasticnet__alpha': 0.01, 'elasticnet__l1_ratio': 0.1}\n",
      "Best parameters for elastic_net_flights_dep_cancel_pct:\n",
      "{'elasticnet__alpha': 0.1, 'elasticnet__l1_ratio': 0.3}\n"
     ]
    }
   ],
   "source": [
    "from sklearn.linear_model import ElasticNet\n",
    "\n",
    "# ElasticNet pipeline for flights_ontime\n",
    "elastic_net_pipeline = make_pipeline(\n",
    "    LR__transformer,\n",
    "    ElasticNet(alpha=10, l1_ratio=0.5))\n",
    "\n",
    "# Grid search for ElasticNet\n",
    "param_grid = {'elasticnet__alpha': [.01, .1, 1, 10, 20, 30, 40, 50, 60, 70, 80, 90, 100],\n",
    "              'elasticnet__l1_ratio': [.1, .3, .5, .7, .9]}\n",
    "\n",
    "grid_search = GridSearchCV(\n",
    "    elastic_net_pipeline,\n",
    "    param_grid,\n",
    "    cv=5,\n",
    "    scoring='neg_mean_squared_error',\n",
    "    n_jobs=-1, # n_jobs=-1 means use all available CPU cores\n",
    "    verbose=0\n",
    "    )\n",
    "\n",
    "elastic_net_models = {}\n",
    "\n",
    "for target in y.columns.tolist():\n",
    "    grid_search.fit(X_train, y_train[target])\n",
    "    elastic_net_models[f\"elastic_net_{target}\"] = grid_search.best_estimator_\n",
    "    # print(f\"Best parameters for elastic_net_{target}:\\n{grid_search.best_params_}\")"
   ]
  },
  {
   "cell_type": "code",
   "execution_count": 27,
   "metadata": {},
   "outputs": [
    {
     "name": "stdout",
     "output_type": "stream",
     "text": [
      "R2 score for ElasticNet_flights_total: 0.9212738567722281\n",
      "R2 score for ElasticNet_flights_cancel: 0.8176442739314613\n",
      "R2 score for ElasticNet_flights_delay: 0.34997013226812146\n",
      "R2 score for ElasticNet_flights_ontime: 0.6583849828508679\n",
      "R2 score for ElasticNet_flights_arr_ontime: 0.6675301310622083\n",
      "R2 score for ElasticNet_flights_arr_delay: 0.30517269769528454\n",
      "R2 score for ElasticNet_flights_arr_cancel: 0.8344536556158904\n",
      "R2 score for ElasticNet_flights_dep_ontime: 0.639379510449414\n",
      "R2 score for ElasticNet_flights_dep_delay: 0.39398289604738035\n",
      "R2 score for ElasticNet_flights_dep_cancel: 0.7877726817877178\n",
      "R2 score for ElasticNet_flights_cancel_pct: 0.8104453670693246\n",
      "R2 score for ElasticNet_flights_delay_pct: 0.2536369027644553\n",
      "R2 score for ElasticNet_flights_ontime_pct: 0.567183323471081\n",
      "R2 score for ElasticNet_flights_arr_delay_pct: 0.2273549642330861\n",
      "R2 score for ElasticNet_flights_arr_ontime_pct: 0.5326997167921952\n",
      "R2 score for ElasticNet_flights_arr_cancel_pct: 0.8193519616023064\n",
      "R2 score for ElasticNet_flights_dep_delay_pct: 0.28750424301631294\n",
      "R2 score for ElasticNet_flights_dep_ontime_pct: 0.5904555386054082\n",
      "R2 score for ElasticNet_flights_dep_cancel_pct: 0.7886578752770818\n"
     ]
    }
   ],
   "source": [
    "elastic_net_predictions = {}\n",
    "\n",
    "# Get R2 scores for ElasticNet regression\n",
    "for target in y.columns.tolist():\n",
    "    elastic_net_predictions[f'y_pred_{target}'] = elastic_net_models[f'elastic_net_{target}'].predict(X_val)\n",
    "    print(f\"R2 score for ElasticNet_{target}: {r2_score(y_val[target], elastic_net_predictions[f'y_pred_{target}'])}\")"
   ]
  }
 ],
 "metadata": {
  "kernelspec": {
   "display_name": "prediction-rTmYhf-l",
   "language": "python",
   "name": "python3"
  },
  "language_info": {
   "codemirror_mode": {
    "name": "ipython",
    "version": 3
   },
   "file_extension": ".py",
   "mimetype": "text/x-python",
   "name": "python",
   "nbconvert_exporter": "python",
   "pygments_lexer": "ipython3",
   "version": "3.11.5"
  }
 },
 "nbformat": 4,
 "nbformat_minor": 2
}
