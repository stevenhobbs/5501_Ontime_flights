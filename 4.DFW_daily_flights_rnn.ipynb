{
 "cells": [
  {
   "cell_type": "markdown",
   "metadata": {},
   "source": [
    "# INTRODUCTION"
   ]
  },
  {
   "cell_type": "markdown",
   "metadata": {},
   "source": [
    "## Libraries"
   ]
  },
  {
   "cell_type": "code",
   "execution_count": 20,
   "metadata": {},
   "outputs": [
    {
     "name": "stdout",
     "output_type": "stream",
     "text": [
      "The tensorboard extension is already loaded. To reload it, use:\n",
      "  %reload_ext tensorboard\n"
     ]
    }
   ],
   "source": [
    "import os\n",
    "import pandas as pd\n",
    "import numpy as np\n",
    "import matplotlib.pyplot as plt\n",
    "import seaborn as sns\n",
    "import datetime\n",
    "import random\n",
    "\n",
    "from sklearn.model_selection import train_test_split\n",
    "from sklearn.pipeline import make_pipeline\n",
    "from sklearn.preprocessing import StandardScaler, OneHotEncoder, MinMaxScaler\n",
    "from sklearn.metrics import mean_absolute_error, mean_squared_error, mean_absolute_percentage_error, r2_score\n",
    "from sklearn.compose import ColumnTransformer\n",
    "\n",
    "\n",
    "import tensorflow as tf\n",
    "from tensorflow.data import Dataset, AUTOTUNE\n",
    "\n",
    "from keras import layers, models, Sequential, regularizers\n",
    "from keras.layers import SimpleRNN, Dense, Dropout, Embedding, LSTM, GRU\n",
    "from keras.optimizers.legacy import Adam, RMSprop, SGD\n",
    "from keras.callbacks import EarlyStopping, ModelCheckpoint, TensorBoard\n",
    "from keras.utils import timeseries_dataset_from_array\n",
    "from keras.utils import plot_model\n",
    "from keras.regularizers import L1, L2, L1L2\n",
    "\n",
    "import keras_tuner as kt\n",
    "\n",
    "%load_ext tensorboard"
   ]
  },
  {
   "cell_type": "markdown",
   "metadata": {},
   "source": [
    "## Import data & column groups"
   ]
  },
  {
   "cell_type": "code",
   "execution_count": 21,
   "metadata": {},
   "outputs": [],
   "source": [
    "DAILY_DATA_PATH = \"data.v3/daily\" \n",
    "\n",
    "df = pd.read_parquet(os.path.join(DAILY_DATA_PATH, \"daily_flights_and_weather_merged.parquet\"))\n",
    "\n",
    "# Flights column groups\n",
    "flights_terminal_cols = ['flights_arr_A', 'flights_arr_B', 'flights_arr_C', 'flights_arr_D', 'flights_arr_E',\n",
    "                         'flights_dep_A', 'flights_dep_B', 'flights_dep_C', 'flights_dep_D', 'flights_dep_E']\n",
    "\n",
    "flights_non_terminal_cols = ['flights_total', 'flights_cancel', 'flights_delay', 'flights_ontime',\n",
    "                             'flights_arr_ontime', 'flights_arr_delay', 'flights_arr_cancel',\n",
    "                             'flights_dep_ontime', 'flights_dep_delay', 'flights_dep_cancel']\n",
    "\n",
    "flights_percentage_cols = ['flights_cancel_pct', 'flights_delay_pct', 'flights_ontime_pct',\n",
    "                            'flights_arr_delay_pct', 'flights_arr_ontime_pct', 'flights_arr_cancel_pct',\n",
    "                            'flights_dep_delay_pct', 'flights_dep_ontime_pct', 'flights_dep_cancel_pct']\n",
    "\n",
    "# Date column groups\n",
    "date_cols = ['date', 'covid', 'ordinal_date', 'year', 'month', 'day_of_month', 'day_of_week', 'season', 'holiday', 'halloween', 'xmas_eve', 'new_years_eve', 'jan_2', 'jan_3', 'day_before_easter', 'days_until_xmas', 'days_until_thanksgiving', 'days_until_july_4th', 'days_until_labor_day', 'days_until_memorial_day']\n",
    "\n",
    "# Weather column groups\n",
    "weather_cols = ['wx_temperature_max', 'wx_temperature_min', 'wx_apcp', 'wx_prate', 'wx_asnow', 'wx_frozr', 'wx_vis', 'wx_gust', 'wx_maxref', 'wx_cape', 'wx_lftx', 'wx_wind_speed', 'wx_wind_direction']\n",
    "\n",
    "# Lag column groups\n",
    "lag_cols =  ['flights_cancel_lag_1', 'flights_cancel_lag_2', 'flights_cancel_lag_3', 'flights_cancel_lag_4', 'flights_cancel_lag_5', 'flights_cancel_lag_6', 'flights_cancel_lag_7',\n",
    "             'flights_delay_lag_1', 'flights_delay_lag_2', 'flights_delay_lag_3', 'flights_delay_lag_4', 'flights_delay_lag_5', 'flights_delay_lag_6', 'flights_delay_lag_7',\n",
    "             'flights_ontime_lag_1', 'flights_ontime_lag_2', 'flights_ontime_lag_3', 'flights_ontime_lag_4', 'flights_ontime_lag_5', 'flights_ontime_lag_6', 'flights_ontime_lag_7',]"
   ]
  },
  {
   "cell_type": "markdown",
   "metadata": {},
   "source": [
    "## Train Test Split - \"flights_ontime\""
   ]
  },
  {
   "cell_type": "code",
   "execution_count": 22,
   "metadata": {},
   "outputs": [
    {
     "name": "stdout",
     "output_type": "stream",
     "text": [
      "X_train_full shape: (1516, 54)\n",
      "y_train_full shape: (1516,)\n",
      "X_train shape: (1364, 54)\n",
      "y_train shape: (1364,)\n",
      "X_Test shape: (169, 54)\n",
      "y_Test shape: (169,)\n"
     ]
    }
   ],
   "source": [
    "# Select features and targets\n",
    "train_features = ['random'] + date_cols + weather_cols + lag_cols\n",
    "targets = flights_non_terminal_cols + flights_percentage_cols\n",
    "\n",
    "# Create X and y\n",
    "X = df[train_features].drop('date', axis=1)\n",
    "y = df[targets]\n",
    "\n",
    "# Split data into train and test sets\n",
    "X_train_full, X_test, y_train_full, y_test = train_test_split(X, y['flights_ontime'], test_size=0.1, random_state=42)\n",
    "\n",
    "# Split data into X_train_rull and y_train_full into train and validation sets\n",
    "X_train, X_val, y_train, y_val = train_test_split(X_train_full, y_train_full, test_size=0.1, random_state=42)\n",
    "\n",
    "# Print shapes\n",
    "print(\"X_train_full shape:\", X_train_full.shape)\n",
    "print(\"y_train_full shape:\", y_train_full.shape)\n",
    "\n",
    "print(\"X_train shape:\", X_train.shape)\n",
    "print(\"y_train shape:\", y_train.shape)\n",
    "\n",
    "print(\"X_Test shape:\", X_test.shape)\n",
    "print(\"y_Test shape:\", y_test.shape)"
   ]
  },
  {
   "cell_type": "markdown",
   "metadata": {},
   "source": [
    "# PREPROCESS FOR DENSE NETWORK"
   ]
  },
  {
   "cell_type": "code",
   "execution_count": 23,
   "metadata": {},
   "outputs": [
    {
     "name": "stdout",
     "output_type": "stream",
     "text": [
      "Feature names: ['random', 'covid', 'ordinal_date', 'year', 'month', 'day_of_month', 'day_of_week', 'season', 'holiday', 'halloween', 'xmas_eve', 'new_years_eve', 'jan_2', 'jan_3', 'day_before_easter', 'days_until_xmas', 'days_until_thanksgiving', 'days_until_july_4th', 'days_until_labor_day', 'days_until_memorial_day', 'wx_temperature_max', 'wx_temperature_min', 'wx_apcp', 'wx_prate', 'wx_asnow', 'wx_frozr', 'wx_vis', 'wx_gust', 'wx_maxref', 'wx_cape', 'wx_lftx', 'wx_wind_speed', 'wx_wind_direction', 'flights_cancel_lag_1', 'flights_cancel_lag_2', 'flights_cancel_lag_3', 'flights_cancel_lag_4', 'flights_cancel_lag_5', 'flights_cancel_lag_6', 'flights_cancel_lag_7', 'flights_delay_lag_1', 'flights_delay_lag_2', 'flights_delay_lag_3', 'flights_delay_lag_4', 'flights_delay_lag_5', 'flights_delay_lag_6', 'flights_delay_lag_7', 'flights_ontime_lag_1', 'flights_ontime_lag_2', 'flights_ontime_lag_3', 'flights_ontime_lag_4', 'flights_ontime_lag_5', 'flights_ontime_lag_6', 'flights_ontime_lag_7']\n",
      "Target columns: ['flights_total', 'flights_cancel', 'flights_delay', 'flights_ontime', 'flights_arr_ontime', 'flights_arr_delay', 'flights_arr_cancel', 'flights_dep_ontime', 'flights_dep_delay', 'flights_dep_cancel', 'flights_cancel_pct', 'flights_delay_pct', 'flights_ontime_pct', 'flights_arr_delay_pct', 'flights_arr_ontime_pct', 'flights_arr_cancel_pct', 'flights_dep_delay_pct', 'flights_dep_ontime_pct', 'flights_dep_cancel_pct']\n",
      "\n",
      "Unique data types in X\n",
      "float64    30\n",
      "object     11\n",
      "int64       7\n",
      "float32     4\n",
      "int32       2\n",
      "Name: count, dtype: int64\n",
      "\n",
      "Categorical columns to one-hot-encode: ['covid', 'month', 'day_of_week', 'season', 'holiday', 'halloween', 'xmas_eve', 'new_years_eve', 'jan_2', 'jan_3', 'day_before_easter']\n"
     ]
    }
   ],
   "source": [
    "print(f\"Feature names: {X.columns.tolist()}\")\n",
    "print(f\"Target columns: {y.columns.tolist()}\", end=\"\\n\\n\")\n",
    "print(\"Unique data types in X\", X.dtypes.value_counts(), sep = '\\n')\n",
    "\n",
    "# Identify categorical and numeric columns in X\n",
    "categorical_cols = X.select_dtypes(include=['object', 'category']).columns.tolist()\n",
    "numeric_cols = X.select_dtypes(include = ['float64', 'float32', 'int32', 'int64']).columns.tolist()\n",
    "\n",
    "print(f\"\\nCategorical columns to one-hot-encode: {categorical_cols}\")\n",
    "\n",
    "# Fit transformers to the training data\n",
    "f_scaler = StandardScaler()\n",
    "f_scaler.fit(X_train[numeric_cols])\n",
    "\n",
    "ohe = OneHotEncoder(sparse_output=False, handle_unknown='ignore') # Some observed holidays may not be in the training data\n",
    "ohe.fit(X_train[categorical_cols])\n",
    "\n",
    "t_scaler = StandardScaler()\n",
    "t_scaler.fit(y_train.values.reshape(-1, 1)) # reshape y_train to be 2D\n",
    "\n",
    "# Define preprocessor\n",
    "def preprocess(features, target, set_global_scaler = False):\n",
    "    global global_targer_scaler\n",
    "\n",
    "    scaled_features = f_scaler.transform(features[numeric_cols])\n",
    "    encoded_features = ohe.transform(features[categorical_cols])\n",
    "    scaled_target = t_scaler.transform(target.values.reshape(-1, 1))\n",
    "    processed_features = np.concatenate([scaled_features, encoded_features], axis=1)\n",
    "\n",
    "    if set_global_scaler:\n",
    "        global_targer_scaler = t_scaler\n",
    "\n",
    "    return processed_features, scaled_target\n",
    "\n",
    "# Preprocess the data\n",
    "X_train_d, y_train_d = preprocess(X_train, y_train, set_global_scaler=True)\n",
    "X_val_d, y_val_d = preprocess(X_val, y_val)"
   ]
  },
  {
   "cell_type": "markdown",
   "metadata": {},
   "source": [
    "# ONE-NEURON \"LINEAR MODEL\"\n",
    "\n",
    "The goal of this section is to simulate linear regression using a neural newtork with one neuron and no activation function. I'll use L1 and L2 regularization to simulate elastic net regression and compare results to those found in 3.daily_linear_regression.ipynb."
   ]
  },
  {
   "cell_type": "markdown",
   "metadata": {},
   "source": [
    "## Create TensorFlow datasets"
   ]
  },
  {
   "cell_type": "code",
   "execution_count": 24,
   "metadata": {},
   "outputs": [],
   "source": [
    "# TensorFlow datasets\n",
    "train_ds_flights_ontime_d = Dataset.from_tensor_slices((X_train_d, y_train_d)).shuffle(len(X_train_d))\n",
    "val_ds_flights_ontime_d = Dataset.from_tensor_slices((X_val_d, y_val_d)).shuffle(len(X_val_d))\n",
    "\n",
    "# Batch and prefetch\n",
    "batch_size = 32\n",
    "train_ds_flights_ontime_d = train_ds_flights_ontime_d.batch(batch_size).prefetch(AUTOTUNE)\n",
    "val_ds_flights_ontime_d = val_ds_flights_ontime_d.batch(batch_size).prefetch(AUTOTUNE)\n"
   ]
  },
  {
   "cell_type": "markdown",
   "metadata": {},
   "source": [
    "## Create R-squared metric"
   ]
  },
  {
   "cell_type": "code",
   "execution_count": 25,
   "metadata": {},
   "outputs": [],
   "source": [
    "from keras import backend as K\n",
    "\n",
    "def r_squared(y_true, y_pred):\n",
    "    y_true_inv = tf.numpy_function(global_targer_scaler.inverse_transform, [y_true], tf.float32)\n",
    "    y_pred_inv = tf.numpy_function(global_targer_scaler.inverse_transform, [y_pred], tf.float32)\n",
    "    SS_res =  K.sum(K.square(y_true_inv - y_pred_inv)) \n",
    "    SS_tot = K.sum(K.square(y_true_inv - K.mean(y_true_inv))) \n",
    "    return ( 1 - SS_res/(SS_tot + K.epsilon()) )"
   ]
  },
  {
   "cell_type": "markdown",
   "metadata": {},
   "source": [
    "## Build one-neuron hypermodel"
   ]
  },
  {
   "cell_type": "code",
   "execution_count": 26,
   "metadata": {},
   "outputs": [],
   "source": [
    "def model_builder(hp):\n",
    "    learning_rate = hp.Float('learning_rate', min_value=1e-4, max_value=1e-2, sampling='LOG', default=1e-3)\n",
    "    l1_regularization = hp.Float('l1_regularization', min_value=1e-5, max_value=1e-1, sampling='LOG', default=1e-2)\n",
    "    l2_regularization =  hp.Float('l2_regularization', min_value=1e-5, max_value=1e-1, sampling='LOG', default=1e-2)\n",
    "\n",
    "    model = Sequential([\n",
    "        Dense(units = 1, \n",
    "            input_dim=X_train_d.shape[1], \n",
    "            kernel_regularizer=L1L2(l1_regularization, l2_regularization))\n",
    "    ])\n",
    "\n",
    "    model.compile(optimizer=Adam(learning_rate=learning_rate), \n",
    "                loss='mean_squared_error', \n",
    "                metrics=['mean_absolute_error', r_squared])\n",
    "    \n",
    "    return model"
   ]
  },
  {
   "cell_type": "markdown",
   "metadata": {},
   "source": [
    "## Get one-neuron hyperparameters using Keras random search tuner"
   ]
  },
  {
   "cell_type": "code",
   "execution_count": null,
   "metadata": {},
   "outputs": [],
   "source": [
    "# Callbacks & Tensorboard Setup\n",
    "early_stopping_1n_RS = EarlyStopping(monitor='val_loss', patience=10, restore_best_weights=True)\n",
    "\n",
    "# Create a Keras Tuner\n",
    "OneNeuron_tuner_RS = kt.RandomSearch(\n",
    "    hypermodel = model_builder,\n",
    "    objective='val_loss',\n",
    "    max_trials=100,\n",
    "    executions_per_trial=2,\n",
    "    directory='logs/flights_ontime/dense_lr/',\n",
    "    project_name='tuner',\n",
    "    overwrite = True\n",
    ")"
   ]
  },
  {
   "cell_type": "code",
   "execution_count": 29,
   "metadata": {},
   "outputs": [
    {
     "name": "stdout",
     "output_type": "stream",
     "text": [
      "Trial 100 Complete [00h 00m 06s]\n",
      "val_loss: 0.41847823560237885\n",
      "\n",
      "Best val_loss So Far: 0.4020496606826782\n",
      "Total elapsed time: 00h 16m 12s\n"
     ]
    }
   ],
   "source": [
    "# Search for best hyperparameters\n",
    "OneNeuron_tuner_RS.search(train_ds_flights_ontime_d, \n",
    "             validation_data=val_ds_flights_ontime_d, \n",
    "             epochs=500, \n",
    "             callbacks=[early_stopping_1n_RS])"
   ]
  },
  {
   "cell_type": "markdown",
   "metadata": {},
   "source": [
    "## Best 3 one-model fits: hyperparameters and validation score"
   ]
  },
  {
   "cell_type": "code",
   "execution_count": 30,
   "metadata": {},
   "outputs": [
    {
     "name": "stdout",
     "output_type": "stream",
     "text": [
      "Results summary\n",
      "Results in logs/flights_ontime/dense_lr/tuner\n",
      "Showing 3 best trials\n",
      "Objective(name=\"val_loss\", direction=\"min\")\n",
      "\n",
      "Trial 019 summary\n",
      "Hyperparameters:\n",
      "learning_rate: 0.009929423316917789\n",
      "l1_regularization: 1.3613167506559008e-05\n",
      "l2_regularization: 0.00012991522868696756\n",
      "Score: 0.4020496606826782\n",
      "\n",
      "Trial 059 summary\n",
      "Hyperparameters:\n",
      "learning_rate: 0.004606695421104385\n",
      "l1_regularization: 0.00029860952692165044\n",
      "l2_regularization: 5.808762353159573e-05\n",
      "Score: 0.4038938581943512\n",
      "\n",
      "Trial 054 summary\n",
      "Hyperparameters:\n",
      "learning_rate: 0.0006717233174087713\n",
      "l1_regularization: 9.528015594093438e-05\n",
      "l2_regularization: 0.00024633112762105513\n",
      "Score: 0.4060898572206497\n"
     ]
    }
   ],
   "source": [
    "OneNeuron_tuner_RS.results_summary(num_trials=3)"
   ]
  },
  {
   "cell_type": "markdown",
   "metadata": {},
   "source": [
    "## Get model weights and save best one-neuron model"
   ]
  },
  {
   "cell_type": "code",
   "execution_count": 31,
   "metadata": {},
   "outputs": [
    {
     "name": "stdout",
     "output_type": "stream",
     "text": [
      "INFO:tensorflow:Assets written to: models/flights_ontime/OneNeuron_LR_model/assets\n"
     ]
    },
    {
     "name": "stderr",
     "output_type": "stream",
     "text": [
      "INFO:tensorflow:Assets written to: models/flights_ontime/OneNeuron_LR_model/assets\n"
     ]
    }
   ],
   "source": [
    "# Get best hyperparameters\n",
    "best_hps = OneNeuron_tuner_RS.get_best_hyperparameters(num_trials = 1)[0]\n",
    "\n",
    "# Tensorboard setup\n",
    "!rm -rf ./logs/flights_ontime/OneNeuron/tensorboard/ \n",
    "log_dir = \"logs/flights_ontime/OneNeuron/tensorboard/\" + datetime.datetime.now().strftime(\"%Y%m%d-%H%M%S\")\n",
    "tensorboard_callback = TensorBoard(log_dir=log_dir, histogram_freq=1)\n",
    "\n",
    "early_stopping_best = EarlyStopping(monitor='val_loss', patience=50, restore_best_weights=True)\n",
    "\n",
    "best_hps = OneNeuron_tuner_RS.get_best_hyperparameters(num_trials = 1)[0]\n",
    "OneNeuron_LR_model = OneNeuron_tuner_RS.hypermodel.build(best_hps)\n",
    "history = OneNeuron_LR_model.fit(train_ds_flights_ontime_d, \n",
    "                    validation_data=val_ds_flights_ontime_d, \n",
    "                    epochs=500, \n",
    "                    callbacks=[early_stopping_best, tensorboard_callback],\n",
    "                    verbose=0)\n",
    "\n",
    "# Save the trained model\n",
    "OneNeuron_LR_model.save('models/flights_ontime/OneNeuron_LR_model')"
   ]
  },
  {
   "cell_type": "markdown",
   "metadata": {},
   "source": [
    "##  TensorBoard for best 1-neuron model\n",
    "The TensorBoard dashboard shows plots generated from training logs that provide insight into the training of a model. \n",
    "\n",
    "The time series tab shows several plots within expandable windows for our one-neuronal model, \"dense_#\" and for the loss and training metrics by epoch.  Under dense_#, TesnorBoard shows histograms of the bias values \"bias_0\" and weight values, \"kernel_0\" by epoch. The epoch number is on the y-axis with the first epochs at the top and the most recent epoch at the bottom. These plots show how the bias and weight distributions change with training. For the one-neuron model, the weights appear to stabilize well before the training ended, at around 50 to 60 epochs, while the bias terms continued to drift downwards with training.\n",
    "\n",
    "The other plots under Time Series show how the loss and metrics change with training epoch or iteration (batch number). Based on these plots, the one-neuron model appears to have high bias and high variance. High bias is indicated by the large difference in loss and performance metrics between the train and validation datasets. High variance is indicated by the large variation in the validation loss, mae, and r-squared metrics that persists through training, even after these metrics stabilize on the training set at around epoch 40. Taken together, the one-neuron model appears to lack flexibility and would also benefit from having more data to train the weights.\n",
    "\n",
    "\n"
   ]
  },
  {
   "cell_type": "code",
   "execution_count": 32,
   "metadata": {},
   "outputs": [
    {
     "data": {
      "text/plain": [
       "Reusing TensorBoard on port 6008 (pid 3470), started 23:22:38 ago. (Use '!kill 3470' to kill it.)"
      ]
     },
     "metadata": {},
     "output_type": "display_data"
    },
    {
     "data": {
      "text/html": [
       "\n",
       "      <iframe id=\"tensorboard-frame-4c9a5a16167bf48b\" width=\"100%\" height=\"800\" frameborder=\"0\">\n",
       "      </iframe>\n",
       "      <script>\n",
       "        (function() {\n",
       "          const frame = document.getElementById(\"tensorboard-frame-4c9a5a16167bf48b\");\n",
       "          const url = new URL(\"http://localhost\");\n",
       "          const port = 6008;\n",
       "          if (port) {\n",
       "            url.port = port;\n",
       "          }\n",
       "          frame.src = url;\n",
       "        })();\n",
       "      </script>\n",
       "    "
      ],
      "text/plain": [
       "<IPython.core.display.HTML object>"
      ]
     },
     "metadata": {},
     "output_type": "display_data"
    }
   ],
   "source": [
    "%tensorboard --logdir logs/flights_ontime/OneNeuron/tensorboard"
   ]
  },
  {
   "cell_type": "markdown",
   "metadata": {},
   "source": [
    "## Load and evalute the best 1-neuron model"
   ]
  },
  {
   "cell_type": "code",
   "execution_count": 33,
   "metadata": {},
   "outputs": [
    {
     "name": "stdout",
     "output_type": "stream",
     "text": [
      "5/5 [==============================] - 0s 584us/step\n",
      "Validation Metrics:\n",
      "- Validation MAE: 117.60\n",
      "- Validation MSE: 31933.98\n",
      "- Validation R^2: 0.688\n",
      "\n"
     ]
    }
   ],
   "source": [
    "# Load the trained model\n",
    "OneNeuron_LR_model = models.load_model('models/flights_ontime/OneNeuron_LR_model', custom_objects={'r_squared': r_squared})\n",
    "\n",
    "# Inverse transform the predicted values and get validation MAE, MSE, and R^2\n",
    "y_pred = OneNeuron_LR_model.predict(X_val_d)\n",
    "y_pred_inv = global_targer_scaler.inverse_transform(y_pred)\n",
    "y_val_inv = global_targer_scaler.inverse_transform(y_val_d)\n",
    "\n",
    "OneNeuron_val_mae = mean_absolute_error(y_val_inv, y_pred_inv)\n",
    "OneNeuron_val_mse = mean_squared_error(y_val_inv, y_pred_inv)\n",
    "OneNeuron_val_r2 = r2_score(y_val_inv, y_pred_inv)\n",
    "\n",
    "print(f\"\"\"Validation Metrics:\n",
    "- Validation MAE: {OneNeuron_val_mae:.2f}\n",
    "- Validation MSE: {OneNeuron_val_mse:.2f}\n",
    "- Validation R^2: {OneNeuron_val_r2:.3f}\n",
    "\"\"\")"
   ]
  },
  {
   "cell_type": "markdown",
   "metadata": {},
   "source": [
    "# SHALLOW DENSE NEURAL NETWORK (SDNN)"
   ]
  },
  {
   "cell_type": "markdown",
   "metadata": {},
   "source": [
    "## Build SDNN Hypermodel"
   ]
  },
  {
   "cell_type": "code",
   "execution_count": 34,
   "metadata": {},
   "outputs": [],
   "source": [
    "def build_model(hp):\n",
    "    n_input_neurons = hp.Int('n_input_neurons', min_value=4, max_value=16, default=8)\n",
    "    n_hidden_neurons = hp.Int('n_hidden_neurons', min_value=4, max_value=16, default=8)\n",
    "    learning_rate = hp.Float('learning_rate', min_value=1e-4, max_value=1e-2, sampling='LOG', default=1e-3)\n",
    "    dropout_rate = hp.Float('dropout_rate', min_value=0.02, max_value=0.03, default=0.0)\n",
    "    l2_regularization =  hp.Float('l2_regularization', min_value=1e-5, max_value=1e-1, sampling='LOG', default=1e-2)\n",
    "\n",
    "    model = Sequential()\n",
    "\n",
    "    # Input layer\n",
    "    model.add(Dense(units=n_input_neurons, \n",
    "                    activation='relu', \n",
    "                    kernel_regularizer=L2(l2_regularization)))\n",
    "    model.add(Dropout(dropout_rate))\n",
    "    \n",
    "    # Hidden layer\n",
    "    model.add(Dense(units=n_hidden_neurons, \n",
    "                    activation='relu', \n",
    "                    kernel_regularizer=L2(l2_regularization)))\n",
    "    model.add(Dropout(dropout_rate))\n",
    "\n",
    "    # Output layer\n",
    "    model.add(Dense(1))\n",
    "\n",
    "    model.compile(optimizer=Adam(learning_rate=learning_rate), \n",
    "                  loss='mean_squared_error', \n",
    "                  metrics=['mean_absolute_error'])\n",
    "    \n",
    "    return model"
   ]
  },
  {
   "cell_type": "markdown",
   "metadata": {},
   "source": [
    "## Get hyperparameters for SDNN using Bayesian optimization"
   ]
  },
  {
   "cell_type": "code",
   "execution_count": 35,
   "metadata": {},
   "outputs": [
    {
     "name": "stdout",
     "output_type": "stream",
     "text": [
      "Trial 100 Complete [00h 00m 05s]\n",
      "val_loss: 0.4497844725847244\n",
      "\n",
      "Best val_loss So Far: 0.38925886154174805\n",
      "Total elapsed time: 00h 11m 41s\n"
     ]
    }
   ],
   "source": [
    "early_stopping_BO = EarlyStopping(monitor='val_loss', patience=10, restore_best_weights=True)\n",
    "\n",
    "SDNN_tuner_BO = kt.BayesianOptimization(\n",
    "    hypermodel = build_model,\n",
    "    objective='val_loss',\n",
    "    max_trials=100,\n",
    "    executions_per_trial=2,\n",
    "    num_initial_points=2,\n",
    "    directory = \"logs/flights_ontime/SDNN\",\n",
    "    project_name = \"bayesian_optimization_tuner\",\n",
    "    overwrite=True\n",
    ")\n",
    "\n",
    "SDNN_tuner_BO.search(train_ds_flights_ontime_d, \n",
    "             epochs=500, \n",
    "             validation_data=val_ds_flights_ontime_d, \n",
    "             callbacks=[early_stopping_BO])"
   ]
  },
  {
   "cell_type": "markdown",
   "metadata": {},
   "source": [
    "## Get hyperparameters for SDNN using random search\n",
    "In the interest of time, I didn't use the random search tuner on the last training run. This approach consistently underperformed compared to Bayesian optimization and hyperband."
   ]
  },
  {
   "cell_type": "code",
   "execution_count": null,
   "metadata": {},
   "outputs": [],
   "source": [
    "# early_stopping_RS = EarlyStopping(monitor='val_loss', patience=10, restore_best_weights=True)\n",
    "\n",
    "# SDNN_tuner_RS = kt.RandomSearch(\n",
    "#     hypermodel = build_model,\n",
    "#     objective='val_loss',\n",
    "#     max_trials=100,\n",
    "#     executions_per_trial=2,\n",
    "#     directory = \"logs/flights_ontime/SDNN\",\n",
    "#     project_name = \"random_search_tuner\",\n",
    "#     overwrite=True\n",
    "# )\n",
    "\n",
    "# SDNN_tuner_RS.search(train_ds_flights_ontime_d,\n",
    "#                 epochs=500, \n",
    "#                 validation_data=val_ds_flights_ontime_d, \n",
    "#                 callbacks=[early_stopping_RS])"
   ]
  },
  {
   "cell_type": "markdown",
   "metadata": {},
   "source": [
    "## Get hyperparameters for best SDNN model using hyperband"
   ]
  },
  {
   "cell_type": "code",
   "execution_count": 36,
   "metadata": {},
   "outputs": [
    {
     "name": "stdout",
     "output_type": "stream",
     "text": [
      "Trial 725 Complete [00h 00m 02s]\n",
      "val_loss: 0.44303569197654724\n",
      "\n",
      "Best val_loss So Far: 0.3603585958480835\n",
      "Total elapsed time: 00h 21m 51s\n"
     ]
    }
   ],
   "source": [
    "early_stopping_HB = EarlyStopping(monitor='val_loss', patience=10, restore_best_weights=True)\n",
    "\n",
    "SDNN_tuner_HB = kt.Hyperband(\n",
    "    hypermodel = build_model,\n",
    "    objective='val_loss',\n",
    "    max_epochs=600,\n",
    "    factor=3,\n",
    "    directory = \"logs/flights_ontime/SDNN\",\n",
    "    project_name = \"hyperband_tuner\",\n",
    "    overwrite=True\n",
    ")\n",
    "\n",
    "SDNN_tuner_HB.search(train_ds_flights_ontime_d,\n",
    "                epochs=600, \n",
    "                validation_data=val_ds_flights_ontime_d, \n",
    "                callbacks=[early_stopping_HB])"
   ]
  },
  {
   "cell_type": "markdown",
   "metadata": {},
   "source": [
    "## Get weights and save best SDNN model (from hyperband search)"
   ]
  },
  {
   "cell_type": "code",
   "execution_count": 37,
   "metadata": {},
   "outputs": [
    {
     "name": "stdout",
     "output_type": "stream",
     "text": [
      "INFO:tensorflow:Assets written to: models/flights_ontime/SDNN_model/assets\n"
     ]
    },
    {
     "name": "stderr",
     "output_type": "stream",
     "text": [
      "INFO:tensorflow:Assets written to: models/flights_ontime/SDNN_model/assets\n"
     ]
    }
   ],
   "source": [
    "# Get best hyperparameters from Hyperband tuner\n",
    "best_hps = SDNN_tuner_HB.get_best_hyperparameters(num_trials = 1)[0]\n",
    "\n",
    "# Initialize Early Stopping\n",
    "early_stopping_SDNN_best = EarlyStopping(monitor='val_loss', patience=50, restore_best_weights=True)\n",
    "\n",
    "# Setup TensoreBoard\n",
    "!rm -rf ./logs/flights_ontime/SDNN_HB/tensorboard/\n",
    "log_dir = \"logs/flights_ontime/SDNN_HB/tensorboard/\" + datetime.datetime.now().strftime(\"%Y%m%d-%H%M%S\")\n",
    "tensorboard_callback = TensorBoard(log_dir=log_dir, histogram_freq=1)\n",
    "\n",
    "# Train the model with the best hyperparameters\n",
    "SDNN_model = SDNN_tuner_HB.hypermodel.build(best_hps)\n",
    "history = SDNN_model.fit(train_ds_flights_ontime_d, \n",
    "                    validation_data=val_ds_flights_ontime_d, \n",
    "                    epochs=500, \n",
    "                    callbacks=[early_stopping_SDNN_best, tensorboard_callback],\n",
    "                    verbose=0)\n",
    "\n",
    "# Save the trained model\n",
    "SDNN_model.save('models/flights_ontime/SDNN_model')"
   ]
  },
  {
   "cell_type": "markdown",
   "metadata": {},
   "source": [
    "## TensorBoard"
   ]
  },
  {
   "cell_type": "code",
   "execution_count": 38,
   "metadata": {},
   "outputs": [
    {
     "data": {
      "text/plain": [
       "Reusing TensorBoard on port 6009 (pid 27548), started 23:29:38 ago. (Use '!kill 27548' to kill it.)"
      ]
     },
     "metadata": {},
     "output_type": "display_data"
    },
    {
     "data": {
      "text/html": [
       "\n",
       "      <iframe id=\"tensorboard-frame-c430a06c5f662c70\" width=\"100%\" height=\"800\" frameborder=\"0\">\n",
       "      </iframe>\n",
       "      <script>\n",
       "        (function() {\n",
       "          const frame = document.getElementById(\"tensorboard-frame-c430a06c5f662c70\");\n",
       "          const url = new URL(\"http://localhost\");\n",
       "          const port = 6009;\n",
       "          if (port) {\n",
       "            url.port = port;\n",
       "          }\n",
       "          frame.src = url;\n",
       "        })();\n",
       "      </script>\n",
       "    "
      ],
      "text/plain": [
       "<IPython.core.display.HTML object>"
      ]
     },
     "metadata": {},
     "output_type": "display_data"
    }
   ],
   "source": [
    "# TensorBoard\n",
    "%tensorboard --logdir logs/flights_ontime/SDNN_HB/tensorboard"
   ]
  },
  {
   "cell_type": "markdown",
   "metadata": {},
   "source": [
    "## Best SDNN model summary"
   ]
  },
  {
   "cell_type": "code",
   "execution_count": 154,
   "metadata": {},
   "outputs": [
    {
     "name": "stdout",
     "output_type": "stream",
     "text": [
      "Best Hyperparameters:\n",
      "- Number of Hidden Layers: 1\n",
      "- Number of Neurons: 8\n",
      "- Learning Rate: 0.006415517608465564\n",
      "- Dropout Rate: 0.024849650762982137\n",
      "- L2 Regularization: 0.0007243411260176605\n",
      "\n"
     ]
    }
   ],
   "source": [
    "# Load the trained model\n",
    "SDNN_model = models.load_model('models/flights_ontime/SDNN_model')\n",
    "\n",
    "# Print the best hyperparameters\n",
    "print(f\"\"\"Best Hyperparameters:\n",
    "- Number of Hidden Layers: {best_hps.get('n_hidden')}\n",
    "- Number of Neurons: {best_hps.get('n_neurons')}\n",
    "- Learning Rate: {best_hps.get('learning_rate')}\n",
    "- Dropout Rate: {best_hps.get('dropout_rate')}\n",
    "- L2 Regularization: {best_hps.get('l2_regularization')}\n",
    "\"\"\")"
   ]
  },
  {
   "cell_type": "markdown",
   "metadata": {},
   "source": [
    "## Model architecture"
   ]
  },
  {
   "cell_type": "code",
   "execution_count": 39,
   "metadata": {},
   "outputs": [
    {
     "name": "stdout",
     "output_type": "stream",
     "text": [
      "Model: \"sequential_1\"\n",
      "_________________________________________________________________\n",
      " Layer (type)                Output Shape              Param #   \n",
      "=================================================================\n",
      " dense_3 (Dense)             (None, 13)                1261      \n",
      "                                                                 \n",
      " dropout_2 (Dropout)         (None, 13)                0         \n",
      "                                                                 \n",
      " dense_4 (Dense)             (None, 8)                 112       \n",
      "                                                                 \n",
      " dropout_3 (Dropout)         (None, 8)                 0         \n",
      "                                                                 \n",
      " dense_5 (Dense)             (None, 1)                 9         \n",
      "                                                                 \n",
      "=================================================================\n",
      "Total params: 1382 (5.40 KB)\n",
      "Trainable params: 1382 (5.40 KB)\n",
      "Non-trainable params: 0 (0.00 Byte)\n",
      "_________________________________________________________________\n"
     ]
    }
   ],
   "source": [
    "SDNN_model.summary()"
   ]
  },
  {
   "cell_type": "markdown",
   "metadata": {},
   "source": [
    "## Best SDNN model evaluation"
   ]
  },
  {
   "cell_type": "code",
   "execution_count": 40,
   "metadata": {},
   "outputs": [
    {
     "name": "stdout",
     "output_type": "stream",
     "text": [
      "5/5 [==============================] - 0s 1ms/step\n",
      "Validation Metrics:\n",
      "- Validation MAE: 117.43\n",
      "- Validation MSE: 33070.08\n",
      "\n"
     ]
    }
   ],
   "source": [
    "# Inverse transform the predicted values and get validation MAE, MSE\n",
    "y_pred = SDNN_model.predict(X_val_d)\n",
    "y_pred_inv = global_targer_scaler.inverse_transform(y_pred)\n",
    "y_val_inv = global_targer_scaler.inverse_transform(y_val_d)\n",
    "\n",
    "SDNN_val_mae = mean_absolute_error(y_val_inv, y_pred_inv)\n",
    "SDNN_val_mse = mean_squared_error(y_val_inv, y_pred_inv)\n",
    "\n",
    "print(f\"\"\"Validation Metrics:\n",
    "- Validation MAE: {SDNN_val_mae:.2f}\n",
    "- Validation MSE: {SDNN_val_mse:.2f}\n",
    "\"\"\")"
   ]
  },
  {
   "cell_type": "markdown",
   "metadata": {},
   "source": [
    "# RECURRENT NEURAL NETWORK (RNN)"
   ]
  },
  {
   "cell_type": "markdown",
   "metadata": {},
   "source": [
    "## Remove lag variables from X train, val, and test sets\n",
    "The lag variables are redundant with the recurrent loops of an RNN that feed historical information into each neuron. I dropped the lag variables to reduce the redundancy and dimensionality in the RNN datasets. However, the lag variables may have value in an RNN despite introducing redundancy and multicolinearity. Time permitting, I'll retain the lag variables and train the RNN's a second time."
   ]
  },
  {
   "cell_type": "code",
   "execution_count": 41,
   "metadata": {},
   "outputs": [],
   "source": [
    "rnn_X_train_full = X_train_full.drop(lag_cols, axis=1)\n",
    "rnn_X_train = X_train.drop(lag_cols, axis=1)\n",
    "rnn_X_val = X_val.drop(lag_cols, axis=1)\n",
    "rnn_X_test = X_test.drop(lag_cols, axis=1)"
   ]
  },
  {
   "cell_type": "markdown",
   "metadata": {},
   "source": [
    "## RNN column transformers"
   ]
  },
  {
   "cell_type": "code",
   "execution_count": 42,
   "metadata": {},
   "outputs": [],
   "source": [
    "rnn_numeric_cols = [col for col in numeric_cols if col not in lag_cols]\n",
    "\n",
    "# Fit transformers to the training data\n",
    "rnn_f_scaler = StandardScaler()\n",
    "rnn_f_scaler.fit(rnn_X_train[rnn_numeric_cols])\n",
    "\n",
    "# Create a function to preprocess TensorFlow datasets\n",
    "def rnn_preprocess(features, target):\n",
    "    scaled_features = rnn_f_scaler.transform(features[rnn_numeric_cols])\n",
    "    encoded_features = ohe.transform(features[categorical_cols])\n",
    "    scaled_target = t_scaler.transform(target.values.reshape(-1, 1)) # Scaling the target can speed up training, improve convergence, and reduce the impact of outliers for RNNs\n",
    "    processed_features = np.concatenate([scaled_features, encoded_features], axis=1)\n",
    "    return processed_features, scaled_target\n",
    "\n",
    "# Transform the data\n",
    "X_train_rnn, y_train_rnn = rnn_preprocess(X_train, y_train)\n",
    "X_val_rnn, y_val_rnn = rnn_preprocess(X_val, y_val)\n",
    "X_test_rnn, y_test_rnn = rnn_preprocess(X_test, y_test)"
   ]
  },
  {
   "cell_type": "markdown",
   "metadata": {},
   "source": [
    "## Create timeseries datasets\n",
    "\n",
    "The timeseries datasets below use a sequence length of 7 and a time step of 1. Each recurrent neuron will process the sequences in 7 recurrent steps, updating its hidden state based on the current input and the previous hidden state. "
   ]
  },
  {
   "cell_type": "code",
   "execution_count": 43,
   "metadata": {},
   "outputs": [],
   "source": [
    "seed_value = 42\n",
    "np.random.seed(seed_value)\n",
    "tf.random.set_seed(seed_value)\n",
    "\n",
    "seq_length = 7\n",
    "batch_size = 32\n",
    "\n",
    "train_rnn = timeseries_dataset_from_array(\n",
    "    data = X_train_rnn, \n",
    "    targets = y_train_rnn,\n",
    "    sequence_length = seq_length,\n",
    "    sequence_stride = 1,\n",
    "    shuffle = True,\n",
    "    batch_size = batch_size\n",
    ")\n",
    "\n",
    "val_rnn = timeseries_dataset_from_array(\n",
    "    data = X_val_rnn, \n",
    "    targets = y_val_rnn[seq_length-1:],\n",
    "    sequence_length = seq_length,\n",
    "    sequence_stride = 1,\n",
    "    shuffle = True,\n",
    "    batch_size = batch_size\n",
    ")\n",
    "\n",
    "test_rnn = timeseries_dataset_from_array(\n",
    "    data = X_test_rnn, \n",
    "    targets = y_test_rnn[seq_length-1:],\n",
    "    sequence_length = seq_length,\n",
    "    sequence_stride = 1,\n",
    "    shuffle = True,\n",
    "    batch_size = batch_size\n",
    ")"
   ]
  },
  {
   "cell_type": "markdown",
   "metadata": {},
   "source": [
    "# ONE RECURRENT NEURON"
   ]
  },
  {
   "cell_type": "markdown",
   "metadata": {},
   "source": [
    "## Build one-neuron RNN hypermodel"
   ]
  },
  {
   "cell_type": "code",
   "execution_count": 44,
   "metadata": {},
   "outputs": [],
   "source": [
    "# Build one-neuron RNN hypermodel\n",
    "def OneRNN_model_builder(hp):\n",
    "    learning_rate = hp.Float('learning_rate', min_value=1e-4, max_value=1e-2, sampling='LOG', default=1e-3)\n",
    "    kernel_reg = hp.Float('kernel_reg', min_value=1e-5, max_value=1e-1, sampling='LOG', default=1e-2)\n",
    "    recurr_reg = hp.Float('recurr_reg', min_value=1e-5, max_value=1e-1, sampling='LOG', default=1e-2)\n",
    "    model = Sequential([\n",
    "        SimpleRNN(units = 1, \n",
    "                  input_shape = (None, X_train_rnn.shape[1]), \n",
    "                  kernel_regularizer=L2(kernel_reg),\n",
    "                  recurrent_regularizer=L2(recurr_reg),\n",
    "                  )\n",
    "    ])\n",
    "\n",
    "    model.compile(optimizer=Adam(learning_rate=learning_rate), \n",
    "                loss='mean_squared_error', \n",
    "                metrics=['mean_absolute_error', r_squared])\n",
    "    \n",
    "    return model"
   ]
  },
  {
   "cell_type": "code",
   "execution_count": 45,
   "metadata": {},
   "outputs": [
    {
     "name": "stdout",
     "output_type": "stream",
     "text": [
      "Trial 90 Complete [00h 00m 05s]\n",
      "val_loss: 1.3041276931762695\n",
      "\n",
      "Best val_loss So Far: 1.1027542352676392\n",
      "Total elapsed time: 00h 05m 33s\n"
     ]
    }
   ],
   "source": [
    "# Create a Keras Hyperband tuner\n",
    "OneRNN_tuner_HB = kt.Hyperband(\n",
    "    hypermodel = OneRNN_model_builder,\n",
    "    objective='val_loss',\n",
    "    max_epochs=50,\n",
    "    factor=3,\n",
    "    directory='logs/flights_ontime/OneRNN',\n",
    "    project_name='hyperband_tuner',\n",
    "    overwrite = True\n",
    ")\n",
    "\n",
    "early_stopping = EarlyStopping(monitor='val_loss', patience=10, restore_best_weights=True)\n",
    "\n",
    "# Search for best hyperparameters\n",
    "OneRNN_tuner_HB.search(train_rnn, \n",
    "             validation_data=val_rnn, \n",
    "             epochs=50, \n",
    "             callbacks=[early_stopping])"
   ]
  },
  {
   "cell_type": "markdown",
   "metadata": {},
   "source": [
    "## Get weights and save best one-neuron RNN model\n"
   ]
  },
  {
   "cell_type": "code",
   "execution_count": 46,
   "metadata": {},
   "outputs": [
    {
     "name": "stdout",
     "output_type": "stream",
     "text": [
      "INFO:tensorflow:Assets written to: models/flights_ontime/OneRNN_model/assets\n"
     ]
    },
    {
     "name": "stderr",
     "output_type": "stream",
     "text": [
      "INFO:tensorflow:Assets written to: models/flights_ontime/OneRNN_model/assets\n"
     ]
    }
   ],
   "source": [
    "best_hps = OneRNN_tuner_HB.get_best_hyperparameters(num_trials = 1)[0]\n",
    "OneRNN_model = OneRNN_tuner_HB.hypermodel.build(best_hps)\n",
    "\n",
    "# Setup TensoreBoard\n",
    "!rm -rf ./logs/flights_ontime/OneRNN/tensorboard/\n",
    "log_dir = \"logs/flights_ontime/OneRNN/tensorboard/\" + datetime.datetime.now().strftime(\"%Y%m%d-%H%M%S\")\n",
    "tensorboard_callback = TensorBoard(log_dir=log_dir, histogram_freq=1)\n",
    "\n",
    "early_stopping = EarlyStopping(monitor='val_loss', patience=50, restore_best_weights=True)\n",
    "\n",
    "# Train the model with the best hyperparameters\n",
    "history = OneRNN_model.fit(train_rnn, \n",
    "                    validation_data=val_rnn, \n",
    "                    epochs=500, \n",
    "                    callbacks=[early_stopping, tensorboard_callback],\n",
    "                    verbose=0)\n",
    "\n",
    "# Save the trained model\n",
    "OneRNN_model.save('models/flights_ontime/OneRNN_model')"
   ]
  },
  {
   "cell_type": "code",
   "execution_count": 76,
   "metadata": {},
   "outputs": [
    {
     "data": {
      "text/plain": [
       "Reusing TensorBoard on port 6012 (pid 41285), started 0:00:05 ago. (Use '!kill 41285' to kill it.)"
      ]
     },
     "metadata": {},
     "output_type": "display_data"
    },
    {
     "data": {
      "text/html": [
       "\n",
       "      <iframe id=\"tensorboard-frame-ea377e98d930e2ca\" width=\"100%\" height=\"800\" frameborder=\"0\">\n",
       "      </iframe>\n",
       "      <script>\n",
       "        (function() {\n",
       "          const frame = document.getElementById(\"tensorboard-frame-ea377e98d930e2ca\");\n",
       "          const url = new URL(\"http://localhost\");\n",
       "          const port = 6012;\n",
       "          if (port) {\n",
       "            url.port = port;\n",
       "          }\n",
       "          frame.src = url;\n",
       "        })();\n",
       "      </script>\n",
       "    "
      ],
      "text/plain": [
       "<IPython.core.display.HTML object>"
      ]
     },
     "metadata": {},
     "output_type": "display_data"
    }
   ],
   "source": [
    "%tensorboard --logdir logs/flights_ontime/OneRNN/tensorboard"
   ]
  },
  {
   "cell_type": "markdown",
   "metadata": {},
   "source": [
    "## Load and evaluate the best one-neuron RNN model"
   ]
  },
  {
   "cell_type": "code",
   "execution_count": 47,
   "metadata": {},
   "outputs": [
    {
     "name": "stdout",
     "output_type": "stream",
     "text": [
      "5/5 [==============================] - 0s 1ms/step\n",
      "Validation Metrics:\n",
      "- Validation MAE: 248.49\n",
      "- Validation MSE: 109553.02\n",
      "\n"
     ]
    }
   ],
   "source": [
    "OneRNN_model = models.load_model('models/flights_ontime/OneRNN_model', custom_objects={'r_squared': r_squared})\n",
    "\n",
    "# Inverse transform the predicted values and get validation MAE, MSE, and R^2\n",
    "y_pred = OneRNN_model.predict(val_rnn)\n",
    "y_pred_inv = global_targer_scaler.inverse_transform(y_pred)\n",
    "y_val_inv = global_targer_scaler.inverse_transform(y_val_rnn[seq_length-1:])\n",
    "\n",
    "OneRNN_val_mae = mean_absolute_error(y_val_inv, y_pred_inv)\n",
    "OneRNN_val_mse = mean_squared_error(y_val_inv, y_pred_inv)\n",
    "\n",
    "print(f\"\"\"Validation Metrics:\n",
    "- Validation MAE: {OneRNN_val_mae:.2f}\n",
    "- Validation MSE: {OneRNN_val_mse:.2f}\n",
    "\"\"\")"
   ]
  },
  {
   "cell_type": "markdown",
   "metadata": {},
   "source": [
    "# SHALLOW RNN"
   ]
  },
  {
   "cell_type": "markdown",
   "metadata": {},
   "source": [
    "## Build shallow RNN Hypermodel"
   ]
  },
  {
   "cell_type": "code",
   "execution_count": 48,
   "metadata": {},
   "outputs": [],
   "source": [
    "def build_model(hp):\n",
    "    n_neurons = hp.Int('n_neurons', min_value=1, max_value=32, default=16)\n",
    "    learning_rate = hp.Float('learning_rate', min_value=1e-4, max_value=1e-2, sampling='LOG', default=1e-3)\n",
    "    dropout_rate = hp.Float('dropout_rate', min_value=0.0, max_value=0.5, default=0.0)\n",
    "    recurrent_dropout_rate = hp.Float('recurrent_dropout_rate', min_value=0.0, max_value=0.5, default=0.0)\n",
    "    kernel_reg = hp.Float('kernel_reg', min_value=1e-4, max_value=1e-1, sampling='LOG', default=1e-2)\n",
    "    recurr_reg = hp.Float('recurr_reg', min_value=1e-4, max_value=1e-1, sampling='LOG', default=1e-2)\n",
    "\n",
    "    model = Sequential()\n",
    "\n",
    "    # Input Layer\n",
    "    model.add(SimpleRNN(units=n_neurons,\n",
    "                        activation='tanh', \n",
    "                        return_sequences=False,\n",
    "                        kernel_regularizer=L2(kernel_reg),\n",
    "                        recurrent_regularizer=L2(recurr_reg),\n",
    "                        dropout = dropout_rate,\n",
    "                        recurrent_dropout = recurrent_dropout_rate))\n",
    "    \n",
    "\n",
    "    # Output layer\n",
    "    model.add(Dense(1))\n",
    "\n",
    "    # Compile the model\n",
    "    model.compile(optimizer=Adam(learning_rate=learning_rate), \n",
    "                  loss='mean_squared_error', \n",
    "                  metrics=['mean_absolute_error'])\n",
    "    \n",
    "    return model"
   ]
  },
  {
   "cell_type": "markdown",
   "metadata": {},
   "source": [
    "## Get hyperparameters for shallow RNN using a random search"
   ]
  },
  {
   "cell_type": "code",
   "execution_count": null,
   "metadata": {},
   "outputs": [],
   "source": [
    "# RNN_shallow_tuner_RS = kt.RandomSearch(\n",
    "#     build_model,\n",
    "#     objective='val_loss',\n",
    "#     max_trials=100,\n",
    "#     overwrite=True\n",
    "# )\n",
    "\n",
    "# early_stopping = EarlyStopping(monitor='val_loss', patience=10, restore_best_weights=True)\n",
    "\n",
    "# RNN_shallow_tuner_RS.search(train_rnn, epochs=500, validation_data=val_rnn, callbacks=[early_stopping])"
   ]
  },
  {
   "cell_type": "markdown",
   "metadata": {},
   "source": [
    "## Get hyperparameters for shallow RNN using Bayesian optimization"
   ]
  },
  {
   "cell_type": "code",
   "execution_count": 49,
   "metadata": {},
   "outputs": [
    {
     "name": "stdout",
     "output_type": "stream",
     "text": [
      "Trial 100 Complete [00h 00m 07s]\n",
      "val_loss: 1.3063130378723145\n",
      "\n",
      "Best val_loss So Far: 1.1599246263504028\n",
      "Total elapsed time: 00h 13m 04s\n"
     ]
    }
   ],
   "source": [
    "RNN_shallow_tuner_BO = kt.BayesianOptimization(\n",
    "    build_model,\n",
    "    objective='val_loss',\n",
    "    max_trials=100,\n",
    "    num_initial_points=2,\n",
    "    overwrite=True\n",
    ")\n",
    "early_stopping = EarlyStopping(monitor='val_loss', patience=10, restore_best_weights=True)\n",
    "\n",
    "RNN_shallow_tuner_BO.search(train_rnn, epochs=50, validation_data=val_rnn, callbacks=[early_stopping])"
   ]
  },
  {
   "cell_type": "markdown",
   "metadata": {},
   "source": [
    "## Get hyperparameters for shallow RNN using Hyperband tuner"
   ]
  },
  {
   "cell_type": "code",
   "execution_count": 50,
   "metadata": {},
   "outputs": [
    {
     "name": "stdout",
     "output_type": "stream",
     "text": [
      "Trial 689 Complete [00h 00m 10s]\n",
      "val_loss: 1.3770010471343994\n",
      "\n",
      "Best val_loss So Far: 1.124523639678955\n",
      "Total elapsed time: 01h 09m 43s\n"
     ]
    }
   ],
   "source": [
    "RNN_shallow_tuner_HB = kt.Hyperband(\n",
    "    build_model,\n",
    "    objective='val_loss',\n",
    "    max_epochs=200,\n",
    "    factor=2,\n",
    "    overwrite=True\n",
    ")\n",
    "\n",
    "early_stopping = EarlyStopping(monitor='val_loss', patience=10, restore_best_weights=True)\n",
    "\n",
    "RNN_shallow_tuner_HB.search(train_rnn, \n",
    "                            epochs=200, \n",
    "                            validation_data=val_rnn, \n",
    "                            callbacks=[early_stopping])"
   ]
  },
  {
   "cell_type": "markdown",
   "metadata": {},
   "source": [
    "## Get model weights and save the best shallow RNN model\n",
    "The Hyperband tuner produced the best model based on validation loss."
   ]
  },
  {
   "cell_type": "code",
   "execution_count": 51,
   "metadata": {},
   "outputs": [
    {
     "name": "stdout",
     "output_type": "stream",
     "text": [
      "Epoch 1/500\n",
      "43/43 [==============================] - 1s 5ms/step - loss: 1.2611 - mean_absolute_error: 0.8335 - val_loss: 1.5629 - val_mean_absolute_error: 0.8765\n",
      "Epoch 2/500\n",
      "43/43 [==============================] - 0s 3ms/step - loss: 1.1531 - mean_absolute_error: 0.8097 - val_loss: 1.4719 - val_mean_absolute_error: 0.8568\n",
      "Epoch 3/500\n",
      "43/43 [==============================] - 0s 2ms/step - loss: 1.1014 - mean_absolute_error: 0.7794 - val_loss: 1.4003 - val_mean_absolute_error: 0.8181\n",
      "Epoch 4/500\n",
      "43/43 [==============================] - 0s 2ms/step - loss: 1.0665 - mean_absolute_error: 0.7649 - val_loss: 1.3524 - val_mean_absolute_error: 0.8220\n",
      "Epoch 5/500\n",
      "43/43 [==============================] - 0s 2ms/step - loss: 1.0247 - mean_absolute_error: 0.7550 - val_loss: 1.3243 - val_mean_absolute_error: 0.8314\n",
      "Epoch 6/500\n",
      "43/43 [==============================] - 0s 2ms/step - loss: 1.0218 - mean_absolute_error: 0.7637 - val_loss: 1.3088 - val_mean_absolute_error: 0.8355\n",
      "Epoch 7/500\n",
      "43/43 [==============================] - 0s 2ms/step - loss: 1.0215 - mean_absolute_error: 0.7605 - val_loss: 1.2987 - val_mean_absolute_error: 0.8373\n",
      "Epoch 8/500\n",
      "43/43 [==============================] - 0s 2ms/step - loss: 1.0127 - mean_absolute_error: 0.7630 - val_loss: 1.2929 - val_mean_absolute_error: 0.8397\n",
      "Epoch 9/500\n",
      "43/43 [==============================] - 0s 2ms/step - loss: 0.9994 - mean_absolute_error: 0.7565 - val_loss: 1.2896 - val_mean_absolute_error: 0.8415\n",
      "Epoch 10/500\n",
      "43/43 [==============================] - 0s 2ms/step - loss: 1.0058 - mean_absolute_error: 0.7612 - val_loss: 1.2875 - val_mean_absolute_error: 0.8426\n",
      "Epoch 11/500\n",
      "43/43 [==============================] - 0s 2ms/step - loss: 1.0096 - mean_absolute_error: 0.7643 - val_loss: 1.2851 - val_mean_absolute_error: 0.8439\n",
      "Epoch 12/500\n",
      "43/43 [==============================] - 0s 2ms/step - loss: 0.9996 - mean_absolute_error: 0.7605 - val_loss: 1.2851 - val_mean_absolute_error: 0.8448\n",
      "Epoch 13/500\n",
      "43/43 [==============================] - 0s 2ms/step - loss: 1.0036 - mean_absolute_error: 0.7623 - val_loss: 1.2835 - val_mean_absolute_error: 0.8458\n",
      "Epoch 14/500\n",
      "43/43 [==============================] - 0s 2ms/step - loss: 0.9992 - mean_absolute_error: 0.7610 - val_loss: 1.2832 - val_mean_absolute_error: 0.8448\n",
      "Epoch 15/500\n",
      "43/43 [==============================] - 0s 2ms/step - loss: 0.9987 - mean_absolute_error: 0.7568 - val_loss: 1.2834 - val_mean_absolute_error: 0.8448\n",
      "Epoch 16/500\n",
      "43/43 [==============================] - 0s 2ms/step - loss: 1.0008 - mean_absolute_error: 0.7582 - val_loss: 1.2818 - val_mean_absolute_error: 0.8469\n",
      "Epoch 17/500\n",
      "43/43 [==============================] - 0s 2ms/step - loss: 0.9992 - mean_absolute_error: 0.7602 - val_loss: 1.2823 - val_mean_absolute_error: 0.8453\n",
      "Epoch 18/500\n",
      "43/43 [==============================] - 0s 2ms/step - loss: 0.9966 - mean_absolute_error: 0.7559 - val_loss: 1.2831 - val_mean_absolute_error: 0.8440\n",
      "Epoch 19/500\n",
      "43/43 [==============================] - 0s 2ms/step - loss: 0.9918 - mean_absolute_error: 0.7562 - val_loss: 1.2818 - val_mean_absolute_error: 0.8455\n",
      "Epoch 20/500\n",
      "43/43 [==============================] - 0s 2ms/step - loss: 1.0054 - mean_absolute_error: 0.7609 - val_loss: 1.2826 - val_mean_absolute_error: 0.8441\n",
      "Epoch 21/500\n",
      "43/43 [==============================] - 0s 2ms/step - loss: 0.9993 - mean_absolute_error: 0.7600 - val_loss: 1.2807 - val_mean_absolute_error: 0.8465\n",
      "Epoch 22/500\n",
      "43/43 [==============================] - 0s 3ms/step - loss: 0.9993 - mean_absolute_error: 0.7570 - val_loss: 1.2812 - val_mean_absolute_error: 0.8455\n",
      "Epoch 23/500\n",
      "43/43 [==============================] - 0s 2ms/step - loss: 0.9953 - mean_absolute_error: 0.7563 - val_loss: 1.2815 - val_mean_absolute_error: 0.8437\n",
      "Epoch 24/500\n",
      "43/43 [==============================] - 0s 2ms/step - loss: 0.9967 - mean_absolute_error: 0.7550 - val_loss: 1.2804 - val_mean_absolute_error: 0.8448\n",
      "Epoch 25/500\n",
      "43/43 [==============================] - 0s 2ms/step - loss: 0.9978 - mean_absolute_error: 0.7573 - val_loss: 1.2789 - val_mean_absolute_error: 0.8463\n",
      "Epoch 26/500\n",
      "43/43 [==============================] - 0s 2ms/step - loss: 1.0014 - mean_absolute_error: 0.7584 - val_loss: 1.2788 - val_mean_absolute_error: 0.8465\n",
      "Epoch 27/500\n",
      "43/43 [==============================] - 0s 2ms/step - loss: 0.9985 - mean_absolute_error: 0.7609 - val_loss: 1.2784 - val_mean_absolute_error: 0.8472\n",
      "Epoch 28/500\n",
      "43/43 [==============================] - 0s 2ms/step - loss: 0.9907 - mean_absolute_error: 0.7559 - val_loss: 1.2802 - val_mean_absolute_error: 0.8446\n",
      "Epoch 29/500\n",
      "43/43 [==============================] - 0s 2ms/step - loss: 0.9992 - mean_absolute_error: 0.7592 - val_loss: 1.2796 - val_mean_absolute_error: 0.8453\n",
      "Epoch 30/500\n",
      "43/43 [==============================] - 0s 2ms/step - loss: 0.9928 - mean_absolute_error: 0.7558 - val_loss: 1.2798 - val_mean_absolute_error: 0.8446\n",
      "Epoch 31/500\n",
      "43/43 [==============================] - 0s 2ms/step - loss: 0.9895 - mean_absolute_error: 0.7546 - val_loss: 1.2796 - val_mean_absolute_error: 0.8463\n",
      "Epoch 32/500\n",
      "43/43 [==============================] - 0s 2ms/step - loss: 0.9998 - mean_absolute_error: 0.7634 - val_loss: 1.2798 - val_mean_absolute_error: 0.8459\n",
      "Epoch 33/500\n",
      "43/43 [==============================] - 0s 2ms/step - loss: 1.0002 - mean_absolute_error: 0.7612 - val_loss: 1.2801 - val_mean_absolute_error: 0.8448\n",
      "Epoch 34/500\n",
      "43/43 [==============================] - 0s 2ms/step - loss: 0.9915 - mean_absolute_error: 0.7573 - val_loss: 1.2795 - val_mean_absolute_error: 0.8443\n",
      "Epoch 35/500\n",
      "43/43 [==============================] - 0s 2ms/step - loss: 0.9972 - mean_absolute_error: 0.7575 - val_loss: 1.2786 - val_mean_absolute_error: 0.8441\n",
      "Epoch 36/500\n",
      "43/43 [==============================] - 0s 2ms/step - loss: 0.9884 - mean_absolute_error: 0.7530 - val_loss: 1.2775 - val_mean_absolute_error: 0.8439\n",
      "Epoch 37/500\n",
      "43/43 [==============================] - 0s 2ms/step - loss: 0.9989 - mean_absolute_error: 0.7583 - val_loss: 1.2763 - val_mean_absolute_error: 0.8446\n",
      "Epoch 38/500\n",
      "43/43 [==============================] - 0s 2ms/step - loss: 0.9915 - mean_absolute_error: 0.7585 - val_loss: 1.2745 - val_mean_absolute_error: 0.8465\n",
      "Epoch 39/500\n",
      "43/43 [==============================] - 0s 2ms/step - loss: 0.9945 - mean_absolute_error: 0.7577 - val_loss: 1.2761 - val_mean_absolute_error: 0.8425\n",
      "Epoch 40/500\n",
      "43/43 [==============================] - 0s 2ms/step - loss: 0.9843 - mean_absolute_error: 0.7523 - val_loss: 1.2757 - val_mean_absolute_error: 0.8438\n",
      "Epoch 41/500\n",
      "43/43 [==============================] - 0s 2ms/step - loss: 0.9965 - mean_absolute_error: 0.7557 - val_loss: 1.2744 - val_mean_absolute_error: 0.8436\n",
      "Epoch 42/500\n",
      "43/43 [==============================] - 0s 2ms/step - loss: 0.9917 - mean_absolute_error: 0.7588 - val_loss: 1.2736 - val_mean_absolute_error: 0.8424\n",
      "Epoch 43/500\n",
      "43/43 [==============================] - 0s 2ms/step - loss: 0.9893 - mean_absolute_error: 0.7552 - val_loss: 1.2735 - val_mean_absolute_error: 0.8426\n",
      "Epoch 44/500\n",
      "43/43 [==============================] - 0s 2ms/step - loss: 0.9875 - mean_absolute_error: 0.7549 - val_loss: 1.2738 - val_mean_absolute_error: 0.8429\n",
      "Epoch 45/500\n",
      "43/43 [==============================] - 0s 2ms/step - loss: 0.9901 - mean_absolute_error: 0.7561 - val_loss: 1.2744 - val_mean_absolute_error: 0.8443\n",
      "Epoch 46/500\n",
      "43/43 [==============================] - 0s 2ms/step - loss: 0.9911 - mean_absolute_error: 0.7573 - val_loss: 1.2757 - val_mean_absolute_error: 0.8462\n",
      "Epoch 47/500\n",
      "43/43 [==============================] - 0s 2ms/step - loss: 0.9986 - mean_absolute_error: 0.7607 - val_loss: 1.2756 - val_mean_absolute_error: 0.8458\n",
      "Epoch 48/500\n",
      "43/43 [==============================] - 0s 2ms/step - loss: 0.9916 - mean_absolute_error: 0.7573 - val_loss: 1.2757 - val_mean_absolute_error: 0.8461\n",
      "Epoch 49/500\n",
      "43/43 [==============================] - 0s 2ms/step - loss: 0.9855 - mean_absolute_error: 0.7557 - val_loss: 1.2748 - val_mean_absolute_error: 0.8439\n",
      "Epoch 50/500\n",
      "43/43 [==============================] - 0s 2ms/step - loss: 0.9904 - mean_absolute_error: 0.7562 - val_loss: 1.2751 - val_mean_absolute_error: 0.8450\n",
      "Epoch 51/500\n",
      "43/43 [==============================] - 0s 2ms/step - loss: 0.9851 - mean_absolute_error: 0.7530 - val_loss: 1.2765 - val_mean_absolute_error: 0.8440\n",
      "Epoch 52/500\n",
      "43/43 [==============================] - 0s 4ms/step - loss: 0.9880 - mean_absolute_error: 0.7552 - val_loss: 1.2774 - val_mean_absolute_error: 0.8443\n",
      "Epoch 53/500\n",
      "43/43 [==============================] - 0s 5ms/step - loss: 0.9902 - mean_absolute_error: 0.7554 - val_loss: 1.2766 - val_mean_absolute_error: 0.8430\n",
      "Epoch 54/500\n",
      "43/43 [==============================] - 0s 5ms/step - loss: 0.9889 - mean_absolute_error: 0.7584 - val_loss: 1.2767 - val_mean_absolute_error: 0.8453\n",
      "Epoch 55/500\n",
      "43/43 [==============================] - 0s 2ms/step - loss: 0.9889 - mean_absolute_error: 0.7533 - val_loss: 1.2780 - val_mean_absolute_error: 0.8449\n",
      "Epoch 56/500\n",
      "43/43 [==============================] - 0s 2ms/step - loss: 0.9956 - mean_absolute_error: 0.7572 - val_loss: 1.2762 - val_mean_absolute_error: 0.8398\n",
      "Epoch 57/500\n",
      "43/43 [==============================] - 0s 2ms/step - loss: 0.9867 - mean_absolute_error: 0.7553 - val_loss: 1.2745 - val_mean_absolute_error: 0.8442\n",
      "Epoch 58/500\n",
      "43/43 [==============================] - 0s 2ms/step - loss: 0.9889 - mean_absolute_error: 0.7560 - val_loss: 1.2741 - val_mean_absolute_error: 0.8423\n",
      "Epoch 59/500\n",
      "43/43 [==============================] - 0s 2ms/step - loss: 0.9876 - mean_absolute_error: 0.7537 - val_loss: 1.2726 - val_mean_absolute_error: 0.8407\n",
      "Epoch 60/500\n",
      "43/43 [==============================] - 0s 2ms/step - loss: 0.9852 - mean_absolute_error: 0.7560 - val_loss: 1.2728 - val_mean_absolute_error: 0.8439\n",
      "Epoch 61/500\n",
      "43/43 [==============================] - 0s 2ms/step - loss: 0.9898 - mean_absolute_error: 0.7573 - val_loss: 1.2727 - val_mean_absolute_error: 0.8440\n",
      "Epoch 62/500\n",
      "43/43 [==============================] - 0s 2ms/step - loss: 0.9872 - mean_absolute_error: 0.7579 - val_loss: 1.2743 - val_mean_absolute_error: 0.8432\n",
      "Epoch 63/500\n",
      "43/43 [==============================] - 0s 2ms/step - loss: 0.9900 - mean_absolute_error: 0.7579 - val_loss: 1.2731 - val_mean_absolute_error: 0.8425\n",
      "Epoch 64/500\n",
      "43/43 [==============================] - 0s 2ms/step - loss: 0.9869 - mean_absolute_error: 0.7555 - val_loss: 1.2729 - val_mean_absolute_error: 0.8432\n",
      "Epoch 65/500\n",
      "43/43 [==============================] - 0s 2ms/step - loss: 0.9804 - mean_absolute_error: 0.7548 - val_loss: 1.2738 - val_mean_absolute_error: 0.8427\n",
      "Epoch 66/500\n",
      "43/43 [==============================] - 0s 2ms/step - loss: 0.9851 - mean_absolute_error: 0.7525 - val_loss: 1.2745 - val_mean_absolute_error: 0.8430\n",
      "Epoch 67/500\n",
      "43/43 [==============================] - 0s 2ms/step - loss: 0.9865 - mean_absolute_error: 0.7557 - val_loss: 1.2733 - val_mean_absolute_error: 0.8422\n",
      "Epoch 68/500\n",
      "43/43 [==============================] - 0s 2ms/step - loss: 0.9863 - mean_absolute_error: 0.7544 - val_loss: 1.2746 - val_mean_absolute_error: 0.8434\n",
      "Epoch 69/500\n",
      "43/43 [==============================] - 0s 2ms/step - loss: 0.9880 - mean_absolute_error: 0.7588 - val_loss: 1.2753 - val_mean_absolute_error: 0.8441\n",
      "Epoch 70/500\n",
      "43/43 [==============================] - 0s 2ms/step - loss: 0.9864 - mean_absolute_error: 0.7572 - val_loss: 1.2748 - val_mean_absolute_error: 0.8430\n",
      "Epoch 71/500\n",
      "43/43 [==============================] - 0s 2ms/step - loss: 0.9844 - mean_absolute_error: 0.7561 - val_loss: 1.2738 - val_mean_absolute_error: 0.8409\n",
      "Epoch 72/500\n",
      "43/43 [==============================] - 0s 2ms/step - loss: 0.9751 - mean_absolute_error: 0.7480 - val_loss: 1.2742 - val_mean_absolute_error: 0.8421\n",
      "Epoch 73/500\n",
      "43/43 [==============================] - 0s 2ms/step - loss: 0.9823 - mean_absolute_error: 0.7544 - val_loss: 1.2760 - val_mean_absolute_error: 0.8427\n",
      "Epoch 74/500\n",
      "43/43 [==============================] - 0s 2ms/step - loss: 0.9819 - mean_absolute_error: 0.7548 - val_loss: 1.2779 - val_mean_absolute_error: 0.8401\n",
      "Epoch 75/500\n",
      "43/43 [==============================] - 0s 2ms/step - loss: 0.9907 - mean_absolute_error: 0.7567 - val_loss: 1.2756 - val_mean_absolute_error: 0.8434\n",
      "Epoch 76/500\n",
      "43/43 [==============================] - 0s 2ms/step - loss: 0.9775 - mean_absolute_error: 0.7508 - val_loss: 1.2750 - val_mean_absolute_error: 0.8396\n",
      "Epoch 77/500\n",
      "43/43 [==============================] - 0s 2ms/step - loss: 0.9852 - mean_absolute_error: 0.7538 - val_loss: 1.2704 - val_mean_absolute_error: 0.8417\n",
      "Epoch 78/500\n",
      "43/43 [==============================] - 0s 2ms/step - loss: 0.9876 - mean_absolute_error: 0.7560 - val_loss: 1.2702 - val_mean_absolute_error: 0.8384\n",
      "Epoch 79/500\n",
      "43/43 [==============================] - 0s 2ms/step - loss: 0.9846 - mean_absolute_error: 0.7531 - val_loss: 1.2704 - val_mean_absolute_error: 0.8363\n",
      "Epoch 80/500\n",
      "43/43 [==============================] - 0s 2ms/step - loss: 0.9854 - mean_absolute_error: 0.7532 - val_loss: 1.2706 - val_mean_absolute_error: 0.8401\n",
      "Epoch 81/500\n",
      "43/43 [==============================] - 0s 2ms/step - loss: 0.9889 - mean_absolute_error: 0.7601 - val_loss: 1.2689 - val_mean_absolute_error: 0.8416\n",
      "Epoch 82/500\n",
      "43/43 [==============================] - 0s 2ms/step - loss: 0.9888 - mean_absolute_error: 0.7578 - val_loss: 1.2694 - val_mean_absolute_error: 0.8406\n",
      "Epoch 83/500\n",
      "43/43 [==============================] - 0s 2ms/step - loss: 0.9750 - mean_absolute_error: 0.7519 - val_loss: 1.2689 - val_mean_absolute_error: 0.8409\n",
      "Epoch 84/500\n",
      "43/43 [==============================] - 0s 2ms/step - loss: 0.9898 - mean_absolute_error: 0.7550 - val_loss: 1.2691 - val_mean_absolute_error: 0.8396\n",
      "Epoch 85/500\n",
      "43/43 [==============================] - 0s 2ms/step - loss: 0.9863 - mean_absolute_error: 0.7570 - val_loss: 1.2689 - val_mean_absolute_error: 0.8417\n",
      "Epoch 86/500\n",
      "43/43 [==============================] - 0s 2ms/step - loss: 0.9835 - mean_absolute_error: 0.7533 - val_loss: 1.2691 - val_mean_absolute_error: 0.8382\n",
      "Epoch 87/500\n",
      "43/43 [==============================] - 0s 2ms/step - loss: 0.9853 - mean_absolute_error: 0.7535 - val_loss: 1.2673 - val_mean_absolute_error: 0.8410\n",
      "Epoch 88/500\n",
      "43/43 [==============================] - 0s 2ms/step - loss: 0.9812 - mean_absolute_error: 0.7541 - val_loss: 1.2684 - val_mean_absolute_error: 0.8405\n",
      "Epoch 89/500\n",
      "43/43 [==============================] - 0s 2ms/step - loss: 0.9836 - mean_absolute_error: 0.7526 - val_loss: 1.2695 - val_mean_absolute_error: 0.8398\n",
      "Epoch 90/500\n",
      "43/43 [==============================] - 0s 2ms/step - loss: 0.9832 - mean_absolute_error: 0.7542 - val_loss: 1.2706 - val_mean_absolute_error: 0.8392\n",
      "Epoch 91/500\n",
      "43/43 [==============================] - 0s 2ms/step - loss: 0.9753 - mean_absolute_error: 0.7511 - val_loss: 1.2712 - val_mean_absolute_error: 0.8404\n",
      "Epoch 92/500\n",
      "43/43 [==============================] - 0s 2ms/step - loss: 0.9810 - mean_absolute_error: 0.7515 - val_loss: 1.2703 - val_mean_absolute_error: 0.8358\n",
      "Epoch 93/500\n",
      "43/43 [==============================] - 0s 2ms/step - loss: 0.9788 - mean_absolute_error: 0.7552 - val_loss: 1.2685 - val_mean_absolute_error: 0.8386\n",
      "Epoch 94/500\n",
      "43/43 [==============================] - 0s 2ms/step - loss: 0.9816 - mean_absolute_error: 0.7524 - val_loss: 1.2690 - val_mean_absolute_error: 0.8377\n",
      "Epoch 95/500\n",
      "43/43 [==============================] - 0s 2ms/step - loss: 0.9809 - mean_absolute_error: 0.7561 - val_loss: 1.2687 - val_mean_absolute_error: 0.8389\n",
      "Epoch 96/500\n",
      "43/43 [==============================] - 0s 2ms/step - loss: 0.9787 - mean_absolute_error: 0.7542 - val_loss: 1.2696 - val_mean_absolute_error: 0.8364\n",
      "Epoch 97/500\n",
      "43/43 [==============================] - 0s 2ms/step - loss: 0.9708 - mean_absolute_error: 0.7473 - val_loss: 1.2704 - val_mean_absolute_error: 0.8344\n",
      "Epoch 98/500\n",
      "43/43 [==============================] - 0s 2ms/step - loss: 0.9808 - mean_absolute_error: 0.7509 - val_loss: 1.2669 - val_mean_absolute_error: 0.8349\n",
      "Epoch 99/500\n",
      "43/43 [==============================] - 0s 2ms/step - loss: 0.9874 - mean_absolute_error: 0.7557 - val_loss: 1.2671 - val_mean_absolute_error: 0.8368\n",
      "Epoch 100/500\n",
      "43/43 [==============================] - 0s 2ms/step - loss: 0.9809 - mean_absolute_error: 0.7546 - val_loss: 1.2656 - val_mean_absolute_error: 0.8372\n",
      "Epoch 101/500\n",
      "43/43 [==============================] - 0s 2ms/step - loss: 0.9815 - mean_absolute_error: 0.7523 - val_loss: 1.2668 - val_mean_absolute_error: 0.8368\n",
      "Epoch 102/500\n",
      "43/43 [==============================] - 0s 2ms/step - loss: 0.9914 - mean_absolute_error: 0.7590 - val_loss: 1.2675 - val_mean_absolute_error: 0.8369\n",
      "Epoch 103/500\n",
      "43/43 [==============================] - 0s 2ms/step - loss: 0.9810 - mean_absolute_error: 0.7503 - val_loss: 1.2655 - val_mean_absolute_error: 0.8379\n",
      "Epoch 104/500\n",
      "43/43 [==============================] - 0s 2ms/step - loss: 0.9752 - mean_absolute_error: 0.7516 - val_loss: 1.2650 - val_mean_absolute_error: 0.8379\n",
      "Epoch 105/500\n",
      "43/43 [==============================] - 0s 2ms/step - loss: 0.9770 - mean_absolute_error: 0.7497 - val_loss: 1.2674 - val_mean_absolute_error: 0.8397\n",
      "Epoch 106/500\n",
      "43/43 [==============================] - 0s 2ms/step - loss: 0.9868 - mean_absolute_error: 0.7538 - val_loss: 1.2678 - val_mean_absolute_error: 0.8346\n",
      "Epoch 107/500\n",
      "43/43 [==============================] - 0s 2ms/step - loss: 0.9736 - mean_absolute_error: 0.7497 - val_loss: 1.2691 - val_mean_absolute_error: 0.8388\n",
      "Epoch 108/500\n",
      "43/43 [==============================] - 0s 2ms/step - loss: 0.9801 - mean_absolute_error: 0.7523 - val_loss: 1.2684 - val_mean_absolute_error: 0.8379\n",
      "Epoch 109/500\n",
      "43/43 [==============================] - 0s 2ms/step - loss: 0.9814 - mean_absolute_error: 0.7506 - val_loss: 1.2686 - val_mean_absolute_error: 0.8347\n",
      "Epoch 110/500\n",
      "43/43 [==============================] - 0s 2ms/step - loss: 0.9732 - mean_absolute_error: 0.7490 - val_loss: 1.2647 - val_mean_absolute_error: 0.8355\n",
      "Epoch 111/500\n",
      "43/43 [==============================] - 0s 2ms/step - loss: 0.9789 - mean_absolute_error: 0.7547 - val_loss: 1.2653 - val_mean_absolute_error: 0.8342\n",
      "Epoch 112/500\n",
      "43/43 [==============================] - 0s 2ms/step - loss: 0.9765 - mean_absolute_error: 0.7516 - val_loss: 1.2652 - val_mean_absolute_error: 0.8362\n",
      "Epoch 113/500\n",
      "43/43 [==============================] - 0s 2ms/step - loss: 0.9801 - mean_absolute_error: 0.7511 - val_loss: 1.2664 - val_mean_absolute_error: 0.8327\n",
      "Epoch 114/500\n",
      "43/43 [==============================] - 0s 3ms/step - loss: 0.9875 - mean_absolute_error: 0.7552 - val_loss: 1.2663 - val_mean_absolute_error: 0.8352\n",
      "Epoch 115/500\n",
      "43/43 [==============================] - 0s 2ms/step - loss: 0.9788 - mean_absolute_error: 0.7542 - val_loss: 1.2666 - val_mean_absolute_error: 0.8340\n",
      "Epoch 116/500\n",
      "43/43 [==============================] - 0s 2ms/step - loss: 0.9829 - mean_absolute_error: 0.7546 - val_loss: 1.2657 - val_mean_absolute_error: 0.8335\n",
      "Epoch 117/500\n",
      "43/43 [==============================] - 0s 2ms/step - loss: 0.9846 - mean_absolute_error: 0.7560 - val_loss: 1.2649 - val_mean_absolute_error: 0.8330\n",
      "Epoch 118/500\n",
      "43/43 [==============================] - 0s 2ms/step - loss: 0.9804 - mean_absolute_error: 0.7516 - val_loss: 1.2659 - val_mean_absolute_error: 0.8346\n",
      "Epoch 119/500\n",
      "43/43 [==============================] - 0s 2ms/step - loss: 0.9744 - mean_absolute_error: 0.7533 - val_loss: 1.2682 - val_mean_absolute_error: 0.8373\n",
      "Epoch 120/500\n",
      "43/43 [==============================] - 0s 2ms/step - loss: 0.9815 - mean_absolute_error: 0.7557 - val_loss: 1.2687 - val_mean_absolute_error: 0.8359\n",
      "Epoch 121/500\n",
      "43/43 [==============================] - 0s 2ms/step - loss: 0.9821 - mean_absolute_error: 0.7515 - val_loss: 1.2689 - val_mean_absolute_error: 0.8344\n",
      "Epoch 122/500\n",
      "43/43 [==============================] - 0s 2ms/step - loss: 0.9781 - mean_absolute_error: 0.7563 - val_loss: 1.2681 - val_mean_absolute_error: 0.8382\n",
      "Epoch 123/500\n",
      "43/43 [==============================] - 0s 2ms/step - loss: 0.9852 - mean_absolute_error: 0.7555 - val_loss: 1.2701 - val_mean_absolute_error: 0.8383\n",
      "Epoch 124/500\n",
      "43/43 [==============================] - 0s 2ms/step - loss: 0.9709 - mean_absolute_error: 0.7479 - val_loss: 1.2709 - val_mean_absolute_error: 0.8367\n",
      "Epoch 125/500\n",
      "43/43 [==============================] - 0s 2ms/step - loss: 0.9892 - mean_absolute_error: 0.7582 - val_loss: 1.2698 - val_mean_absolute_error: 0.8367\n",
      "Epoch 126/500\n",
      "43/43 [==============================] - 0s 2ms/step - loss: 0.9788 - mean_absolute_error: 0.7536 - val_loss: 1.2654 - val_mean_absolute_error: 0.8351\n",
      "Epoch 127/500\n",
      "43/43 [==============================] - 0s 2ms/step - loss: 0.9732 - mean_absolute_error: 0.7505 - val_loss: 1.2650 - val_mean_absolute_error: 0.8364\n",
      "Epoch 128/500\n",
      "43/43 [==============================] - 0s 2ms/step - loss: 0.9782 - mean_absolute_error: 0.7503 - val_loss: 1.2681 - val_mean_absolute_error: 0.8351\n",
      "Epoch 129/500\n",
      "43/43 [==============================] - 0s 2ms/step - loss: 0.9709 - mean_absolute_error: 0.7515 - val_loss: 1.2674 - val_mean_absolute_error: 0.8333\n",
      "Epoch 130/500\n",
      "43/43 [==============================] - 0s 2ms/step - loss: 0.9803 - mean_absolute_error: 0.7530 - val_loss: 1.2652 - val_mean_absolute_error: 0.8328\n",
      "Epoch 131/500\n",
      "43/43 [==============================] - 0s 2ms/step - loss: 0.9705 - mean_absolute_error: 0.7521 - val_loss: 1.2636 - val_mean_absolute_error: 0.8370\n",
      "Epoch 132/500\n",
      "43/43 [==============================] - 0s 2ms/step - loss: 0.9808 - mean_absolute_error: 0.7558 - val_loss: 1.2654 - val_mean_absolute_error: 0.8330\n",
      "Epoch 133/500\n",
      "43/43 [==============================] - 0s 2ms/step - loss: 0.9828 - mean_absolute_error: 0.7517 - val_loss: 1.2681 - val_mean_absolute_error: 0.8364\n",
      "Epoch 134/500\n",
      "43/43 [==============================] - 0s 2ms/step - loss: 0.9811 - mean_absolute_error: 0.7548 - val_loss: 1.2694 - val_mean_absolute_error: 0.8355\n",
      "Epoch 135/500\n",
      "43/43 [==============================] - 0s 2ms/step - loss: 0.9907 - mean_absolute_error: 0.7565 - val_loss: 1.2667 - val_mean_absolute_error: 0.8357\n",
      "Epoch 136/500\n",
      "43/43 [==============================] - 0s 2ms/step - loss: 0.9823 - mean_absolute_error: 0.7528 - val_loss: 1.2669 - val_mean_absolute_error: 0.8374\n",
      "Epoch 137/500\n",
      "43/43 [==============================] - 0s 2ms/step - loss: 0.9780 - mean_absolute_error: 0.7513 - val_loss: 1.2673 - val_mean_absolute_error: 0.8341\n",
      "Epoch 138/500\n",
      "43/43 [==============================] - 0s 2ms/step - loss: 0.9783 - mean_absolute_error: 0.7525 - val_loss: 1.2676 - val_mean_absolute_error: 0.8350\n",
      "Epoch 139/500\n",
      "43/43 [==============================] - 0s 2ms/step - loss: 0.9871 - mean_absolute_error: 0.7519 - val_loss: 1.2666 - val_mean_absolute_error: 0.8367\n",
      "Epoch 140/500\n",
      "43/43 [==============================] - 0s 2ms/step - loss: 0.9804 - mean_absolute_error: 0.7550 - val_loss: 1.2666 - val_mean_absolute_error: 0.8361\n",
      "Epoch 141/500\n",
      "43/43 [==============================] - 0s 2ms/step - loss: 0.9722 - mean_absolute_error: 0.7523 - val_loss: 1.2663 - val_mean_absolute_error: 0.8338\n",
      "Epoch 142/500\n",
      "43/43 [==============================] - 0s 2ms/step - loss: 0.9779 - mean_absolute_error: 0.7497 - val_loss: 1.2661 - val_mean_absolute_error: 0.8317\n",
      "Epoch 143/500\n",
      "43/43 [==============================] - 0s 2ms/step - loss: 0.9834 - mean_absolute_error: 0.7514 - val_loss: 1.2658 - val_mean_absolute_error: 0.8351\n",
      "Epoch 144/500\n",
      "43/43 [==============================] - 0s 2ms/step - loss: 0.9754 - mean_absolute_error: 0.7489 - val_loss: 1.2670 - val_mean_absolute_error: 0.8343\n",
      "Epoch 145/500\n",
      "43/43 [==============================] - 0s 2ms/step - loss: 0.9811 - mean_absolute_error: 0.7588 - val_loss: 1.2678 - val_mean_absolute_error: 0.8355\n",
      "Epoch 146/500\n",
      "43/43 [==============================] - 0s 2ms/step - loss: 0.9759 - mean_absolute_error: 0.7531 - val_loss: 1.2686 - val_mean_absolute_error: 0.8337\n",
      "Epoch 147/500\n",
      "43/43 [==============================] - 0s 2ms/step - loss: 0.9804 - mean_absolute_error: 0.7517 - val_loss: 1.2712 - val_mean_absolute_error: 0.8340\n",
      "Epoch 148/500\n",
      "43/43 [==============================] - 0s 2ms/step - loss: 0.9699 - mean_absolute_error: 0.7507 - val_loss: 1.2712 - val_mean_absolute_error: 0.8349\n",
      "Epoch 149/500\n",
      "43/43 [==============================] - 0s 2ms/step - loss: 0.9792 - mean_absolute_error: 0.7550 - val_loss: 1.2672 - val_mean_absolute_error: 0.8333\n",
      "Epoch 150/500\n",
      "43/43 [==============================] - 0s 5ms/step - loss: 0.9777 - mean_absolute_error: 0.7529 - val_loss: 1.2676 - val_mean_absolute_error: 0.8341\n",
      "Epoch 151/500\n",
      "43/43 [==============================] - 0s 3ms/step - loss: 0.9794 - mean_absolute_error: 0.7529 - val_loss: 1.2671 - val_mean_absolute_error: 0.8350\n",
      "Epoch 152/500\n",
      "43/43 [==============================] - 0s 2ms/step - loss: 0.9829 - mean_absolute_error: 0.7528 - val_loss: 1.2664 - val_mean_absolute_error: 0.8318\n",
      "Epoch 153/500\n",
      "43/43 [==============================] - 0s 2ms/step - loss: 0.9822 - mean_absolute_error: 0.7521 - val_loss: 1.2652 - val_mean_absolute_error: 0.8370\n",
      "Epoch 154/500\n",
      "43/43 [==============================] - 0s 2ms/step - loss: 0.9795 - mean_absolute_error: 0.7558 - val_loss: 1.2665 - val_mean_absolute_error: 0.8336\n",
      "Epoch 155/500\n",
      "43/43 [==============================] - 0s 2ms/step - loss: 0.9762 - mean_absolute_error: 0.7521 - val_loss: 1.2662 - val_mean_absolute_error: 0.8352\n",
      "Epoch 156/500\n",
      "43/43 [==============================] - 0s 2ms/step - loss: 0.9852 - mean_absolute_error: 0.7539 - val_loss: 1.2671 - val_mean_absolute_error: 0.8353\n",
      "Epoch 157/500\n",
      "43/43 [==============================] - 0s 2ms/step - loss: 0.9833 - mean_absolute_error: 0.7539 - val_loss: 1.2686 - val_mean_absolute_error: 0.8354\n",
      "Epoch 158/500\n",
      "43/43 [==============================] - 0s 3ms/step - loss: 0.9799 - mean_absolute_error: 0.7530 - val_loss: 1.2673 - val_mean_absolute_error: 0.8351\n",
      "Epoch 159/500\n",
      "43/43 [==============================] - 0s 2ms/step - loss: 0.9794 - mean_absolute_error: 0.7514 - val_loss: 1.2661 - val_mean_absolute_error: 0.8358\n",
      "Epoch 160/500\n",
      "43/43 [==============================] - 0s 2ms/step - loss: 0.9757 - mean_absolute_error: 0.7531 - val_loss: 1.2667 - val_mean_absolute_error: 0.8321\n",
      "Epoch 161/500\n",
      "43/43 [==============================] - 0s 2ms/step - loss: 0.9809 - mean_absolute_error: 0.7539 - val_loss: 1.2667 - val_mean_absolute_error: 0.8317\n",
      "Epoch 162/500\n",
      "43/43 [==============================] - 0s 2ms/step - loss: 0.9784 - mean_absolute_error: 0.7539 - val_loss: 1.2678 - val_mean_absolute_error: 0.8319\n",
      "Epoch 163/500\n",
      "43/43 [==============================] - 0s 2ms/step - loss: 0.9775 - mean_absolute_error: 0.7550 - val_loss: 1.2645 - val_mean_absolute_error: 0.8307\n",
      "Epoch 164/500\n",
      "43/43 [==============================] - 0s 2ms/step - loss: 0.9833 - mean_absolute_error: 0.7573 - val_loss: 1.2641 - val_mean_absolute_error: 0.8337\n",
      "Epoch 165/500\n",
      "43/43 [==============================] - 0s 2ms/step - loss: 0.9793 - mean_absolute_error: 0.7524 - val_loss: 1.2647 - val_mean_absolute_error: 0.8314\n",
      "Epoch 166/500\n",
      "43/43 [==============================] - 0s 2ms/step - loss: 0.9729 - mean_absolute_error: 0.7527 - val_loss: 1.2639 - val_mean_absolute_error: 0.8319\n",
      "Epoch 167/500\n",
      "43/43 [==============================] - 0s 2ms/step - loss: 0.9835 - mean_absolute_error: 0.7592 - val_loss: 1.2652 - val_mean_absolute_error: 0.8320\n",
      "Epoch 168/500\n",
      "43/43 [==============================] - 0s 2ms/step - loss: 0.9802 - mean_absolute_error: 0.7535 - val_loss: 1.2655 - val_mean_absolute_error: 0.8315\n",
      "Epoch 169/500\n",
      "43/43 [==============================] - 0s 2ms/step - loss: 0.9791 - mean_absolute_error: 0.7557 - val_loss: 1.2686 - val_mean_absolute_error: 0.8353\n",
      "Epoch 170/500\n",
      "43/43 [==============================] - 0s 2ms/step - loss: 0.9840 - mean_absolute_error: 0.7517 - val_loss: 1.2707 - val_mean_absolute_error: 0.8347\n",
      "Epoch 171/500\n",
      "43/43 [==============================] - 0s 2ms/step - loss: 0.9803 - mean_absolute_error: 0.7536 - val_loss: 1.2718 - val_mean_absolute_error: 0.8344\n",
      "Epoch 172/500\n",
      "43/43 [==============================] - 0s 2ms/step - loss: 0.9738 - mean_absolute_error: 0.7497 - val_loss: 1.2715 - val_mean_absolute_error: 0.8352\n",
      "Epoch 173/500\n",
      "43/43 [==============================] - 0s 2ms/step - loss: 0.9851 - mean_absolute_error: 0.7557 - val_loss: 1.2691 - val_mean_absolute_error: 0.8363\n",
      "Epoch 174/500\n",
      "43/43 [==============================] - 0s 2ms/step - loss: 0.9745 - mean_absolute_error: 0.7497 - val_loss: 1.2704 - val_mean_absolute_error: 0.8335\n",
      "Epoch 175/500\n",
      "43/43 [==============================] - 0s 2ms/step - loss: 0.9732 - mean_absolute_error: 0.7490 - val_loss: 1.2700 - val_mean_absolute_error: 0.8340\n",
      "Epoch 176/500\n",
      "43/43 [==============================] - 0s 2ms/step - loss: 0.9747 - mean_absolute_error: 0.7502 - val_loss: 1.2690 - val_mean_absolute_error: 0.8352\n",
      "Epoch 177/500\n",
      "43/43 [==============================] - 0s 2ms/step - loss: 0.9778 - mean_absolute_error: 0.7510 - val_loss: 1.2670 - val_mean_absolute_error: 0.8345\n",
      "Epoch 178/500\n",
      "43/43 [==============================] - 0s 2ms/step - loss: 0.9804 - mean_absolute_error: 0.7546 - val_loss: 1.2684 - val_mean_absolute_error: 0.8334\n",
      "Epoch 179/500\n",
      "43/43 [==============================] - 0s 2ms/step - loss: 0.9767 - mean_absolute_error: 0.7550 - val_loss: 1.2696 - val_mean_absolute_error: 0.8350\n",
      "Epoch 180/500\n",
      "43/43 [==============================] - 0s 2ms/step - loss: 0.9858 - mean_absolute_error: 0.7556 - val_loss: 1.2694 - val_mean_absolute_error: 0.8349\n",
      "Epoch 181/500\n",
      "43/43 [==============================] - 0s 2ms/step - loss: 0.9763 - mean_absolute_error: 0.7513 - val_loss: 1.2689 - val_mean_absolute_error: 0.8335\n",
      "INFO:tensorflow:Assets written to: models/flights_ontime/RNN_shallow_model/assets\n"
     ]
    },
    {
     "name": "stderr",
     "output_type": "stream",
     "text": [
      "INFO:tensorflow:Assets written to: models/flights_ontime/RNN_shallow_model/assets\n"
     ]
    }
   ],
   "source": [
    "# Get best hyperparameters\n",
    "best_hps = RNN_shallow_tuner_HB.get_best_hyperparameters(num_trials=1)[0]\n",
    "RNN_shallow_model = RNN_shallow_tuner_HB.hypermodel.build(best_hps)\n",
    "\n",
    "# TensorBoard setup\n",
    "!rm -rf ./logs/flights_ontime/RNN_shallow/tensorboard/\n",
    "log_dir = \"logs/flights_ontime/RNN_shallow/tensorboard/\" + datetime.datetime.now().strftime(\"%Y%m%d-%H%M%S\")\n",
    "tensorboard_callback = TensorBoard(log_dir=log_dir, histogram_freq=1)\n",
    "\n",
    "early_stopping = EarlyStopping(monitor='val_loss', patience=50, restore_best_weights=True)\n",
    "\n",
    "# Train the model\n",
    "history = RNN_shallow_model.fit(train_rnn, \n",
    "                    validation_data=val_rnn, \n",
    "                    epochs=500, \n",
    "                    callbacks=[early_stopping, tensorboard_callback])\n",
    "\n",
    "# Save the best trained model\n",
    "RNN_shallow_model.save('models/flights_ontime/RNN_shallow_model')"
   ]
  },
  {
   "cell_type": "markdown",
   "metadata": {},
   "source": [
    "## TensorBoard"
   ]
  },
  {
   "cell_type": "code",
   "execution_count": 98,
   "metadata": {},
   "outputs": [
    {
     "data": {
      "text/plain": [
       "Reusing TensorBoard on port 6013 (pid 49139), started 0:02:24 ago. (Use '!kill 49139' to kill it.)"
      ]
     },
     "metadata": {},
     "output_type": "display_data"
    },
    {
     "data": {
      "text/html": [
       "\n",
       "      <iframe id=\"tensorboard-frame-19c2c908334d8da9\" width=\"100%\" height=\"800\" frameborder=\"0\">\n",
       "      </iframe>\n",
       "      <script>\n",
       "        (function() {\n",
       "          const frame = document.getElementById(\"tensorboard-frame-19c2c908334d8da9\");\n",
       "          const url = new URL(\"http://localhost\");\n",
       "          const port = 6013;\n",
       "          if (port) {\n",
       "            url.port = port;\n",
       "          }\n",
       "          frame.src = url;\n",
       "        })();\n",
       "      </script>\n",
       "    "
      ],
      "text/plain": [
       "<IPython.core.display.HTML object>"
      ]
     },
     "metadata": {},
     "output_type": "display_data"
    }
   ],
   "source": [
    "%tensorboard --logdir logs/flights_ontime/RNN_shallow/tensorboard\n"
   ]
  },
  {
   "cell_type": "markdown",
   "metadata": {},
   "source": [
    "## Load the best shallow RNN model (from Hyperband tuner)\n"
   ]
  },
  {
   "cell_type": "code",
   "execution_count": 52,
   "metadata": {},
   "outputs": [],
   "source": [
    "# Load the best trained model\n",
    "RNN_shallow_model = models.load_model('models/flights_ontime/RNN_shallow_model')"
   ]
  },
  {
   "cell_type": "markdown",
   "metadata": {},
   "source": [
    "## Best shallow RNN model hyperparameters"
   ]
  },
  {
   "cell_type": "code",
   "execution_count": 54,
   "metadata": {},
   "outputs": [
    {
     "name": "stdout",
     "output_type": "stream",
     "text": [
      "Best Hyperparameters:\n",
      "- Number of Neurons: 1\n",
      "- Learning Rate: 0.002332058207624143\n",
      "- Dropout Rate: 0.2471209924895985\n",
      "- Recurrent Dropout Rate: 0.4440972042279873\n",
      "- Kernel Regularization: 0.00014973417105600966\n",
      "- Recurrent Regularization: 0.0003706212687198221\n",
      "\n"
     ]
    }
   ],
   "source": [
    "# Print the best hyperparameters\n",
    "print(f\"\"\"Best Hyperparameters:\n",
    "- Number of Neurons: {best_hps.get('n_neurons')}\n",
    "- Learning Rate: {best_hps.get('learning_rate')}\n",
    "- Dropout Rate: {best_hps.get('dropout_rate')}\n",
    "- Recurrent Dropout Rate: {best_hps.get('recurrent_dropout_rate')}\n",
    "- Kernel Regularization: {best_hps.get('kernel_reg')}\n",
    "- Recurrent Regularization: {best_hps.get('recurr_reg')}\n",
    "\"\"\")"
   ]
  },
  {
   "cell_type": "markdown",
   "metadata": {},
   "source": [
    "## Summarize the model"
   ]
  },
  {
   "cell_type": "code",
   "execution_count": 55,
   "metadata": {},
   "outputs": [
    {
     "name": "stdout",
     "output_type": "stream",
     "text": [
      "Model: \"sequential_1\"\n",
      "_________________________________________________________________\n",
      " Layer (type)                Output Shape              Param #   \n",
      "=================================================================\n",
      " simple_rnn_1 (SimpleRNN)    (None, 1)                 77        \n",
      "                                                                 \n",
      " dense_1 (Dense)             (None, 1)                 2         \n",
      "                                                                 \n",
      "=================================================================\n",
      "Total params: 79 (316.00 Byte)\n",
      "Trainable params: 79 (316.00 Byte)\n",
      "Non-trainable params: 0 (0.00 Byte)\n",
      "_________________________________________________________________\n"
     ]
    }
   ],
   "source": [
    "RNN_shallow_model.summary()"
   ]
  },
  {
   "cell_type": "markdown",
   "metadata": {},
   "source": [
    "## Evaluate the best shallow RNN model"
   ]
  },
  {
   "cell_type": "code",
   "execution_count": 57,
   "metadata": {},
   "outputs": [
    {
     "name": "stdout",
     "output_type": "stream",
     "text": [
      "5/5 [==============================] - 0s 2ms/step\n",
      "Validation Metrics:\n",
      "- Validation MAE: 241.78\n",
      "- Validation MSE: 104769.82\n",
      "\n"
     ]
    }
   ],
   "source": [
    "y_pred = RNN_shallow_model.predict(val_rnn)\n",
    "y_pred_inv = global_targer_scaler.inverse_transform(y_pred)\n",
    "y_val_inv = global_targer_scaler.inverse_transform(y_val_rnn[seq_length-1:])\n",
    "\n",
    "shallow_rnn_val_mae = mean_absolute_error(y_val_inv, y_pred_inv)\n",
    "shallow_rnn_val_mse = mean_squared_error(y_val_inv, y_pred_inv)\n",
    "\n",
    "print(f\"\"\"Validation Metrics:\n",
    "- Validation MAE: {shallow_rnn_val_mae:.2f}\n",
    "- Validation MSE: {shallow_rnn_val_mse:.2f}\n",
    "\"\"\")\n"
   ]
  },
  {
   "cell_type": "markdown",
   "metadata": {},
   "source": [
    "# MODEL TYPE COMPARISON"
   ]
  },
  {
   "cell_type": "code",
   "execution_count": 58,
   "metadata": {},
   "outputs": [
    {
     "data": {
      "image/png": "[encoded data removed]",
      "text/plain": [
       "<Figure size 1600x400 with 2 Axes>"
      ]
     },
     "metadata": {},
     "output_type": "display_data"
    }
   ],
   "source": [
    "# Get the Elastic Net metrics\n",
    "EN_data = pd.read_csv(\"model_output/elastic_net_results.csv\")\n",
    "LR_mae = EN_data.loc[EN_data['TARGET'] == 'flights_ontime', 'MAE'].values[0]\n",
    "LR_mse = EN_data.loc[EN_data['TARGET'] == 'flights_ontime', 'MSE'].values[0]\n",
    "\n",
    "models = ['Linear Reg', 'One Neuron', 'Shallow NN', 'One RN', 'Shallow RNN']\n",
    "mae = [LR_mae, OneNeuron_val_mae, SDNN_val_mae,  OneRNN_val_mae, shallow_rnn_val_mae]\n",
    "mse = [LR_mse, OneNeuron_val_mse, SDNN_val_mse, OneRNN_val_mse, shallow_rnn_val_mse]\n",
    "\n",
    "# Sort by MAE\n",
    "sorted_indices_mae = np.argsort(mae)\n",
    "sorted_models_mae = [models[i] for i in sorted_indices_mae]\n",
    "sorted_mae = [mae[i] for i in sorted_indices_mae]\n",
    "\n",
    "# Sort by MSE\n",
    "sorted_indices_mse = np.argsort(mse)\n",
    "sorted_models_mse = [models[i] for i in sorted_indices_mse]\n",
    "sorted_mse = [mse[i] for i in sorted_indices_mse]\n",
    "\n",
    "x = np.arange(len(models))\n",
    "bar_width = 0.35\n",
    "\n",
    "fix, axes = plt.subplots(nrows=1, ncols=2, figsize=(16, 4))\n",
    "\n",
    "# MAE\n",
    "bars_mae = axes[0].bar(x, sorted_mae, bar_width, label='MAE')\n",
    "axes[0].set_xlabel('Models')\n",
    "axes[0].set_ylabel('MAE Scores')\n",
    "axes[0].set_title('MAE Scores by model')\n",
    "axes[0].set_xticks(x)\n",
    "axes[0].set_xticklabels(sorted_models_mae)\n",
    "axes[0].legend()\n",
    "\n",
    "# Add values above MAE bars\n",
    "for bar, value in zip(bars_mae, sorted_mae):\n",
    "    height = bar.get_height()\n",
    "    axes[0].text(bar.get_x() + bar.get_width() / 2, height + 0.01, f'{value:.0f}', ha='center', va='bottom')\n",
    "\n",
    "# MSE\n",
    "bar_mse = axes[1].bar(x, sorted_mse, bar_width, label='MSE')\n",
    "axes[1].set_xlabel('Models')\n",
    "axes[1].set_ylabel('MSE Scores')\n",
    "axes[1].set_title('MSE Scores by model')\n",
    "axes[1].set_xticks(x)\n",
    "axes[1].set_xticklabels(sorted_models_mse)\n",
    "axes[1].legend()\n",
    "\n",
    "# Add values above MSE bars\n",
    "for bar, value in zip(bar_mse, sorted_mse):\n",
    "    height = bar.get_height()\n",
    "    axes[1].text(bar.get_x() + bar.get_width() / 2, height + 0.01, f'{value:.0f}', ha='center', va='bottom')\n",
    "\n",
    "plt.tight_layout\n",
    "plt.show()"
   ]
  },
  {
   "cell_type": "markdown",
   "metadata": {},
   "source": [
    "1. Explain the shuffle=True/False implications for prediction vs time series forecasting\n",
    "2. Switch to hourly data and split data into .9 /.05 /.05 to enable a better train/val/test split for time series forecasting?\n",
    "3. Add recent months to the flight and weather data (together)"
   ]
  }
 ],
 "metadata": {
  "kernelspec": {
   "display_name": "prediction-rTmYhf-l",
   "language": "python",
   "name": "python3"
  },
  "language_info": {
   "codemirror_mode": {
    "name": "ipython",
    "version": 3
   },
   "file_extension": ".py",
   "mimetype": "text/x-python",
   "name": "python",
   "nbconvert_exporter": "python",
   "pygments_lexer": "ipython3",
   "version": "3.11.5"
  }
 },
 "nbformat": 4,
 "nbformat_minor": 2
}
