{
 "cells": [
  {
   "cell_type": "markdown",
   "metadata": {},
   "source": [
    "# INTRODUCTION"
   ]
  },
  {
   "cell_type": "markdown",
   "metadata": {},
   "source": [
    "## Libraries"
   ]
  },
  {
   "cell_type": "code",
   "execution_count": 20,
   "metadata": {},
   "outputs": [
    {
     "name": "stdout",
     "output_type": "stream",
     "text": [
      "The tensorboard extension is already loaded. To reload it, use:\n",
      "  %reload_ext tensorboard\n"
     ]
    }
   ],
   "source": [
    "import os\n",
    "import pandas as pd\n",
    "import numpy as np\n",
    "import matplotlib.pyplot as plt\n",
    "import seaborn as sns\n",
    "import datetime\n",
    "import random\n",
    "\n",
    "from sklearn.model_selection import train_test_split\n",
    "from sklearn.pipeline import make_pipeline\n",
    "from sklearn.preprocessing import StandardScaler, OneHotEncoder, MinMaxScaler\n",
    "from sklearn.metrics import mean_absolute_error, mean_squared_error, mean_absolute_percentage_error, r2_score\n",
    "from sklearn.compose import ColumnTransformer\n",
    "\n",
    "\n",
    "import tensorflow as tf\n",
    "from tensorflow.data import Dataset, AUTOTUNE\n",
    "\n",
    "from keras import layers, models, Sequential, regularizers\n",
    "from keras.layers import SimpleRNN, Dense, Dropout, Embedding, LSTM, GRU\n",
    "from keras.optimizers.legacy import Adam, RMSprop, SGD\n",
    "from keras.callbacks import EarlyStopping, ModelCheckpoint, TensorBoard\n",
    "from keras.utils import timeseries_dataset_from_array\n",
    "from keras.utils import plot_model\n",
    "from keras.regularizers import L1, L2, L1L2\n",
    "\n",
    "import keras_tuner as kt\n",
    "\n",
    "%load_ext tensorboard"
   ]
  },
  {
   "cell_type": "markdown",
   "metadata": {},
   "source": [
    "## Import data & column groups"
   ]
  },
  {
   "cell_type": "code",
   "execution_count": 21,
   "metadata": {},
   "outputs": [],
   "source": [
    "DAILY_DATA_PATH = \"data.v3/daily\" \n",
    "\n",
    "df = pd.read_parquet(os.path.join(DAILY_DATA_PATH, \"daily_flights_and_weather_merged.parquet\"))\n",
    "\n",
    "# Flights column groups\n",
    "flights_terminal_cols = ['flights_arr_A', 'flights_arr_B', 'flights_arr_C', 'flights_arr_D', 'flights_arr_E',\n",
    "                         'flights_dep_A', 'flights_dep_B', 'flights_dep_C', 'flights_dep_D', 'flights_dep_E']\n",
    "\n",
    "flights_non_terminal_cols = ['flights_total', 'flights_cancel', 'flights_delay', 'flights_ontime',\n",
    "                             'flights_arr_ontime', 'flights_arr_delay', 'flights_arr_cancel',\n",
    "                             'flights_dep_ontime', 'flights_dep_delay', 'flights_dep_cancel']\n",
    "\n",
    "flights_percentage_cols = ['flights_cancel_pct', 'flights_delay_pct', 'flights_ontime_pct',\n",
    "                            'flights_arr_delay_pct', 'flights_arr_ontime_pct', 'flights_arr_cancel_pct',\n",
    "                            'flights_dep_delay_pct', 'flights_dep_ontime_pct', 'flights_dep_cancel_pct']\n",
    "\n",
    "# Date column groups\n",
    "date_cols = ['date', 'covid', 'ordinal_date', 'year', 'month', 'day_of_month', 'day_of_week', 'season', 'holiday', 'halloween', 'xmas_eve', 'new_years_eve', 'jan_2', 'jan_3', 'day_before_easter', 'days_until_xmas', 'days_until_thanksgiving', 'days_until_july_4th', 'days_until_labor_day', 'days_until_memorial_day']\n",
    "\n",
    "# Weather column groups\n",
    "weather_cols = ['wx_temperature_max', 'wx_temperature_min', 'wx_apcp', 'wx_prate', 'wx_asnow', 'wx_frozr', 'wx_vis', 'wx_gust', 'wx_maxref', 'wx_cape', 'wx_lftx', 'wx_wind_speed', 'wx_wind_direction']\n",
    "\n",
    "# Lag column groups\n",
    "lag_cols =  ['flights_cancel_lag_1', 'flights_cancel_lag_2', 'flights_cancel_lag_3', 'flights_cancel_lag_4', 'flights_cancel_lag_5', 'flights_cancel_lag_6', 'flights_cancel_lag_7',\n",
    "             'flights_delay_lag_1', 'flights_delay_lag_2', 'flights_delay_lag_3', 'flights_delay_lag_4', 'flights_delay_lag_5', 'flights_delay_lag_6', 'flights_delay_lag_7',\n",
    "             'flights_ontime_lag_1', 'flights_ontime_lag_2', 'flights_ontime_lag_3', 'flights_ontime_lag_4', 'flights_ontime_lag_5', 'flights_ontime_lag_6', 'flights_ontime_lag_7',]"
   ]
  },
  {
   "cell_type": "markdown",
   "metadata": {},
   "source": [
    "## Train Test Split - \"flights_ontime\""
   ]
  },
  {
   "cell_type": "code",
   "execution_count": 22,
   "metadata": {},
   "outputs": [
    {
     "name": "stdout",
     "output_type": "stream",
     "text": [
      "X_train_full shape: (1516, 54)\n",
      "y_train_full shape: (1516,)\n",
      "X_train shape: (1364, 54)\n",
      "y_train shape: (1364,)\n",
      "X_Test shape: (169, 54)\n",
      "y_Test shape: (169,)\n"
     ]
    }
   ],
   "source": [
    "# Select features and targets\n",
    "train_features = ['random'] + date_cols + weather_cols + lag_cols\n",
    "targets = flights_non_terminal_cols + flights_percentage_cols\n",
    "\n",
    "# Create X and y\n",
    "X = df[train_features].drop('date', axis=1)\n",
    "y = df[targets]\n",
    "\n",
    "# Split data into train and test sets\n",
    "X_train_full, X_test, y_train_full, y_test = train_test_split(X, y['flights_ontime'], test_size=0.1, random_state=42)\n",
    "\n",
    "# Split data into X_train_rull and y_train_full into train and validation sets\n",
    "X_train, X_val, y_train, y_val = train_test_split(X_train_full, y_train_full, test_size=0.1, random_state=42)\n",
    "\n",
    "# Print shapes\n",
    "print(\"X_train_full shape:\", X_train_full.shape)\n",
    "print(\"y_train_full shape:\", y_train_full.shape)\n",
    "\n",
    "print(\"X_train shape:\", X_train.shape)\n",
    "print(\"y_train shape:\", y_train.shape)\n",
    "\n",
    "print(\"X_Test shape:\", X_test.shape)\n",
    "print(\"y_Test shape:\", y_test.shape)"
   ]
  },
  {
   "cell_type": "markdown",
   "metadata": {},
   "source": [
    "# PREPROCESS FOR DENSE NETWORK"
   ]
  },
  {
   "cell_type": "code",
   "execution_count": 23,
   "metadata": {},
   "outputs": [
    {
     "name": "stdout",
     "output_type": "stream",
     "text": [
      "Feature names: ['random', 'covid', 'ordinal_date', 'year', 'month', 'day_of_month', 'day_of_week', 'season', 'holiday', 'halloween', 'xmas_eve', 'new_years_eve', 'jan_2', 'jan_3', 'day_before_easter', 'days_until_xmas', 'days_until_thanksgiving', 'days_until_july_4th', 'days_until_labor_day', 'days_until_memorial_day', 'wx_temperature_max', 'wx_temperature_min', 'wx_apcp', 'wx_prate', 'wx_asnow', 'wx_frozr', 'wx_vis', 'wx_gust', 'wx_maxref', 'wx_cape', 'wx_lftx', 'wx_wind_speed', 'wx_wind_direction', 'flights_cancel_lag_1', 'flights_cancel_lag_2', 'flights_cancel_lag_3', 'flights_cancel_lag_4', 'flights_cancel_lag_5', 'flights_cancel_lag_6', 'flights_cancel_lag_7', 'flights_delay_lag_1', 'flights_delay_lag_2', 'flights_delay_lag_3', 'flights_delay_lag_4', 'flights_delay_lag_5', 'flights_delay_lag_6', 'flights_delay_lag_7', 'flights_ontime_lag_1', 'flights_ontime_lag_2', 'flights_ontime_lag_3', 'flights_ontime_lag_4', 'flights_ontime_lag_5', 'flights_ontime_lag_6', 'flights_ontime_lag_7']\n",
      "Target columns: ['flights_total', 'flights_cancel', 'flights_delay', 'flights_ontime', 'flights_arr_ontime', 'flights_arr_delay', 'flights_arr_cancel', 'flights_dep_ontime', 'flights_dep_delay', 'flights_dep_cancel', 'flights_cancel_pct', 'flights_delay_pct', 'flights_ontime_pct', 'flights_arr_delay_pct', 'flights_arr_ontime_pct', 'flights_arr_cancel_pct', 'flights_dep_delay_pct', 'flights_dep_ontime_pct', 'flights_dep_cancel_pct']\n",
      "\n",
      "Unique data types in X\n",
      "float64    30\n",
      "object     11\n",
      "int64       7\n",
      "float32     4\n",
      "int32       2\n",
      "Name: count, dtype: int64\n",
      "\n",
      "Categorical columns to one-hot-encode: ['covid', 'month', 'day_of_week', 'season', 'holiday', 'halloween', 'xmas_eve', 'new_years_eve', 'jan_2', 'jan_3', 'day_before_easter']\n"
     ]
    }
   ],
   "source": [
    "print(f\"Feature names: {X.columns.tolist()}\")\n",
    "print(f\"Target columns: {y.columns.tolist()}\", end=\"\\n\\n\")\n",
    "print(\"Unique data types in X\", X.dtypes.value_counts(), sep = '\\n')\n",
    "\n",
    "# Identify categorical and numeric columns in X\n",
    "categorical_cols = X.select_dtypes(include=['object', 'category']).columns.tolist()\n",
    "numeric_cols = X.select_dtypes(include = ['float64', 'float32', 'int32', 'int64']).columns.tolist()\n",
    "\n",
    "print(f\"\\nCategorical columns to one-hot-encode: {categorical_cols}\")\n",
    "\n",
    "# Fit transformers to the training data\n",
    "f_scaler = StandardScaler()\n",
    "f_scaler.fit(X_train[numeric_cols])\n",
    "\n",
    "ohe = OneHotEncoder(sparse_output=False, handle_unknown='ignore') # Some observed holidays may not be in the training data\n",
    "ohe.fit(X_train[categorical_cols])\n",
    "\n",
    "t_scaler = StandardScaler()\n",
    "t_scaler.fit(y_train.values.reshape(-1, 1)) # reshape y_train to be 2D\n",
    "\n",
    "# Define preprocessor\n",
    "def preprocess(features, target, set_global_scaler = False):\n",
    "    global global_targer_scaler\n",
    "\n",
    "    scaled_features = f_scaler.transform(features[numeric_cols])\n",
    "    encoded_features = ohe.transform(features[categorical_cols])\n",
    "    scaled_target = t_scaler.transform(target.values.reshape(-1, 1))\n",
    "    processed_features = np.concatenate([scaled_features, encoded_features], axis=1)\n",
    "\n",
    "    if set_global_scaler:\n",
    "        global_targer_scaler = t_scaler\n",
    "\n",
    "    return processed_features, scaled_target\n",
    "\n",
    "# Preprocess the data\n",
    "X_train_d, y_train_d = preprocess(X_train, y_train, set_global_scaler=True)\n",
    "X_val_d, y_val_d = preprocess(X_val, y_val)"
   ]
  },
  {
   "cell_type": "markdown",
   "metadata": {},
   "source": [
    "# ONE-NEURON \"LINEAR MODEL\"\n",
    "\n",
    "The goal of this section is to simulate linear regression using a neural newtork with one neuron and no activation function. I'll use L1 and L2 regularization to simulate elastic net regression and compare results to those found in 3.daily_linear_regression.ipynb."
   ]
  },
  {
   "cell_type": "markdown",
   "metadata": {},
   "source": [
    "## Create TensorFlow datasets"
   ]
  },
  {
   "cell_type": "code",
   "execution_count": 24,
   "metadata": {},
   "outputs": [],
   "source": [
    "# TensorFlow datasets\n",
    "train_ds_flights_ontime_d = Dataset.from_tensor_slices((X_train_d, y_train_d)).shuffle(len(X_train_d))\n",
    "val_ds_flights_ontime_d = Dataset.from_tensor_slices((X_val_d, y_val_d)).shuffle(len(X_val_d))\n",
    "\n",
    "# Batch and prefetch\n",
    "batch_size = 32\n",
    "train_ds_flights_ontime_d = train_ds_flights_ontime_d.batch(batch_size).prefetch(AUTOTUNE)\n",
    "val_ds_flights_ontime_d = val_ds_flights_ontime_d.batch(batch_size).prefetch(AUTOTUNE)\n"
   ]
  },
  {
   "cell_type": "markdown",
   "metadata": {},
   "source": [
    "## Create R-squared metric"
   ]
  },
  {
   "cell_type": "code",
   "execution_count": 25,
   "metadata": {},
   "outputs": [],
   "source": [
    "from keras import backend as K\n",
    "\n",
    "def r_squared(y_true, y_pred):\n",
    "    y_true_inv = tf.numpy_function(global_targer_scaler.inverse_transform, [y_true], tf.float32)\n",
    "    y_pred_inv = tf.numpy_function(global_targer_scaler.inverse_transform, [y_pred], tf.float32)\n",
    "    SS_res =  K.sum(K.square(y_true_inv - y_pred_inv)) \n",
    "    SS_tot = K.sum(K.square(y_true_inv - K.mean(y_true_inv))) \n",
    "    return ( 1 - SS_res/(SS_tot + K.epsilon()) )"
   ]
  },
  {
   "cell_type": "markdown",
   "metadata": {},
   "source": [
    "## Build one-neuron hypermodel"
   ]
  },
  {
   "cell_type": "code",
   "execution_count": 26,
   "metadata": {},
   "outputs": [],
   "source": [
    "def model_builder(hp):\n",
    "    learning_rate = hp.Float('learning_rate', min_value=1e-4, max_value=1e-2, sampling='LOG', default=1e-3)\n",
    "    l1_regularization = hp.Float('l1_regularization', min_value=1e-5, max_value=1e-1, sampling='LOG', default=1e-2)\n",
    "    l2_regularization =  hp.Float('l2_regularization', min_value=1e-5, max_value=1e-1, sampling='LOG', default=1e-2)\n",
    "\n",
    "    model = Sequential([\n",
    "        Dense(units = 1, \n",
    "            input_dim=X_train_d.shape[1], \n",
    "            kernel_regularizer=L1L2(l1_regularization, l2_regularization))\n",
    "    ])\n",
    "\n",
    "    model.compile(optimizer=Adam(learning_rate=learning_rate), \n",
    "                loss='mean_squared_error', \n",
    "                metrics=['mean_absolute_error', r_squared])\n",
    "    \n",
    "    return model"
   ]
  },
  {
   "cell_type": "markdown",
   "metadata": {},
   "source": [
    "## Get one-neuron hyperparameters using Keras random search tuner"
   ]
  },
  {
   "cell_type": "code",
   "execution_count": 27,
   "metadata": {},
   "outputs": [],
   "source": [
    "# Callbacks & Tensorboard Setup\n",
    "early_stopping_1n_RS = EarlyStopping(monitor='val_loss', patience=10, restore_best_weights=True)\n",
    "\n",
    "# Create a Keras Tuner\n",
    "OneNeuron_tuner_RS = kt.RandomSearch(\n",
    "    hypermodel = model_builder,\n",
    "    objective='val_loss',\n",
    "    max_trials=100,\n",
    "    executions_per_trial=2,\n",
    "    directory='logs/flights_ontime/dense_lr/',\n",
    "    project_name='tuner',\n",
    "    overwrite = True\n",
    ")"
   ]
  },
  {
   "cell_type": "code",
   "execution_count": 28,
   "metadata": {},
   "outputs": [
    {
     "name": "stdout",
     "output_type": "stream",
     "text": [
      "Trial 100 Complete [00h 00m 02s]\n",
      "val_loss: 0.5465367138385773\n",
      "\n",
      "Best val_loss So Far: 0.3966730535030365\n",
      "Total elapsed time: 00h 12m 07s\n"
     ]
    }
   ],
   "source": [
    "# Search for best hyperparameters\n",
    "OneNeuron_tuner_RS.search(train_ds_flights_ontime_d, \n",
    "             validation_data=val_ds_flights_ontime_d, \n",
    "             epochs=500, \n",
    "             callbacks=[early_stopping_1n_RS])"
   ]
  },
  {
   "cell_type": "markdown",
   "metadata": {},
   "source": [
    "## Best 3 one-neuron fits: hyperparameters and validation score"
   ]
  },
  {
   "cell_type": "code",
   "execution_count": 29,
   "metadata": {},
   "outputs": [
    {
     "name": "stdout",
     "output_type": "stream",
     "text": [
      "Results summary\n",
      "Results in logs/flights_ontime/dense_lr/tuner\n",
      "Showing 3 best trials\n",
      "Objective(name=\"val_loss\", direction=\"min\")\n",
      "\n",
      "Trial 094 summary\n",
      "Hyperparameters:\n",
      "learning_rate: 0.009875162085648924\n",
      "l1_regularization: 9.743169460174233e-05\n",
      "l2_regularization: 0.002252061183915419\n",
      "Score: 0.3966730535030365\n",
      "\n",
      "Trial 072 summary\n",
      "Hyperparameters:\n",
      "learning_rate: 0.004733696705660122\n",
      "l1_regularization: 1.2516441034186773e-05\n",
      "l2_regularization: 0.00038150370489478517\n",
      "Score: 0.3993905186653137\n",
      "\n",
      "Trial 089 summary\n",
      "Hyperparameters:\n",
      "learning_rate: 0.006229165261219078\n",
      "l1_regularization: 0.00032236696463399923\n",
      "l2_regularization: 6.56148562458941e-05\n",
      "Score: 0.3996908515691757\n"
     ]
    }
   ],
   "source": [
    "OneNeuron_tuner_RS.results_summary(num_trials=3)"
   ]
  },
  {
   "cell_type": "markdown",
   "metadata": {},
   "source": [
    "## Get model weights and save best one-neuron model"
   ]
  },
  {
   "cell_type": "code",
   "execution_count": 30,
   "metadata": {},
   "outputs": [
    {
     "name": "stdout",
     "output_type": "stream",
     "text": [
      "INFO:tensorflow:Assets written to: models/flights_ontime/OneNeuron_LR_model/assets\n"
     ]
    },
    {
     "name": "stderr",
     "output_type": "stream",
     "text": [
      "INFO:tensorflow:Assets written to: models/flights_ontime/OneNeuron_LR_model/assets\n"
     ]
    }
   ],
   "source": [
    "# Get best hyperparameters\n",
    "best_hps = OneNeuron_tuner_RS.get_best_hyperparameters(num_trials = 1)[0]\n",
    "\n",
    "# Tensorboard setup\n",
    "!rm -rf ./logs/flights_ontime/OneNeuron/tensorboard/ \n",
    "log_dir = \"logs/flights_ontime/OneNeuron/tensorboard/\" + datetime.datetime.now().strftime(\"%Y%m%d-%H%M%S\")\n",
    "tensorboard_callback = TensorBoard(log_dir=log_dir, histogram_freq=1)\n",
    "\n",
    "early_stopping_best = EarlyStopping(monitor='val_loss', patience=50, restore_best_weights=True)\n",
    "\n",
    "best_hps = OneNeuron_tuner_RS.get_best_hyperparameters(num_trials = 1)[0]\n",
    "OneNeuron_LR_model = OneNeuron_tuner_RS.hypermodel.build(best_hps)\n",
    "history = OneNeuron_LR_model.fit(train_ds_flights_ontime_d, \n",
    "                    validation_data=val_ds_flights_ontime_d, \n",
    "                    epochs=500, \n",
    "                    callbacks=[early_stopping_best, tensorboard_callback],\n",
    "                    verbose=0)\n",
    "\n",
    "# Save the trained model\n",
    "OneNeuron_LR_model.save('models/flights_ontime/OneNeuron_LR_model')"
   ]
  },
  {
   "cell_type": "markdown",
   "metadata": {},
   "source": [
    "##  TensorBoard for best 1-neuron model\n",
    "The TensorBoard dashboard shows plots generated from training logs that provide insight into the training of a model. \n",
    "\n",
    "The time series tab shows several plots within expandable windows for our one-neuronal model, \"dense_#\" and for the loss and training metrics by epoch.  Under dense_#, TesnorBoard shows histograms of the bias values \"bias_0\" and weight values, \"kernel_0\" by epoch. The epoch number is on the y-axis with the first epochs at the top and the most recent epoch at the bottom. These plots show how the bias and weight distributions change with training. For the one-neuron model, the weights appear to stabilize well before the training ended, at around 50 to 60 epochs, while the bias terms continued to drift downwards with training.\n",
    "\n",
    "The other plots under Time Series show how the loss and metrics change with training epoch or iteration (batch number). Based on these plots, the one-neuron model appears to have high bias and high variance. High bias is indicated by the large difference in loss and performance metrics between the train and validation datasets. High variance is indicated by the large variation in the validation loss, mae, and r-squared metrics that persists through training, even after these metrics stabilize on the training set at around epoch 40. Taken together, the one-neuron model appears to lack flexibility and would also benefit from having more data to train the weights.\n",
    "\n",
    "\n"
   ]
  },
  {
   "cell_type": "code",
   "execution_count": 10,
   "metadata": {},
   "outputs": [
    {
     "data": {
      "text/plain": [
       "Reusing TensorBoard on port 6006 (pid 37966), started 0:00:04 ago. (Use '!kill 37966' to kill it.)"
      ]
     },
     "metadata": {},
     "output_type": "display_data"
    },
    {
     "data": {
      "text/html": [
       "\n",
       "      <iframe id=\"tensorboard-frame-8b2e587f231467c0\" width=\"100%\" height=\"800\" frameborder=\"0\">\n",
       "      </iframe>\n",
       "      <script>\n",
       "        (function() {\n",
       "          const frame = document.getElementById(\"tensorboard-frame-8b2e587f231467c0\");\n",
       "          const url = new URL(\"http://localhost\");\n",
       "          const port = 6006;\n",
       "          if (port) {\n",
       "            url.port = port;\n",
       "          }\n",
       "          frame.src = url;\n",
       "        })();\n",
       "      </script>\n",
       "    "
      ],
      "text/plain": [
       "<IPython.core.display.HTML object>"
      ]
     },
     "metadata": {},
     "output_type": "display_data"
    }
   ],
   "source": [
    "%tensorboard --logdir logs/flights_ontime/OneNeuron/tensorboard"
   ]
  },
  {
   "cell_type": "markdown",
   "metadata": {},
   "source": [
    "## Load and evalute the best 1-neuron model"
   ]
  },
  {
   "cell_type": "code",
   "execution_count": 31,
   "metadata": {},
   "outputs": [
    {
     "name": "stdout",
     "output_type": "stream",
     "text": [
      "5/5 [==============================] - 0s 556us/step\n",
      "Validation Metrics:\n",
      "- Validation R^2: 0.689\n",
      "- Validation MAE: 117.88\n",
      "- Validation MSE: 31812.44\n",
      "- Validation MAPE: 0.12\n",
      "\n"
     ]
    }
   ],
   "source": [
    "# Load the trained model\n",
    "OneNeuron_LR_model = models.load_model('models/flights_ontime/OneNeuron_LR_model', custom_objects={'r_squared': r_squared})\n",
    "\n",
    "# Inverse transform the predicted values and get validation MAE, MSE, and R^2\n",
    "y_pred = OneNeuron_LR_model.predict(X_val_d)\n",
    "y_pred_inv = global_targer_scaler.inverse_transform(y_pred)\n",
    "y_val_inv = global_targer_scaler.inverse_transform(y_val_d)\n",
    "\n",
    "OneNeuron_val_r2 = r2_score(y_val_inv, y_pred_inv)\n",
    "OneNeuron_val_mae = mean_absolute_error(y_val_inv, y_pred_inv)\n",
    "OneNeuron_val_mse = mean_squared_error(y_val_inv, y_pred_inv)\n",
    "OneNeuron_val_mape = mean_absolute_percentage_error(y_val_inv, y_pred_inv)\n",
    "\n",
    "\n",
    "print(f\"\"\"Validation Metrics:\n",
    "- Validation R^2: {OneNeuron_val_r2:.3f}\n",
    "- Validation MAE: {OneNeuron_val_mae:.2f}\n",
    "- Validation MSE: {OneNeuron_val_mse:.2f}\n",
    "- Validation MAPE: {OneNeuron_val_mape:.2f}\n",
    "\"\"\")"
   ]
  },
  {
   "cell_type": "markdown",
   "metadata": {},
   "source": [
    "# SHALLOW DENSE NEURAL NETWORK (SDNN)"
   ]
  },
  {
   "cell_type": "markdown",
   "metadata": {},
   "source": [
    "## Build SDNN Hypermodel"
   ]
  },
  {
   "cell_type": "code",
   "execution_count": 17,
   "metadata": {},
   "outputs": [],
   "source": [
    "def build_model(hp):\n",
    "    n_input_neurons = hp.Int('n_input_neurons', min_value=4, max_value=16, default=8)\n",
    "    n_hidden_neurons = hp.Int('n_hidden_neurons', min_value=4, max_value=16, default=8)\n",
    "    learning_rate = hp.Float('learning_rate', min_value=1e-4, max_value=1e-2, sampling='LOG', default=1e-3)\n",
    "    dropout_rate = hp.Float('dropout_rate', min_value=0.02, max_value=0.03, default=0.0)\n",
    "    l2_regularization =  hp.Float('l2_regularization', min_value=1e-5, max_value=1e-1, sampling='LOG', default=1e-2)\n",
    "\n",
    "    model = Sequential()\n",
    "\n",
    "    # Input layer\n",
    "    model.add(Dense(units=n_input_neurons, \n",
    "                    activation='relu', \n",
    "                    kernel_regularizer=L2(l2_regularization)))\n",
    "    model.add(Dropout(dropout_rate))\n",
    "    \n",
    "    # Hidden layer\n",
    "    model.add(Dense(units=n_hidden_neurons, \n",
    "                    activation='relu', \n",
    "                    kernel_regularizer=L2(l2_regularization)))\n",
    "    model.add(Dropout(dropout_rate))\n",
    "\n",
    "    # Output layer\n",
    "    model.add(Dense(1))\n",
    "\n",
    "    model.compile(optimizer=Adam(learning_rate=learning_rate), \n",
    "                  loss='mean_squared_error', \n",
    "                  metrics=['mean_absolute_error'])\n",
    "    \n",
    "    return model"
   ]
  },
  {
   "cell_type": "markdown",
   "metadata": {},
   "source": [
    "## Get hyperparameters for SDNN using Bayesian optimization"
   ]
  },
  {
   "cell_type": "code",
   "execution_count": 35,
   "metadata": {},
   "outputs": [
    {
     "name": "stdout",
     "output_type": "stream",
     "text": [
      "Trial 100 Complete [00h 00m 05s]\n",
      "val_loss: 0.4497844725847244\n",
      "\n",
      "Best val_loss So Far: 0.38925886154174805\n",
      "Total elapsed time: 00h 11m 41s\n"
     ]
    }
   ],
   "source": [
    "early_stopping_BO = EarlyStopping(monitor='val_loss', patience=10, restore_best_weights=True)\n",
    "\n",
    "SDNN_tuner_BO = kt.BayesianOptimization(\n",
    "    hypermodel = build_model,\n",
    "    objective='val_loss',\n",
    "    max_trials=100,\n",
    "    executions_per_trial=2,\n",
    "    num_initial_points=2,\n",
    "    directory = \"logs/flights_ontime/SDNN\",\n",
    "    project_name = \"bayesian_optimization_tuner\",\n",
    "    overwrite=True\n",
    ")\n",
    "\n",
    "SDNN_tuner_BO.search(train_ds_flights_ontime_d, \n",
    "             epochs=500, \n",
    "             validation_data=val_ds_flights_ontime_d, \n",
    "             callbacks=[early_stopping_BO])"
   ]
  },
  {
   "cell_type": "markdown",
   "metadata": {},
   "source": [
    "## Get hyperparameters for SDNN using random search\n",
    "In the interest of time, I didn't use the random search tuner on the last training run. This approach consistently underperformed compared to Bayesian optimization and hyperband."
   ]
  },
  {
   "cell_type": "code",
   "execution_count": null,
   "metadata": {},
   "outputs": [],
   "source": [
    "# early_stopping_RS = EarlyStopping(monitor='val_loss', patience=10, restore_best_weights=True)\n",
    "\n",
    "# SDNN_tuner_RS = kt.RandomSearch(\n",
    "#     hypermodel = build_model,\n",
    "#     objective='val_loss',\n",
    "#     max_trials=100,\n",
    "#     executions_per_trial=2,\n",
    "#     directory = \"logs/flights_ontime/SDNN\",\n",
    "#     project_name = \"random_search_tuner\",\n",
    "#     overwrite=True\n",
    "# )\n",
    "\n",
    "# SDNN_tuner_RS.search(train_ds_flights_ontime_d,\n",
    "#                 epochs=500, \n",
    "#                 validation_data=val_ds_flights_ontime_d, \n",
    "#                 callbacks=[early_stopping_RS])"
   ]
  },
  {
   "cell_type": "markdown",
   "metadata": {},
   "source": [
    "## Get hyperparameters for best SDNN model using hyperband"
   ]
  },
  {
   "cell_type": "code",
   "execution_count": 16,
   "metadata": {},
   "outputs": [
    {
     "ename": "NameError",
     "evalue": "name 'build_model' is not defined",
     "output_type": "error",
     "traceback": [
      "\u001b[0;31m---------------------------------------------------------------------------\u001b[0m",
      "\u001b[0;31mNameError\u001b[0m                                 Traceback (most recent call last)",
      "Cell \u001b[0;32mIn[16], line 4\u001b[0m\n\u001b[1;32m      1\u001b[0m early_stopping_HB \u001b[38;5;241m=\u001b[39m EarlyStopping(monitor\u001b[38;5;241m=\u001b[39m\u001b[38;5;124m'\u001b[39m\u001b[38;5;124mval_loss\u001b[39m\u001b[38;5;124m'\u001b[39m, patience\u001b[38;5;241m=\u001b[39m\u001b[38;5;241m10\u001b[39m, restore_best_weights\u001b[38;5;241m=\u001b[39m\u001b[38;5;28;01mTrue\u001b[39;00m)\n\u001b[1;32m      3\u001b[0m SDNN_tuner_HB \u001b[38;5;241m=\u001b[39m kt\u001b[38;5;241m.\u001b[39mHyperband(\n\u001b[0;32m----> 4\u001b[0m     hypermodel \u001b[38;5;241m=\u001b[39m \u001b[43mbuild_model\u001b[49m,\n\u001b[1;32m      5\u001b[0m     objective\u001b[38;5;241m=\u001b[39m\u001b[38;5;124m'\u001b[39m\u001b[38;5;124mval_loss\u001b[39m\u001b[38;5;124m'\u001b[39m,\n\u001b[1;32m      6\u001b[0m     max_epochs\u001b[38;5;241m=\u001b[39m\u001b[38;5;241m600\u001b[39m,\n\u001b[1;32m      7\u001b[0m     factor\u001b[38;5;241m=\u001b[39m\u001b[38;5;241m3\u001b[39m,\n\u001b[1;32m      8\u001b[0m     directory \u001b[38;5;241m=\u001b[39m \u001b[38;5;124m\"\u001b[39m\u001b[38;5;124mlogs/flights_ontime/SDNN\u001b[39m\u001b[38;5;124m\"\u001b[39m,\n\u001b[1;32m      9\u001b[0m     project_name \u001b[38;5;241m=\u001b[39m \u001b[38;5;124m\"\u001b[39m\u001b[38;5;124mhyperband_tuner\u001b[39m\u001b[38;5;124m\"\u001b[39m,\n\u001b[1;32m     10\u001b[0m     overwrite\u001b[38;5;241m=\u001b[39m\u001b[38;5;28;01mTrue\u001b[39;00m\n\u001b[1;32m     11\u001b[0m )\n\u001b[1;32m     13\u001b[0m SDNN_tuner_HB\u001b[38;5;241m.\u001b[39msearch(train_ds_flights_ontime_d,\n\u001b[1;32m     14\u001b[0m                 epochs\u001b[38;5;241m=\u001b[39m\u001b[38;5;241m600\u001b[39m, \n\u001b[1;32m     15\u001b[0m                 validation_data\u001b[38;5;241m=\u001b[39mval_ds_flights_ontime_d, \n\u001b[1;32m     16\u001b[0m                 callbacks\u001b[38;5;241m=\u001b[39m[early_stopping_HB])\n",
      "\u001b[0;31mNameError\u001b[0m: name 'build_model' is not defined"
     ]
    }
   ],
   "source": [
    "early_stopping_HB = EarlyStopping(monitor='val_loss', patience=10, restore_best_weights=True)\n",
    "\n",
    "SDNN_tuner_HB = kt.Hyperband(\n",
    "    hypermodel = build_model,\n",
    "    objective='val_loss',\n",
    "    max_epochs=600,\n",
    "    factor=3,\n",
    "    directory = \"logs/flights_ontime/SDNN\",\n",
    "    project_name = \"hyperband_tuner\",\n",
    "    overwrite=True\n",
    ")\n",
    "\n",
    "SDNN_tuner_HB.search(train_ds_flights_ontime_d,\n",
    "                epochs=600, \n",
    "                validation_data=val_ds_flights_ontime_d, \n",
    "                callbacks=[early_stopping_HB])"
   ]
  },
  {
   "cell_type": "markdown",
   "metadata": {},
   "source": [
    "## Get weights and save best SDNN model (from hyperband search)"
   ]
  },
  {
   "cell_type": "code",
   "execution_count": 15,
   "metadata": {},
   "outputs": [
    {
     "ename": "NameError",
     "evalue": "name 'SDNN_tuner_HB' is not defined",
     "output_type": "error",
     "traceback": [
      "\u001b[0;31m---------------------------------------------------------------------------\u001b[0m",
      "\u001b[0;31mNameError\u001b[0m                                 Traceback (most recent call last)",
      "Cell \u001b[0;32mIn[15], line 2\u001b[0m\n\u001b[1;32m      1\u001b[0m \u001b[38;5;66;03m# Get best hyperparameters from Hyperband tuner\u001b[39;00m\n\u001b[0;32m----> 2\u001b[0m best_hps \u001b[38;5;241m=\u001b[39m \u001b[43mSDNN_tuner_HB\u001b[49m\u001b[38;5;241m.\u001b[39mget_best_hyperparameters(num_trials \u001b[38;5;241m=\u001b[39m \u001b[38;5;241m1\u001b[39m)[\u001b[38;5;241m0\u001b[39m]\n\u001b[1;32m      4\u001b[0m \u001b[38;5;66;03m# Initialize Early Stopping\u001b[39;00m\n\u001b[1;32m      5\u001b[0m early_stopping_SDNN_best \u001b[38;5;241m=\u001b[39m EarlyStopping(monitor\u001b[38;5;241m=\u001b[39m\u001b[38;5;124m'\u001b[39m\u001b[38;5;124mval_loss\u001b[39m\u001b[38;5;124m'\u001b[39m, patience\u001b[38;5;241m=\u001b[39m\u001b[38;5;241m50\u001b[39m, restore_best_weights\u001b[38;5;241m=\u001b[39m\u001b[38;5;28;01mTrue\u001b[39;00m)\n",
      "\u001b[0;31mNameError\u001b[0m: name 'SDNN_tuner_HB' is not defined"
     ]
    }
   ],
   "source": [
    "# Get best hyperparameters from Hyperband tuner\n",
    "best_hps = SDNN_tuner_HB.get_best_hyperparameters(num_trials = 1)[0]\n",
    "\n",
    "# Initialize Early Stopping\n",
    "early_stopping_SDNN_best = EarlyStopping(monitor='val_loss', patience=50, restore_best_weights=True)\n",
    "\n",
    "# Setup TensoreBoard\n",
    "!rm -rf ./logs/flights_ontime/SDNN_HB/tensorboard/\n",
    "log_dir = \"logs/flights_ontime/SDNN_HB/tensorboard/\" + datetime.datetime.now().strftime(\"%Y%m%d-%H%M%S\")\n",
    "tensorboard_callback = TensorBoard(log_dir=log_dir, histogram_freq=1)\n",
    "\n",
    "# Train the model with the best hyperparameters\n",
    "SDNN_model = SDNN_tuner_HB.hypermodel.build(best_hps)\n",
    "history = SDNN_model.fit(train_ds_flights_ontime_d, \n",
    "                    validation_data=val_ds_flights_ontime_d, \n",
    "                    epochs=500, \n",
    "                    callbacks=[early_stopping_SDNN_best, tensorboard_callback],\n",
    "                    verbose=0)\n",
    "\n",
    "# Save the trained model\n",
    "SDNN_model.save('models/flights_ontime/SDNN_model')"
   ]
  },
  {
   "cell_type": "markdown",
   "metadata": {},
   "source": [
    "## TensorBoard"
   ]
  },
  {
   "cell_type": "code",
   "execution_count": 12,
   "metadata": {},
   "outputs": [
    {
     "data": {
      "text/plain": [
       "Reusing TensorBoard on port 6007 (pid 38246), started 0:00:20 ago. (Use '!kill 38246' to kill it.)"
      ]
     },
     "metadata": {},
     "output_type": "display_data"
    },
    {
     "data": {
      "text/html": [
       "\n",
       "      <iframe id=\"tensorboard-frame-7f05558bebfdac8a\" width=\"100%\" height=\"800\" frameborder=\"0\">\n",
       "      </iframe>\n",
       "      <script>\n",
       "        (function() {\n",
       "          const frame = document.getElementById(\"tensorboard-frame-7f05558bebfdac8a\");\n",
       "          const url = new URL(\"http://localhost\");\n",
       "          const port = 6007;\n",
       "          if (port) {\n",
       "            url.port = port;\n",
       "          }\n",
       "          frame.src = url;\n",
       "        })();\n",
       "      </script>\n",
       "    "
      ],
      "text/plain": [
       "<IPython.core.display.HTML object>"
      ]
     },
     "metadata": {},
     "output_type": "display_data"
    }
   ],
   "source": [
    "# TensorBoard\n",
    "%tensorboard --logdir logs/flights_ontime/SDNN_HB/tensorboard"
   ]
  },
  {
   "cell_type": "markdown",
   "metadata": {},
   "source": [
    "## Best SDNN model summary"
   ]
  },
  {
   "cell_type": "code",
   "execution_count": 13,
   "metadata": {},
   "outputs": [
    {
     "ename": "NameError",
     "evalue": "name 'best_hps' is not defined",
     "output_type": "error",
     "traceback": [
      "\u001b[0;31m---------------------------------------------------------------------------\u001b[0m",
      "\u001b[0;31mNameError\u001b[0m                                 Traceback (most recent call last)",
      "Cell \u001b[0;32mIn[13], line 6\u001b[0m\n\u001b[1;32m      2\u001b[0m SDNN_model \u001b[38;5;241m=\u001b[39m models\u001b[38;5;241m.\u001b[39mload_model(\u001b[38;5;124m'\u001b[39m\u001b[38;5;124mmodels/flights_ontime/SDNN_model\u001b[39m\u001b[38;5;124m'\u001b[39m)\n\u001b[1;32m      4\u001b[0m \u001b[38;5;66;03m# Print the best hyperparameters\u001b[39;00m\n\u001b[1;32m      5\u001b[0m \u001b[38;5;28mprint\u001b[39m(\u001b[38;5;124mf\u001b[39m\u001b[38;5;124m\"\"\"\u001b[39m\u001b[38;5;124mBest Hyperparameters:\u001b[39m\n\u001b[0;32m----> 6\u001b[0m \u001b[38;5;124m- Number of Hidden Layers: \u001b[39m\u001b[38;5;132;01m{\u001b[39;00m\u001b[43mbest_hps\u001b[49m\u001b[38;5;241m.\u001b[39mget(\u001b[38;5;124m'\u001b[39m\u001b[38;5;124mn_hidden\u001b[39m\u001b[38;5;124m'\u001b[39m)\u001b[38;5;132;01m}\u001b[39;00m\n\u001b[1;32m      7\u001b[0m \u001b[38;5;124m- Number of Neurons: \u001b[39m\u001b[38;5;132;01m{\u001b[39;00mbest_hps\u001b[38;5;241m.\u001b[39mget(\u001b[38;5;124m'\u001b[39m\u001b[38;5;124mn_neurons\u001b[39m\u001b[38;5;124m'\u001b[39m)\u001b[38;5;132;01m}\u001b[39;00m\n\u001b[1;32m      8\u001b[0m \u001b[38;5;124m- Learning Rate: \u001b[39m\u001b[38;5;132;01m{\u001b[39;00mbest_hps\u001b[38;5;241m.\u001b[39mget(\u001b[38;5;124m'\u001b[39m\u001b[38;5;124mlearning_rate\u001b[39m\u001b[38;5;124m'\u001b[39m)\u001b[38;5;132;01m}\u001b[39;00m\n\u001b[1;32m      9\u001b[0m \u001b[38;5;124m- Dropout Rate: \u001b[39m\u001b[38;5;132;01m{\u001b[39;00mbest_hps\u001b[38;5;241m.\u001b[39mget(\u001b[38;5;124m'\u001b[39m\u001b[38;5;124mdropout_rate\u001b[39m\u001b[38;5;124m'\u001b[39m)\u001b[38;5;132;01m}\u001b[39;00m\n\u001b[1;32m     10\u001b[0m \u001b[38;5;124m- L2 Regularization: \u001b[39m\u001b[38;5;132;01m{\u001b[39;00mbest_hps\u001b[38;5;241m.\u001b[39mget(\u001b[38;5;124m'\u001b[39m\u001b[38;5;124ml2_regularization\u001b[39m\u001b[38;5;124m'\u001b[39m)\u001b[38;5;132;01m}\u001b[39;00m\n\u001b[1;32m     11\u001b[0m \u001b[38;5;124m\"\"\"\u001b[39m)\n",
      "\u001b[0;31mNameError\u001b[0m: name 'best_hps' is not defined"
     ]
    }
   ],
   "source": [
    "# Load the trained model\n",
    "SDNN_model = models.load_model('models/flights_ontime/SDNN_model')\n",
    "\n",
    "# Print the best hyperparameters\n",
    "print(f\"\"\"Best Hyperparameters:\n",
    "- Number of Hidden Layers: {best_hps.get('n_hidden')}\n",
    "- Number of Neurons: {best_hps.get('n_neurons')}\n",
    "- Learning Rate: {best_hps.get('learning_rate')}\n",
    "- Dropout Rate: {best_hps.get('dropout_rate')}\n",
    "- L2 Regularization: {best_hps.get('l2_regularization')}\n",
    "\"\"\")"
   ]
  },
  {
   "cell_type": "markdown",
   "metadata": {},
   "source": [
    "## Model architecture"
   ]
  },
  {
   "cell_type": "code",
   "execution_count": 39,
   "metadata": {},
   "outputs": [
    {
     "name": "stdout",
     "output_type": "stream",
     "text": [
      "Model: \"sequential_1\"\n",
      "_________________________________________________________________\n",
      " Layer (type)                Output Shape              Param #   \n",
      "=================================================================\n",
      " dense_3 (Dense)             (None, 13)                1261      \n",
      "                                                                 \n",
      " dropout_2 (Dropout)         (None, 13)                0         \n",
      "                                                                 \n",
      " dense_4 (Dense)             (None, 8)                 112       \n",
      "                                                                 \n",
      " dropout_3 (Dropout)         (None, 8)                 0         \n",
      "                                                                 \n",
      " dense_5 (Dense)             (None, 1)                 9         \n",
      "                                                                 \n",
      "=================================================================\n",
      "Total params: 1382 (5.40 KB)\n",
      "Trainable params: 1382 (5.40 KB)\n",
      "Non-trainable params: 0 (0.00 Byte)\n",
      "_________________________________________________________________\n"
     ]
    }
   ],
   "source": [
    "SDNN_model.summary()"
   ]
  },
  {
   "cell_type": "markdown",
   "metadata": {},
   "source": [
    "## Best SDNN model evaluation"
   ]
  },
  {
   "cell_type": "code",
   "execution_count": 35,
   "metadata": {},
   "outputs": [
    {
     "name": "stdout",
     "output_type": "stream",
     "text": [
      "5/5 [==============================] - 0s 864us/step\n",
      "Validation Metrics:\n",
      "- Validation R^2: 0.677\n",
      "- Validation MAE: 117.43\n",
      "- Validation MSE: 33070.08\n",
      "- Validation MAPE: 0.12\n",
      "\n"
     ]
    }
   ],
   "source": [
    "# Inverse transform the predicted values and get validation MAE, MSE\n",
    "y_pred = SDNN_model.predict(X_val_d)\n",
    "y_pred_inv = global_targer_scaler.inverse_transform(y_pred)\n",
    "y_val_inv = global_targer_scaler.inverse_transform(y_val_d)\n",
    "\n",
    "SDNN_R2 = r2_score(y_val_inv, y_pred_inv)\n",
    "SDNN_val_mae = mean_absolute_error(y_val_inv, y_pred_inv)\n",
    "SDNN_val_mse = mean_squared_error(y_val_inv, y_pred_inv)\n",
    "SDNN_val_mape = mean_absolute_percentage_error(y_val_inv, y_pred_inv)\n",
    "\n",
    "print(f\"\"\"Validation Metrics:\n",
    "- Validation R^2: {SDNN_R2:.3f}\n",
    "- Validation MAE: {SDNN_val_mae:.2f}\n",
    "- Validation MSE: {SDNN_val_mse:.2f}\n",
    "- Validation MAPE: {SDNN_val_mape:.2f}\n",
    "\"\"\")"
   ]
  },
  {
   "cell_type": "markdown",
   "metadata": {},
   "source": [
    "# MODEL TYPE COMPARISON"
   ]
  },
  {
   "cell_type": "code",
   "execution_count": 46,
   "metadata": {},
   "outputs": [
    {
     "data": {
      "image/png": "[encoded data removed]",
      "text/plain": [
       "<Figure size 1600x1600 with 4 Axes>"
      ]
     },
     "metadata": {},
     "output_type": "display_data"
    }
   ],
   "source": [
    "# Get the Elastic Net metrics\n",
    "EN_data = pd.read_csv(\"model_output/elastic_net_results.csv\")\n",
    "LR_r2 = EN_data.loc[EN_data['TARGET'] == 'flights_ontime', 'R2'].values[0]\n",
    "LR_mae = EN_data.loc[EN_data['TARGET'] == 'flights_ontime', 'MAE'].values[0]\n",
    "LR_mse = EN_data.loc[EN_data['TARGET'] == 'flights_ontime', 'MSE'].values[0]\n",
    "LR_mape = EN_data.loc[EN_data['TARGET'] == 'flights_ontime', 'MAPE'].values[0]\n",
    "\n",
    "# Get the Time Series metrics\n",
    "TS_data = pd.read_csv(\"model_output/time_series_results.csv\")\n",
    "\n",
    "\n",
    "models = ['Linear Reg', 'One Neuron', 'Shallow \\nNeural Network']\n",
    "r2 = [LR_r2, OneNeuron_val_r2, SDNN_R2]\n",
    "mae = [LR_mae, OneNeuron_val_mae, SDNN_val_mae]\n",
    "mse = [LR_mse, OneNeuron_val_mse, SDNN_val_mse]\n",
    "mape = [LR_mape, OneNeuron_val_mape, SDNN_val_mape]\n",
    "\n",
    "# Sort by R^2\n",
    "sorted_indices_r2 = np.argsort(r2)[::-1]\n",
    "sorted_models_r2 = [models[i] for i in sorted_indices_r2]\n",
    "sorted_r2 = [r2[i] for i in sorted_indices_r2]\n",
    "\n",
    "# Sort by MAE\n",
    "sorted_indices_mae = np.argsort(mae)\n",
    "sorted_models_mae = [models[i] for i in sorted_indices_mae]\n",
    "sorted_mae = [mae[i] for i in sorted_indices_mae]\n",
    "\n",
    "# Sort by MSE\n",
    "sorted_indices_mse = np.argsort(mse)\n",
    "sorted_models_mse = [models[i] for i in sorted_indices_mse]\n",
    "sorted_mse = [mse[i] for i in sorted_indices_mse]\n",
    "\n",
    "# Sort by MAPE\n",
    "sorted_indices_mape = np.argsort(mape)\n",
    "sorted_models_mape = [models[i] for i in sorted_indices_mape]\n",
    "sorted_mape = [mape[i] for i in sorted_indices_mape]\n",
    "\n",
    "x = np.arange(len(models))\n",
    "bar_width = 0.35\n",
    "\n",
    "fix, axes = plt.subplots(nrows=2, ncols=2, figsize=(16, 16))\n",
    "\n",
    "# R^2\n",
    "bars_r2 = axes[0,0].bar(x, sorted_r2, bar_width, label='R^2')\n",
    "axes[0,0].set_xlabel('Models')\n",
    "axes[0,0].set_ylabel('R^2 Scores')\n",
    "axes[0,0].set_title('R^2 Scores by model')\n",
    "axes[0,0].set_xticks(x)\n",
    "axes[0,0].set_xticklabels(sorted_models_r2)\n",
    "\n",
    "# Add values above R^2 bars\n",
    "for bar, value in zip(bars_r2, sorted_r2):\n",
    "    height = bar.get_height()\n",
    "    axes[0,0].text(bar.get_x() + bar.get_width() / 2, height + 0.01, f'{value:.2f}', ha='center', va='bottom')\n",
    "\n",
    "# MAE\n",
    "bars_mae = axes[0,1].bar(x, sorted_mae, bar_width, label='MAE')\n",
    "axes[0,1].set_xlabel('Models')\n",
    "axes[0,1].set_ylabel('MAE Scores')\n",
    "axes[0,1].set_title('MAE Scores by model')\n",
    "axes[0,1].set_xticks(x)\n",
    "axes[0,1].set_xticklabels(sorted_models_mae)\n",
    "\n",
    "# Add values above MAE bars\n",
    "for bar, value in zip(bars_mae, sorted_mae):\n",
    "    height = bar.get_height()\n",
    "    axes[0,1].text(bar.get_x() + bar.get_width() / 2, height + 0.01, f'{value:.0f}', ha='center', va='bottom')\n",
    "\n",
    "# MSE\n",
    "bar_mse = axes[1,0].bar(x, sorted_mse, bar_width, label='MSE')\n",
    "axes[1,0].set_xlabel('Models')\n",
    "axes[1,0].set_ylabel('MSE Scores')\n",
    "axes[1,0].set_title('MSE Scores by model')\n",
    "axes[1,0].set_xticks(x)\n",
    "axes[1,0].set_xticklabels(sorted_models_mse)\n",
    "\n",
    "# Add values above MSE bars\n",
    "for bar, value in zip(bar_mse, sorted_mse):\n",
    "    height = bar.get_height()\n",
    "    axes[1,0].text(bar.get_x() + bar.get_width() / 2, height + 0.01, f'{value:.0f}', ha='center', va='bottom')\n",
    "\n",
    "# MAPE\n",
    "bar_mape = axes[1,1].bar(x, sorted_mape, bar_width, label='MAPE')\n",
    "axes[1,1].set_xlabel('Models')\n",
    "axes[1,1].set_ylabel('MAPE Scores')\n",
    "axes[1,1].set_title('MAPE Scores by model')\n",
    "axes[1,1].set_xticks(x)\n",
    "axes[1,1].set_xticklabels(sorted_models_mape)\n",
    "\n",
    "# Add values above MAPE bars\n",
    "for bar, value in zip(bar_mape, sorted_mape):\n",
    "    height = bar.get_height()\n",
    "    axes[1,1].text(bar.get_x() + bar.get_width() / 2, height + 0.001, f'{value:.2f}', ha='center', va='bottom')\n",
    "    \n",
    "\n",
    "plt.tight_layout\n",
    "plt.show()"
   ]
  },
  {
   "cell_type": "markdown",
   "metadata": {},
   "source": [
    "# SUMMARY & CONCLUSION\n",
    "\n",
    "Both single neuron and shallow dense neural networks were able to at least match, if not slightly improve upon, the prediction accuracy of mutlilple linear regression applied to ontime flights. Three different keras tuners were used to search hypermodels for optimum hyperparameters, including the number of hidden layers, number of neurons per layer, learning rate, dropout rate, regularization rate, and optimizer algorithm. The Hyperband tuner consistently found the best hyperparameters, but required the longest search time. The most influential hyperparameters proved to be the learning rate, regularization rates, and dropout rates. Eventually, I dropped the number of layers and optimizer type from the hyperparameter search in favor of a single hidden layer and the Adam optimimzer, as they generally showed the best results. One implication is that complex interactions that would be revealed by complex architectures are unlikely to figure prominently in this dataset.\n",
    "\n",
    "The TensorBoard module proved to be an effective tool for evaluating a model fit, easily displaying loss and metric plots that show if the model is over or under trained and if high bias or high variance exist. Plots for the bias and weights within each layer of a network help reveal the stability of the training process\n",
    "\n",
    "One major flaw in this analysis is the data splitting used for the RNN models. The data should have been split sequentially with training data comning before validation data conming before test data. Instead the data were shuffled before splitting, meaning that the each dataset contains non-sequential data, which is fine for linear regression and the dense neural networks, problematic for the RNN time series analysis. Additionally, I failed to take the additional steps to Window the data and create tensors for the inputs and labels of each window. Having discovered these mistakes near the submission deadline, I decided to write my summary and conclusion before attempting to fix the errors.  Now that I've produced a summary of the work to date, I will begin a new notebook, 5.DFW_daily_flights_LSTM that follows methods used in the [TensorFlow timeseries tutorial](https://www.tensorflow.org/tutorials/structured_data/time_series). I won't have time to write a separate summary and conclusion for this additional code, so please consider this to \"supplmental\" material."
   ]
  }
 ],
 "metadata": {
  "kernelspec": {
   "display_name": "prediction-rTmYhf-l",
   "language": "python",
   "name": "python3"
  },
  "language_info": {
   "codemirror_mode": {
    "name": "ipython",
    "version": 3
   },
   "file_extension": ".py",
   "mimetype": "text/x-python",
   "name": "python",
   "nbconvert_exporter": "python",
   "pygments_lexer": "ipython3",
   "version": "3.11.5"
  }
 },
 "nbformat": 4,
 "nbformat_minor": 2
}
